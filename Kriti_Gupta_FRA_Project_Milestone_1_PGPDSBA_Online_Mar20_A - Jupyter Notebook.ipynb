{
  "nbformat": 4,
  "nbformat_minor": 0,
  "metadata": {
    "colab": {
      "name": "Kriti Gupta_FRA Project - Milestone 1_PGPDSBA Online Mar20_A.ipynb",
      "provenance": []
    },
    "kernelspec": {
      "name": "python3",
      "display_name": "Python 3"
    }
  },
  "cells": [
    {
      "cell_type": "code",
      "metadata": {
        "colab": {
          "base_uri": "https://localhost:8080/"
        },
        "id": "O5qvCsRf9euB",
        "outputId": "62310504-ac5d-4653-f544-6bf5ff572178"
      },
      "source": [
        "import pandas as pd\r\n",
        "import numpy as np\r\n",
        "import seaborn as sns\r\n",
        "import matplotlib.pyplot as plt\r\n",
        "%matplotlib inline \r\n",
        "import statsmodels.api as sm\r\n",
        "from sklearn.model_selection import train_test_split"
      ],
      "execution_count": 1,
      "outputs": [
        {
          "output_type": "stream",
          "text": [
            "/usr/local/lib/python3.6/dist-packages/statsmodels/tools/_testing.py:19: FutureWarning: pandas.util.testing is deprecated. Use the functions in the public API at pandas.testing instead.\n",
            "  import pandas.util.testing as tm\n"
          ],
          "name": "stderr"
        }
      ]
    },
    {
      "cell_type": "code",
      "metadata": {
        "id": "xE0kiEk9-hj6"
      },
      "source": [
        "df = pd.read_excel('/content/drive/MyDrive/GL-DSBA-20-21/FRA/Company_Data2015-1.xlsx')"
      ],
      "execution_count": 2,
      "outputs": []
    },
    {
      "cell_type": "code",
      "metadata": {
        "colab": {
          "base_uri": "https://localhost:8080/",
          "height": 343
        },
        "id": "fO320-eS-rB6",
        "outputId": "48306f66-89b2-4910-c036-8899be8762be"
      },
      "source": [
        "df.head()"
      ],
      "execution_count": 3,
      "outputs": [
        {
          "output_type": "execute_result",
          "data": {
            "text/html": [
              "<div>\n",
              "<style scoped>\n",
              "    .dataframe tbody tr th:only-of-type {\n",
              "        vertical-align: middle;\n",
              "    }\n",
              "\n",
              "    .dataframe tbody tr th {\n",
              "        vertical-align: top;\n",
              "    }\n",
              "\n",
              "    .dataframe thead th {\n",
              "        text-align: right;\n",
              "    }\n",
              "</style>\n",
              "<table border=\"1\" class=\"dataframe\">\n",
              "  <thead>\n",
              "    <tr style=\"text-align: right;\">\n",
              "      <th></th>\n",
              "      <th>Co_Code</th>\n",
              "      <th>Co_Name</th>\n",
              "      <th>Networth Next Year</th>\n",
              "      <th>Equity Paid Up</th>\n",
              "      <th>Networth</th>\n",
              "      <th>Capital Employed</th>\n",
              "      <th>Total Debt</th>\n",
              "      <th>Gross Block</th>\n",
              "      <th>Net Working Capital</th>\n",
              "      <th>Current Assets</th>\n",
              "      <th>Current Liabilities and Provisions</th>\n",
              "      <th>Total Assets/Liabilities</th>\n",
              "      <th>Gross Sales</th>\n",
              "      <th>Net Sales</th>\n",
              "      <th>Other Income</th>\n",
              "      <th>Value Of Output</th>\n",
              "      <th>Cost of Production</th>\n",
              "      <th>Selling Cost</th>\n",
              "      <th>PBIDT</th>\n",
              "      <th>PBDT</th>\n",
              "      <th>PBIT</th>\n",
              "      <th>PBT</th>\n",
              "      <th>PAT</th>\n",
              "      <th>Adjusted PAT</th>\n",
              "      <th>CP</th>\n",
              "      <th>Revenue earnings in forex</th>\n",
              "      <th>Revenue expenses in forex</th>\n",
              "      <th>Capital expenses in forex</th>\n",
              "      <th>Book Value (Unit Curr)</th>\n",
              "      <th>Book Value (Adj.) (Unit Curr)</th>\n",
              "      <th>Market Capitalisation</th>\n",
              "      <th>CEPS (annualised) (Unit Curr)</th>\n",
              "      <th>Cash Flow From Operating Activities</th>\n",
              "      <th>Cash Flow From Investing Activities</th>\n",
              "      <th>Cash Flow From Financing Activities</th>\n",
              "      <th>ROG-Net Worth (%)</th>\n",
              "      <th>ROG-Capital Employed (%)</th>\n",
              "      <th>ROG-Gross Block (%)</th>\n",
              "      <th>ROG-Gross Sales (%)</th>\n",
              "      <th>ROG-Net Sales (%)</th>\n",
              "      <th>ROG-Cost of Production (%)</th>\n",
              "      <th>ROG-Total Assets (%)</th>\n",
              "      <th>ROG-PBIDT (%)</th>\n",
              "      <th>ROG-PBDT (%)</th>\n",
              "      <th>ROG-PBIT (%)</th>\n",
              "      <th>ROG-PBT (%)</th>\n",
              "      <th>ROG-PAT (%)</th>\n",
              "      <th>ROG-CP (%)</th>\n",
              "      <th>ROG-Revenue earnings in forex (%)</th>\n",
              "      <th>ROG-Revenue expenses in forex (%)</th>\n",
              "      <th>ROG-Market Capitalisation (%)</th>\n",
              "      <th>Current Ratio[Latest]</th>\n",
              "      <th>Fixed Assets Ratio[Latest]</th>\n",
              "      <th>Inventory Ratio[Latest]</th>\n",
              "      <th>Debtors Ratio[Latest]</th>\n",
              "      <th>Total Asset Turnover Ratio[Latest]</th>\n",
              "      <th>Interest Cover Ratio[Latest]</th>\n",
              "      <th>PBIDTM (%)[Latest]</th>\n",
              "      <th>PBITM (%)[Latest]</th>\n",
              "      <th>PBDTM (%)[Latest]</th>\n",
              "      <th>CPM (%)[Latest]</th>\n",
              "      <th>APATM (%)[Latest]</th>\n",
              "      <th>Debtors Velocity (Days)</th>\n",
              "      <th>Creditors Velocity (Days)</th>\n",
              "      <th>Inventory Velocity (Days)</th>\n",
              "      <th>Value of Output/Total Assets</th>\n",
              "      <th>Value of Output/Gross Block</th>\n",
              "    </tr>\n",
              "  </thead>\n",
              "  <tbody>\n",
              "    <tr>\n",
              "      <th>0</th>\n",
              "      <td>16974</td>\n",
              "      <td>Hind.Cables</td>\n",
              "      <td>-8021.60</td>\n",
              "      <td>419.36</td>\n",
              "      <td>-7027.48</td>\n",
              "      <td>-1007.24</td>\n",
              "      <td>5936.03</td>\n",
              "      <td>474.30</td>\n",
              "      <td>-1076.34</td>\n",
              "      <td>40.50</td>\n",
              "      <td>1116.85</td>\n",
              "      <td>109.60</td>\n",
              "      <td>0.00</td>\n",
              "      <td>0.00</td>\n",
              "      <td>7.60</td>\n",
              "      <td>-0.07</td>\n",
              "      <td>137.67</td>\n",
              "      <td>0.00</td>\n",
              "      <td>-179.06</td>\n",
              "      <td>-926.52</td>\n",
              "      <td>-185.53</td>\n",
              "      <td>-932.99</td>\n",
              "      <td>-932.99</td>\n",
              "      <td>-937.85</td>\n",
              "      <td>-926.52</td>\n",
              "      <td>0.00</td>\n",
              "      <td>0.00</td>\n",
              "      <td>0.00</td>\n",
              "      <td>-167.58</td>\n",
              "      <td>-167.58</td>\n",
              "      <td>0.00</td>\n",
              "      <td>-22.09</td>\n",
              "      <td>-102.47</td>\n",
              "      <td>1.46</td>\n",
              "      <td>92.58</td>\n",
              "      <td>-15.31</td>\n",
              "      <td>-20.76</td>\n",
              "      <td>-9.75</td>\n",
              "      <td>0.00</td>\n",
              "      <td>0.00</td>\n",
              "      <td>1.38</td>\n",
              "      <td>-25.75</td>\n",
              "      <td>5.23</td>\n",
              "      <td>-19.29</td>\n",
              "      <td>4.43</td>\n",
              "      <td>-19.33</td>\n",
              "      <td>-19.33</td>\n",
              "      <td>-19.29</td>\n",
              "      <td>0.00</td>\n",
              "      <td>0.00</td>\n",
              "      <td>0.00</td>\n",
              "      <td>0.02</td>\n",
              "      <td>0.00</td>\n",
              "      <td>0.00</td>\n",
              "      <td>0.00</td>\n",
              "      <td>0.00</td>\n",
              "      <td>-0.20</td>\n",
              "      <td>0.00</td>\n",
              "      <td>0.00</td>\n",
              "      <td>0.00</td>\n",
              "      <td>0.00</td>\n",
              "      <td>0.00</td>\n",
              "      <td>0</td>\n",
              "      <td>0</td>\n",
              "      <td>45.0</td>\n",
              "      <td>0.00</td>\n",
              "      <td>0.00</td>\n",
              "    </tr>\n",
              "    <tr>\n",
              "      <th>1</th>\n",
              "      <td>21214</td>\n",
              "      <td>Tata Tele. Mah.</td>\n",
              "      <td>-3986.19</td>\n",
              "      <td>1954.93</td>\n",
              "      <td>-2968.08</td>\n",
              "      <td>4458.20</td>\n",
              "      <td>7410.18</td>\n",
              "      <td>9070.86</td>\n",
              "      <td>-1098.88</td>\n",
              "      <td>486.86</td>\n",
              "      <td>1585.74</td>\n",
              "      <td>6043.94</td>\n",
              "      <td>2892.73</td>\n",
              "      <td>2892.73</td>\n",
              "      <td>46.27</td>\n",
              "      <td>2900.71</td>\n",
              "      <td>2572.46</td>\n",
              "      <td>40.51</td>\n",
              "      <td>646.46</td>\n",
              "      <td>-4.32</td>\n",
              "      <td>35.53</td>\n",
              "      <td>-615.25</td>\n",
              "      <td>-615.25</td>\n",
              "      <td>-617.14</td>\n",
              "      <td>-4.32</td>\n",
              "      <td>6.35</td>\n",
              "      <td>143.42</td>\n",
              "      <td>141.17</td>\n",
              "      <td>-15.18</td>\n",
              "      <td>-15.18</td>\n",
              "      <td>1544.39</td>\n",
              "      <td>-0.02</td>\n",
              "      <td>635.91</td>\n",
              "      <td>-785.00</td>\n",
              "      <td>176.93</td>\n",
              "      <td>-26.15</td>\n",
              "      <td>6.30</td>\n",
              "      <td>3.17</td>\n",
              "      <td>5.92</td>\n",
              "      <td>5.92</td>\n",
              "      <td>13.16</td>\n",
              "      <td>6.66</td>\n",
              "      <td>5.24</td>\n",
              "      <td>-108.77</td>\n",
              "      <td>614.89</td>\n",
              "      <td>-9.85</td>\n",
              "      <td>-9.85</td>\n",
              "      <td>-108.77</td>\n",
              "      <td>1.93</td>\n",
              "      <td>34.00</td>\n",
              "      <td>6.61</td>\n",
              "      <td>0.08</td>\n",
              "      <td>0.25</td>\n",
              "      <td>804.44</td>\n",
              "      <td>10.35</td>\n",
              "      <td>0.30</td>\n",
              "      <td>-0.84</td>\n",
              "      <td>-10.30</td>\n",
              "      <td>-39.74</td>\n",
              "      <td>-57.74</td>\n",
              "      <td>-57.74</td>\n",
              "      <td>-87.18</td>\n",
              "      <td>29</td>\n",
              "      <td>101</td>\n",
              "      <td>2.0</td>\n",
              "      <td>0.31</td>\n",
              "      <td>0.24</td>\n",
              "    </tr>\n",
              "    <tr>\n",
              "      <th>2</th>\n",
              "      <td>14852</td>\n",
              "      <td>ABG Shipyard</td>\n",
              "      <td>-3192.58</td>\n",
              "      <td>53.84</td>\n",
              "      <td>506.86</td>\n",
              "      <td>7714.68</td>\n",
              "      <td>6944.54</td>\n",
              "      <td>1281.54</td>\n",
              "      <td>4496.25</td>\n",
              "      <td>9097.64</td>\n",
              "      <td>4601.39</td>\n",
              "      <td>12316.07</td>\n",
              "      <td>392.13</td>\n",
              "      <td>392.13</td>\n",
              "      <td>9.55</td>\n",
              "      <td>301.16</td>\n",
              "      <td>408.51</td>\n",
              "      <td>54.83</td>\n",
              "      <td>-281.92</td>\n",
              "      <td>-1086.71</td>\n",
              "      <td>-381.10</td>\n",
              "      <td>-1185.89</td>\n",
              "      <td>-897.70</td>\n",
              "      <td>-873.39</td>\n",
              "      <td>-798.52</td>\n",
              "      <td>0.00</td>\n",
              "      <td>86.36</td>\n",
              "      <td>2.27</td>\n",
              "      <td>94.14</td>\n",
              "      <td>94.14</td>\n",
              "      <td>1220.81</td>\n",
              "      <td>-148.31</td>\n",
              "      <td>-873.40</td>\n",
              "      <td>-458.27</td>\n",
              "      <td>1187.51</td>\n",
              "      <td>-61.86</td>\n",
              "      <td>15.66</td>\n",
              "      <td>-2.07</td>\n",
              "      <td>-75.87</td>\n",
              "      <td>-75.87</td>\n",
              "      <td>-69.93</td>\n",
              "      <td>-0.78</td>\n",
              "      <td>-169.69</td>\n",
              "      <td>-431.68</td>\n",
              "      <td>-221.85</td>\n",
              "      <td>-300.41</td>\n",
              "      <td>-350.43</td>\n",
              "      <td>-642.67</td>\n",
              "      <td>-100.00</td>\n",
              "      <td>-81.21</td>\n",
              "      <td>-6.31</td>\n",
              "      <td>1.06</td>\n",
              "      <td>0.03</td>\n",
              "      <td>0.01</td>\n",
              "      <td>0.42</td>\n",
              "      <td>0.00</td>\n",
              "      <td>-2.21</td>\n",
              "      <td>-5279.14</td>\n",
              "      <td>-5516.98</td>\n",
              "      <td>-7780.25</td>\n",
              "      <td>-7723.67</td>\n",
              "      <td>-7961.51</td>\n",
              "      <td>97</td>\n",
              "      <td>558</td>\n",
              "      <td>0.0</td>\n",
              "      <td>-0.03</td>\n",
              "      <td>-0.26</td>\n",
              "    </tr>\n",
              "    <tr>\n",
              "      <th>3</th>\n",
              "      <td>2439</td>\n",
              "      <td>GTL</td>\n",
              "      <td>-3054.51</td>\n",
              "      <td>157.30</td>\n",
              "      <td>-623.49</td>\n",
              "      <td>2353.88</td>\n",
              "      <td>2326.05</td>\n",
              "      <td>1033.69</td>\n",
              "      <td>-2612.42</td>\n",
              "      <td>1034.12</td>\n",
              "      <td>3646.54</td>\n",
              "      <td>6000.42</td>\n",
              "      <td>1354.39</td>\n",
              "      <td>1354.39</td>\n",
              "      <td>223.85</td>\n",
              "      <td>1350.14</td>\n",
              "      <td>1326.99</td>\n",
              "      <td>3.34</td>\n",
              "      <td>-213.01</td>\n",
              "      <td>-677.57</td>\n",
              "      <td>-336.73</td>\n",
              "      <td>-801.29</td>\n",
              "      <td>-801.29</td>\n",
              "      <td>-770.18</td>\n",
              "      <td>-677.57</td>\n",
              "      <td>0.89</td>\n",
              "      <td>28.88</td>\n",
              "      <td>0.00</td>\n",
              "      <td>-39.64</td>\n",
              "      <td>-39.64</td>\n",
              "      <td>194.27</td>\n",
              "      <td>-43.08</td>\n",
              "      <td>324.47</td>\n",
              "      <td>17.31</td>\n",
              "      <td>-412.55</td>\n",
              "      <td>-450.67</td>\n",
              "      <td>-40.84</td>\n",
              "      <td>-1.80</td>\n",
              "      <td>8.33</td>\n",
              "      <td>8.33</td>\n",
              "      <td>16.59</td>\n",
              "      <td>-10.12</td>\n",
              "      <td>-203.84</td>\n",
              "      <td>-102.72</td>\n",
              "      <td>-455.28</td>\n",
              "      <td>-80.23</td>\n",
              "      <td>-70.57</td>\n",
              "      <td>-88.52</td>\n",
              "      <td>-52.91</td>\n",
              "      <td>-33.85</td>\n",
              "      <td>-13.94</td>\n",
              "      <td>0.09</td>\n",
              "      <td>5.08</td>\n",
              "      <td>411.15</td>\n",
              "      <td>9.26</td>\n",
              "      <td>0.00</td>\n",
              "      <td>-0.16</td>\n",
              "      <td>-3.33</td>\n",
              "      <td>-7.21</td>\n",
              "      <td>-48.13</td>\n",
              "      <td>-47.70</td>\n",
              "      <td>-51.58</td>\n",
              "      <td>93</td>\n",
              "      <td>63</td>\n",
              "      <td>2.0</td>\n",
              "      <td>0.24</td>\n",
              "      <td>1.90</td>\n",
              "    </tr>\n",
              "    <tr>\n",
              "      <th>4</th>\n",
              "      <td>23505</td>\n",
              "      <td>Bharati Defence</td>\n",
              "      <td>-2967.36</td>\n",
              "      <td>50.30</td>\n",
              "      <td>-1070.83</td>\n",
              "      <td>4675.33</td>\n",
              "      <td>5740.90</td>\n",
              "      <td>1084.20</td>\n",
              "      <td>1836.23</td>\n",
              "      <td>4685.81</td>\n",
              "      <td>2849.58</td>\n",
              "      <td>7524.91</td>\n",
              "      <td>38.72</td>\n",
              "      <td>38.72</td>\n",
              "      <td>9.82</td>\n",
              "      <td>38.72</td>\n",
              "      <td>186.29</td>\n",
              "      <td>1.97</td>\n",
              "      <td>-647.86</td>\n",
              "      <td>-944.42</td>\n",
              "      <td>-710.13</td>\n",
              "      <td>-1006.69</td>\n",
              "      <td>-864.58</td>\n",
              "      <td>-327.77</td>\n",
              "      <td>-802.31</td>\n",
              "      <td>0.00</td>\n",
              "      <td>15.62</td>\n",
              "      <td>0.00</td>\n",
              "      <td>-212.89</td>\n",
              "      <td>-212.89</td>\n",
              "      <td>113.68</td>\n",
              "      <td>-159.50</td>\n",
              "      <td>-191.54</td>\n",
              "      <td>61.34</td>\n",
              "      <td>143.65</td>\n",
              "      <td>-559.83</td>\n",
              "      <td>-11.76</td>\n",
              "      <td>0.34</td>\n",
              "      <td>-80.61</td>\n",
              "      <td>-80.61</td>\n",
              "      <td>-48.80</td>\n",
              "      <td>-5.81</td>\n",
              "      <td>-40.07</td>\n",
              "      <td>3.28</td>\n",
              "      <td>-38.72</td>\n",
              "      <td>1.87</td>\n",
              "      <td>-2.59</td>\n",
              "      <td>-1.13</td>\n",
              "      <td>-100.00</td>\n",
              "      <td>-91.17</td>\n",
              "      <td>-12.91</td>\n",
              "      <td>0.50</td>\n",
              "      <td>0.05</td>\n",
              "      <td>0.02</td>\n",
              "      <td>1.28</td>\n",
              "      <td>0.01</td>\n",
              "      <td>-0.73</td>\n",
              "      <td>-295.55</td>\n",
              "      <td>-400.55</td>\n",
              "      <td>-845.88</td>\n",
              "      <td>379.79</td>\n",
              "      <td>274.79</td>\n",
              "      <td>3887</td>\n",
              "      <td>346</td>\n",
              "      <td>0.0</td>\n",
              "      <td>0.01</td>\n",
              "      <td>0.05</td>\n",
              "    </tr>\n",
              "  </tbody>\n",
              "</table>\n",
              "</div>"
            ],
            "text/plain": [
              "   Co_Code  ... Value of Output/Gross Block\n",
              "0    16974  ...                        0.00\n",
              "1    21214  ...                        0.24\n",
              "2    14852  ...                       -0.26\n",
              "3     2439  ...                        1.90\n",
              "4    23505  ...                        0.05\n",
              "\n",
              "[5 rows x 67 columns]"
            ]
          },
          "metadata": {
            "tags": []
          },
          "execution_count": 3
        }
      ]
    },
    {
      "cell_type": "code",
      "metadata": {
        "colab": {
          "base_uri": "https://localhost:8080/"
        },
        "id": "0ZG87Yqo__up",
        "outputId": "a4e00727-1591-45ec-ed4f-f688cce91bbd"
      },
      "source": [
        "df.columns"
      ],
      "execution_count": 4,
      "outputs": [
        {
          "output_type": "execute_result",
          "data": {
            "text/plain": [
              "Index(['Co_Code', 'Co_Name', 'Networth Next Year', 'Equity Paid Up',\n",
              "       'Networth', 'Capital Employed', 'Total Debt', 'Gross Block ',\n",
              "       'Net Working Capital ', 'Current Assets ',\n",
              "       'Current Liabilities and Provisions ', 'Total Assets/Liabilities ',\n",
              "       'Gross Sales', 'Net Sales', 'Other Income', 'Value Of Output',\n",
              "       'Cost of Production', 'Selling Cost', 'PBIDT', 'PBDT', 'PBIT', 'PBT',\n",
              "       'PAT', 'Adjusted PAT', 'CP', 'Revenue earnings in forex',\n",
              "       'Revenue expenses in forex', 'Capital expenses in forex',\n",
              "       'Book Value (Unit Curr)', 'Book Value (Adj.) (Unit Curr)',\n",
              "       'Market Capitalisation', 'CEPS (annualised) (Unit Curr)',\n",
              "       'Cash Flow From Operating Activities',\n",
              "       'Cash Flow From Investing Activities',\n",
              "       'Cash Flow From Financing Activities', 'ROG-Net Worth (%)',\n",
              "       'ROG-Capital Employed (%)', 'ROG-Gross Block (%)',\n",
              "       'ROG-Gross Sales (%)', 'ROG-Net Sales (%)',\n",
              "       'ROG-Cost of Production (%)', 'ROG-Total Assets (%)', 'ROG-PBIDT (%)',\n",
              "       'ROG-PBDT (%)', 'ROG-PBIT (%)', 'ROG-PBT (%)', 'ROG-PAT (%)',\n",
              "       'ROG-CP (%)', 'ROG-Revenue earnings in forex (%)',\n",
              "       'ROG-Revenue expenses in forex (%)', 'ROG-Market Capitalisation (%)',\n",
              "       'Current Ratio[Latest]', 'Fixed Assets Ratio[Latest]',\n",
              "       'Inventory Ratio[Latest]', 'Debtors Ratio[Latest]',\n",
              "       'Total Asset Turnover Ratio[Latest]', 'Interest Cover Ratio[Latest]',\n",
              "       'PBIDTM (%)[Latest]', 'PBITM (%)[Latest]', 'PBDTM (%)[Latest]',\n",
              "       'CPM (%)[Latest]', 'APATM (%)[Latest]', 'Debtors Velocity (Days)',\n",
              "       'Creditors Velocity (Days)', 'Inventory Velocity (Days)',\n",
              "       'Value of Output/Total Assets', 'Value of Output/Gross Block'],\n",
              "      dtype='object')"
            ]
          },
          "metadata": {
            "tags": []
          },
          "execution_count": 4
        }
      ]
    },
    {
      "cell_type": "code",
      "metadata": {
        "id": "oOgnlM1B-vsp"
      },
      "source": [
        "df.columns = df.columns.str.strip().str.replace(' ', '_').str.replace('(', '').str.replace(')', '').str.replace('[', '_').str.replace(']', '').str.replace('%', 'perc').str.replace('/','_by_').str.replace('&','and')"
      ],
      "execution_count": 5,
      "outputs": []
    },
    {
      "cell_type": "code",
      "metadata": {
        "id": "fUpRtOrat9LN"
      },
      "source": [
        "df.columns = df.columns.str.replace('ROG-', 'ROG_')"
      ],
      "execution_count": 6,
      "outputs": []
    },
    {
      "cell_type": "code",
      "metadata": {
        "colab": {
          "base_uri": "https://localhost:8080/",
          "height": 267
        },
        "id": "9fSq52y7_F5Z",
        "outputId": "ca60c3cf-b4c6-4ce2-8c39-44b74546dd1c"
      },
      "source": [
        "df.head()"
      ],
      "execution_count": 7,
      "outputs": [
        {
          "output_type": "execute_result",
          "data": {
            "text/html": [
              "<div>\n",
              "<style scoped>\n",
              "    .dataframe tbody tr th:only-of-type {\n",
              "        vertical-align: middle;\n",
              "    }\n",
              "\n",
              "    .dataframe tbody tr th {\n",
              "        vertical-align: top;\n",
              "    }\n",
              "\n",
              "    .dataframe thead th {\n",
              "        text-align: right;\n",
              "    }\n",
              "</style>\n",
              "<table border=\"1\" class=\"dataframe\">\n",
              "  <thead>\n",
              "    <tr style=\"text-align: right;\">\n",
              "      <th></th>\n",
              "      <th>Co_Code</th>\n",
              "      <th>Co_Name</th>\n",
              "      <th>Networth_Next_Year</th>\n",
              "      <th>Equity_Paid_Up</th>\n",
              "      <th>Networth</th>\n",
              "      <th>Capital_Employed</th>\n",
              "      <th>Total_Debt</th>\n",
              "      <th>Gross_Block</th>\n",
              "      <th>Net_Working_Capital</th>\n",
              "      <th>Current_Assets</th>\n",
              "      <th>Current_Liabilities_and_Provisions</th>\n",
              "      <th>Total_Assets_by_Liabilities</th>\n",
              "      <th>Gross_Sales</th>\n",
              "      <th>Net_Sales</th>\n",
              "      <th>Other_Income</th>\n",
              "      <th>Value_Of_Output</th>\n",
              "      <th>Cost_of_Production</th>\n",
              "      <th>Selling_Cost</th>\n",
              "      <th>PBIDT</th>\n",
              "      <th>PBDT</th>\n",
              "      <th>PBIT</th>\n",
              "      <th>PBT</th>\n",
              "      <th>PAT</th>\n",
              "      <th>Adjusted_PAT</th>\n",
              "      <th>CP</th>\n",
              "      <th>Revenue_earnings_in_forex</th>\n",
              "      <th>Revenue_expenses_in_forex</th>\n",
              "      <th>Capital_expenses_in_forex</th>\n",
              "      <th>Book_Value_Unit_Curr</th>\n",
              "      <th>Book_Value_Adj._Unit_Curr</th>\n",
              "      <th>Market_Capitalisation</th>\n",
              "      <th>CEPS_annualised_Unit_Curr</th>\n",
              "      <th>Cash_Flow_From_Operating_Activities</th>\n",
              "      <th>Cash_Flow_From_Investing_Activities</th>\n",
              "      <th>Cash_Flow_From_Financing_Activities</th>\n",
              "      <th>ROG_Net_Worth_perc</th>\n",
              "      <th>ROG_Capital_Employed_perc</th>\n",
              "      <th>ROG_Gross_Block_perc</th>\n",
              "      <th>ROG_Gross_Sales_perc</th>\n",
              "      <th>ROG_Net_Sales_perc</th>\n",
              "      <th>ROG_Cost_of_Production_perc</th>\n",
              "      <th>ROG_Total_Assets_perc</th>\n",
              "      <th>ROG_PBIDT_perc</th>\n",
              "      <th>ROG_PBDT_perc</th>\n",
              "      <th>ROG_PBIT_perc</th>\n",
              "      <th>ROG_PBT_perc</th>\n",
              "      <th>ROG_PAT_perc</th>\n",
              "      <th>ROG_CP_perc</th>\n",
              "      <th>ROG_Revenue_earnings_in_forex_perc</th>\n",
              "      <th>ROG_Revenue_expenses_in_forex_perc</th>\n",
              "      <th>ROG_Market_Capitalisation_perc</th>\n",
              "      <th>Current_Ratio_Latest</th>\n",
              "      <th>Fixed_Assets_Ratio_Latest</th>\n",
              "      <th>Inventory_Ratio_Latest</th>\n",
              "      <th>Debtors_Ratio_Latest</th>\n",
              "      <th>Total_Asset_Turnover_Ratio_Latest</th>\n",
              "      <th>Interest_Cover_Ratio_Latest</th>\n",
              "      <th>PBIDTM_perc_Latest</th>\n",
              "      <th>PBITM_perc_Latest</th>\n",
              "      <th>PBDTM_perc_Latest</th>\n",
              "      <th>CPM_perc_Latest</th>\n",
              "      <th>APATM_perc_Latest</th>\n",
              "      <th>Debtors_Velocity_Days</th>\n",
              "      <th>Creditors_Velocity_Days</th>\n",
              "      <th>Inventory_Velocity_Days</th>\n",
              "      <th>Value_of_Output_by_Total_Assets</th>\n",
              "      <th>Value_of_Output_by_Gross_Block</th>\n",
              "    </tr>\n",
              "  </thead>\n",
              "  <tbody>\n",
              "    <tr>\n",
              "      <th>0</th>\n",
              "      <td>16974</td>\n",
              "      <td>Hind.Cables</td>\n",
              "      <td>-8021.60</td>\n",
              "      <td>419.36</td>\n",
              "      <td>-7027.48</td>\n",
              "      <td>-1007.24</td>\n",
              "      <td>5936.03</td>\n",
              "      <td>474.30</td>\n",
              "      <td>-1076.34</td>\n",
              "      <td>40.50</td>\n",
              "      <td>1116.85</td>\n",
              "      <td>109.60</td>\n",
              "      <td>0.00</td>\n",
              "      <td>0.00</td>\n",
              "      <td>7.60</td>\n",
              "      <td>-0.07</td>\n",
              "      <td>137.67</td>\n",
              "      <td>0.00</td>\n",
              "      <td>-179.06</td>\n",
              "      <td>-926.52</td>\n",
              "      <td>-185.53</td>\n",
              "      <td>-932.99</td>\n",
              "      <td>-932.99</td>\n",
              "      <td>-937.85</td>\n",
              "      <td>-926.52</td>\n",
              "      <td>0.00</td>\n",
              "      <td>0.00</td>\n",
              "      <td>0.00</td>\n",
              "      <td>-167.58</td>\n",
              "      <td>-167.58</td>\n",
              "      <td>0.00</td>\n",
              "      <td>-22.09</td>\n",
              "      <td>-102.47</td>\n",
              "      <td>1.46</td>\n",
              "      <td>92.58</td>\n",
              "      <td>-15.31</td>\n",
              "      <td>-20.76</td>\n",
              "      <td>-9.75</td>\n",
              "      <td>0.00</td>\n",
              "      <td>0.00</td>\n",
              "      <td>1.38</td>\n",
              "      <td>-25.75</td>\n",
              "      <td>5.23</td>\n",
              "      <td>-19.29</td>\n",
              "      <td>4.43</td>\n",
              "      <td>-19.33</td>\n",
              "      <td>-19.33</td>\n",
              "      <td>-19.29</td>\n",
              "      <td>0.00</td>\n",
              "      <td>0.00</td>\n",
              "      <td>0.00</td>\n",
              "      <td>0.02</td>\n",
              "      <td>0.00</td>\n",
              "      <td>0.00</td>\n",
              "      <td>0.00</td>\n",
              "      <td>0.00</td>\n",
              "      <td>-0.20</td>\n",
              "      <td>0.00</td>\n",
              "      <td>0.00</td>\n",
              "      <td>0.00</td>\n",
              "      <td>0.00</td>\n",
              "      <td>0.00</td>\n",
              "      <td>0</td>\n",
              "      <td>0</td>\n",
              "      <td>45.0</td>\n",
              "      <td>0.00</td>\n",
              "      <td>0.00</td>\n",
              "    </tr>\n",
              "    <tr>\n",
              "      <th>1</th>\n",
              "      <td>21214</td>\n",
              "      <td>Tata Tele. Mah.</td>\n",
              "      <td>-3986.19</td>\n",
              "      <td>1954.93</td>\n",
              "      <td>-2968.08</td>\n",
              "      <td>4458.20</td>\n",
              "      <td>7410.18</td>\n",
              "      <td>9070.86</td>\n",
              "      <td>-1098.88</td>\n",
              "      <td>486.86</td>\n",
              "      <td>1585.74</td>\n",
              "      <td>6043.94</td>\n",
              "      <td>2892.73</td>\n",
              "      <td>2892.73</td>\n",
              "      <td>46.27</td>\n",
              "      <td>2900.71</td>\n",
              "      <td>2572.46</td>\n",
              "      <td>40.51</td>\n",
              "      <td>646.46</td>\n",
              "      <td>-4.32</td>\n",
              "      <td>35.53</td>\n",
              "      <td>-615.25</td>\n",
              "      <td>-615.25</td>\n",
              "      <td>-617.14</td>\n",
              "      <td>-4.32</td>\n",
              "      <td>6.35</td>\n",
              "      <td>143.42</td>\n",
              "      <td>141.17</td>\n",
              "      <td>-15.18</td>\n",
              "      <td>-15.18</td>\n",
              "      <td>1544.39</td>\n",
              "      <td>-0.02</td>\n",
              "      <td>635.91</td>\n",
              "      <td>-785.00</td>\n",
              "      <td>176.93</td>\n",
              "      <td>-26.15</td>\n",
              "      <td>6.30</td>\n",
              "      <td>3.17</td>\n",
              "      <td>5.92</td>\n",
              "      <td>5.92</td>\n",
              "      <td>13.16</td>\n",
              "      <td>6.66</td>\n",
              "      <td>5.24</td>\n",
              "      <td>-108.77</td>\n",
              "      <td>614.89</td>\n",
              "      <td>-9.85</td>\n",
              "      <td>-9.85</td>\n",
              "      <td>-108.77</td>\n",
              "      <td>1.93</td>\n",
              "      <td>34.00</td>\n",
              "      <td>6.61</td>\n",
              "      <td>0.08</td>\n",
              "      <td>0.25</td>\n",
              "      <td>804.44</td>\n",
              "      <td>10.35</td>\n",
              "      <td>0.30</td>\n",
              "      <td>-0.84</td>\n",
              "      <td>-10.30</td>\n",
              "      <td>-39.74</td>\n",
              "      <td>-57.74</td>\n",
              "      <td>-57.74</td>\n",
              "      <td>-87.18</td>\n",
              "      <td>29</td>\n",
              "      <td>101</td>\n",
              "      <td>2.0</td>\n",
              "      <td>0.31</td>\n",
              "      <td>0.24</td>\n",
              "    </tr>\n",
              "    <tr>\n",
              "      <th>2</th>\n",
              "      <td>14852</td>\n",
              "      <td>ABG Shipyard</td>\n",
              "      <td>-3192.58</td>\n",
              "      <td>53.84</td>\n",
              "      <td>506.86</td>\n",
              "      <td>7714.68</td>\n",
              "      <td>6944.54</td>\n",
              "      <td>1281.54</td>\n",
              "      <td>4496.25</td>\n",
              "      <td>9097.64</td>\n",
              "      <td>4601.39</td>\n",
              "      <td>12316.07</td>\n",
              "      <td>392.13</td>\n",
              "      <td>392.13</td>\n",
              "      <td>9.55</td>\n",
              "      <td>301.16</td>\n",
              "      <td>408.51</td>\n",
              "      <td>54.83</td>\n",
              "      <td>-281.92</td>\n",
              "      <td>-1086.71</td>\n",
              "      <td>-381.10</td>\n",
              "      <td>-1185.89</td>\n",
              "      <td>-897.70</td>\n",
              "      <td>-873.39</td>\n",
              "      <td>-798.52</td>\n",
              "      <td>0.00</td>\n",
              "      <td>86.36</td>\n",
              "      <td>2.27</td>\n",
              "      <td>94.14</td>\n",
              "      <td>94.14</td>\n",
              "      <td>1220.81</td>\n",
              "      <td>-148.31</td>\n",
              "      <td>-873.40</td>\n",
              "      <td>-458.27</td>\n",
              "      <td>1187.51</td>\n",
              "      <td>-61.86</td>\n",
              "      <td>15.66</td>\n",
              "      <td>-2.07</td>\n",
              "      <td>-75.87</td>\n",
              "      <td>-75.87</td>\n",
              "      <td>-69.93</td>\n",
              "      <td>-0.78</td>\n",
              "      <td>-169.69</td>\n",
              "      <td>-431.68</td>\n",
              "      <td>-221.85</td>\n",
              "      <td>-300.41</td>\n",
              "      <td>-350.43</td>\n",
              "      <td>-642.67</td>\n",
              "      <td>-100.00</td>\n",
              "      <td>-81.21</td>\n",
              "      <td>-6.31</td>\n",
              "      <td>1.06</td>\n",
              "      <td>0.03</td>\n",
              "      <td>0.01</td>\n",
              "      <td>0.42</td>\n",
              "      <td>0.00</td>\n",
              "      <td>-2.21</td>\n",
              "      <td>-5279.14</td>\n",
              "      <td>-5516.98</td>\n",
              "      <td>-7780.25</td>\n",
              "      <td>-7723.67</td>\n",
              "      <td>-7961.51</td>\n",
              "      <td>97</td>\n",
              "      <td>558</td>\n",
              "      <td>0.0</td>\n",
              "      <td>-0.03</td>\n",
              "      <td>-0.26</td>\n",
              "    </tr>\n",
              "    <tr>\n",
              "      <th>3</th>\n",
              "      <td>2439</td>\n",
              "      <td>GTL</td>\n",
              "      <td>-3054.51</td>\n",
              "      <td>157.30</td>\n",
              "      <td>-623.49</td>\n",
              "      <td>2353.88</td>\n",
              "      <td>2326.05</td>\n",
              "      <td>1033.69</td>\n",
              "      <td>-2612.42</td>\n",
              "      <td>1034.12</td>\n",
              "      <td>3646.54</td>\n",
              "      <td>6000.42</td>\n",
              "      <td>1354.39</td>\n",
              "      <td>1354.39</td>\n",
              "      <td>223.85</td>\n",
              "      <td>1350.14</td>\n",
              "      <td>1326.99</td>\n",
              "      <td>3.34</td>\n",
              "      <td>-213.01</td>\n",
              "      <td>-677.57</td>\n",
              "      <td>-336.73</td>\n",
              "      <td>-801.29</td>\n",
              "      <td>-801.29</td>\n",
              "      <td>-770.18</td>\n",
              "      <td>-677.57</td>\n",
              "      <td>0.89</td>\n",
              "      <td>28.88</td>\n",
              "      <td>0.00</td>\n",
              "      <td>-39.64</td>\n",
              "      <td>-39.64</td>\n",
              "      <td>194.27</td>\n",
              "      <td>-43.08</td>\n",
              "      <td>324.47</td>\n",
              "      <td>17.31</td>\n",
              "      <td>-412.55</td>\n",
              "      <td>-450.67</td>\n",
              "      <td>-40.84</td>\n",
              "      <td>-1.80</td>\n",
              "      <td>8.33</td>\n",
              "      <td>8.33</td>\n",
              "      <td>16.59</td>\n",
              "      <td>-10.12</td>\n",
              "      <td>-203.84</td>\n",
              "      <td>-102.72</td>\n",
              "      <td>-455.28</td>\n",
              "      <td>-80.23</td>\n",
              "      <td>-70.57</td>\n",
              "      <td>-88.52</td>\n",
              "      <td>-52.91</td>\n",
              "      <td>-33.85</td>\n",
              "      <td>-13.94</td>\n",
              "      <td>0.09</td>\n",
              "      <td>5.08</td>\n",
              "      <td>411.15</td>\n",
              "      <td>9.26</td>\n",
              "      <td>0.00</td>\n",
              "      <td>-0.16</td>\n",
              "      <td>-3.33</td>\n",
              "      <td>-7.21</td>\n",
              "      <td>-48.13</td>\n",
              "      <td>-47.70</td>\n",
              "      <td>-51.58</td>\n",
              "      <td>93</td>\n",
              "      <td>63</td>\n",
              "      <td>2.0</td>\n",
              "      <td>0.24</td>\n",
              "      <td>1.90</td>\n",
              "    </tr>\n",
              "    <tr>\n",
              "      <th>4</th>\n",
              "      <td>23505</td>\n",
              "      <td>Bharati Defence</td>\n",
              "      <td>-2967.36</td>\n",
              "      <td>50.30</td>\n",
              "      <td>-1070.83</td>\n",
              "      <td>4675.33</td>\n",
              "      <td>5740.90</td>\n",
              "      <td>1084.20</td>\n",
              "      <td>1836.23</td>\n",
              "      <td>4685.81</td>\n",
              "      <td>2849.58</td>\n",
              "      <td>7524.91</td>\n",
              "      <td>38.72</td>\n",
              "      <td>38.72</td>\n",
              "      <td>9.82</td>\n",
              "      <td>38.72</td>\n",
              "      <td>186.29</td>\n",
              "      <td>1.97</td>\n",
              "      <td>-647.86</td>\n",
              "      <td>-944.42</td>\n",
              "      <td>-710.13</td>\n",
              "      <td>-1006.69</td>\n",
              "      <td>-864.58</td>\n",
              "      <td>-327.77</td>\n",
              "      <td>-802.31</td>\n",
              "      <td>0.00</td>\n",
              "      <td>15.62</td>\n",
              "      <td>0.00</td>\n",
              "      <td>-212.89</td>\n",
              "      <td>-212.89</td>\n",
              "      <td>113.68</td>\n",
              "      <td>-159.50</td>\n",
              "      <td>-191.54</td>\n",
              "      <td>61.34</td>\n",
              "      <td>143.65</td>\n",
              "      <td>-559.83</td>\n",
              "      <td>-11.76</td>\n",
              "      <td>0.34</td>\n",
              "      <td>-80.61</td>\n",
              "      <td>-80.61</td>\n",
              "      <td>-48.80</td>\n",
              "      <td>-5.81</td>\n",
              "      <td>-40.07</td>\n",
              "      <td>3.28</td>\n",
              "      <td>-38.72</td>\n",
              "      <td>1.87</td>\n",
              "      <td>-2.59</td>\n",
              "      <td>-1.13</td>\n",
              "      <td>-100.00</td>\n",
              "      <td>-91.17</td>\n",
              "      <td>-12.91</td>\n",
              "      <td>0.50</td>\n",
              "      <td>0.05</td>\n",
              "      <td>0.02</td>\n",
              "      <td>1.28</td>\n",
              "      <td>0.01</td>\n",
              "      <td>-0.73</td>\n",
              "      <td>-295.55</td>\n",
              "      <td>-400.55</td>\n",
              "      <td>-845.88</td>\n",
              "      <td>379.79</td>\n",
              "      <td>274.79</td>\n",
              "      <td>3887</td>\n",
              "      <td>346</td>\n",
              "      <td>0.0</td>\n",
              "      <td>0.01</td>\n",
              "      <td>0.05</td>\n",
              "    </tr>\n",
              "  </tbody>\n",
              "</table>\n",
              "</div>"
            ],
            "text/plain": [
              "   Co_Code  ... Value_of_Output_by_Gross_Block\n",
              "0    16974  ...                           0.00\n",
              "1    21214  ...                           0.24\n",
              "2    14852  ...                          -0.26\n",
              "3     2439  ...                           1.90\n",
              "4    23505  ...                           0.05\n",
              "\n",
              "[5 rows x 67 columns]"
            ]
          },
          "metadata": {
            "tags": []
          },
          "execution_count": 7
        }
      ]
    },
    {
      "cell_type": "code",
      "metadata": {
        "colab": {
          "base_uri": "https://localhost:8080/"
        },
        "id": "ZFiWCDlg_HQr",
        "outputId": "6671dea5-7137-4199-f678-787a723325f7"
      },
      "source": [
        "print('The number of rows (observations) is',df.shape[0],'\\n''The number of columns (variables) is',df.shape[1])"
      ],
      "execution_count": 8,
      "outputs": [
        {
          "output_type": "stream",
          "text": [
            "The number of rows (observations) is 3586 \n",
            "The number of columns (variables) is 67\n"
          ],
          "name": "stdout"
        }
      ]
    },
    {
      "cell_type": "code",
      "metadata": {
        "colab": {
          "base_uri": "https://localhost:8080/"
        },
        "id": "bT9Sv5l2_Sgp",
        "outputId": "57ba65ea-dd71-455c-d241-370eff9cef0b"
      },
      "source": [
        "df.columns"
      ],
      "execution_count": 9,
      "outputs": [
        {
          "output_type": "execute_result",
          "data": {
            "text/plain": [
              "Index(['Co_Code', 'Co_Name', 'Networth_Next_Year', 'Equity_Paid_Up',\n",
              "       'Networth', 'Capital_Employed', 'Total_Debt', 'Gross_Block',\n",
              "       'Net_Working_Capital', 'Current_Assets',\n",
              "       'Current_Liabilities_and_Provisions', 'Total_Assets_by_Liabilities',\n",
              "       'Gross_Sales', 'Net_Sales', 'Other_Income', 'Value_Of_Output',\n",
              "       'Cost_of_Production', 'Selling_Cost', 'PBIDT', 'PBDT', 'PBIT', 'PBT',\n",
              "       'PAT', 'Adjusted_PAT', 'CP', 'Revenue_earnings_in_forex',\n",
              "       'Revenue_expenses_in_forex', 'Capital_expenses_in_forex',\n",
              "       'Book_Value_Unit_Curr', 'Book_Value_Adj._Unit_Curr',\n",
              "       'Market_Capitalisation', 'CEPS_annualised_Unit_Curr',\n",
              "       'Cash_Flow_From_Operating_Activities',\n",
              "       'Cash_Flow_From_Investing_Activities',\n",
              "       'Cash_Flow_From_Financing_Activities', 'ROG_Net_Worth_perc',\n",
              "       'ROG_Capital_Employed_perc', 'ROG_Gross_Block_perc',\n",
              "       'ROG_Gross_Sales_perc', 'ROG_Net_Sales_perc',\n",
              "       'ROG_Cost_of_Production_perc', 'ROG_Total_Assets_perc',\n",
              "       'ROG_PBIDT_perc', 'ROG_PBDT_perc', 'ROG_PBIT_perc', 'ROG_PBT_perc',\n",
              "       'ROG_PAT_perc', 'ROG_CP_perc', 'ROG_Revenue_earnings_in_forex_perc',\n",
              "       'ROG_Revenue_expenses_in_forex_perc', 'ROG_Market_Capitalisation_perc',\n",
              "       'Current_Ratio_Latest', 'Fixed_Assets_Ratio_Latest',\n",
              "       'Inventory_Ratio_Latest', 'Debtors_Ratio_Latest',\n",
              "       'Total_Asset_Turnover_Ratio_Latest', 'Interest_Cover_Ratio_Latest',\n",
              "       'PBIDTM_perc_Latest', 'PBITM_perc_Latest', 'PBDTM_perc_Latest',\n",
              "       'CPM_perc_Latest', 'APATM_perc_Latest', 'Debtors_Velocity_Days',\n",
              "       'Creditors_Velocity_Days', 'Inventory_Velocity_Days',\n",
              "       'Value_of_Output_by_Total_Assets', 'Value_of_Output_by_Gross_Block'],\n",
              "      dtype='object')"
            ]
          },
          "metadata": {
            "tags": []
          },
          "execution_count": 9
        }
      ]
    },
    {
      "cell_type": "code",
      "metadata": {
        "colab": {
          "base_uri": "https://localhost:8080/"
        },
        "id": "tsJaIP-M_VDq",
        "outputId": "ad72d3af-35fc-4510-da6c-37741d25412f"
      },
      "source": [
        "df.info()"
      ],
      "execution_count": 10,
      "outputs": [
        {
          "output_type": "stream",
          "text": [
            "<class 'pandas.core.frame.DataFrame'>\n",
            "RangeIndex: 3586 entries, 0 to 3585\n",
            "Data columns (total 67 columns):\n",
            " #   Column                               Non-Null Count  Dtype  \n",
            "---  ------                               --------------  -----  \n",
            " 0   Co_Code                              3586 non-null   int64  \n",
            " 1   Co_Name                              3586 non-null   object \n",
            " 2   Networth_Next_Year                   3586 non-null   float64\n",
            " 3   Equity_Paid_Up                       3586 non-null   float64\n",
            " 4   Networth                             3586 non-null   float64\n",
            " 5   Capital_Employed                     3586 non-null   float64\n",
            " 6   Total_Debt                           3586 non-null   float64\n",
            " 7   Gross_Block                          3586 non-null   float64\n",
            " 8   Net_Working_Capital                  3586 non-null   float64\n",
            " 9   Current_Assets                       3586 non-null   float64\n",
            " 10  Current_Liabilities_and_Provisions   3586 non-null   float64\n",
            " 11  Total_Assets_by_Liabilities          3586 non-null   float64\n",
            " 12  Gross_Sales                          3586 non-null   float64\n",
            " 13  Net_Sales                            3586 non-null   float64\n",
            " 14  Other_Income                         3586 non-null   float64\n",
            " 15  Value_Of_Output                      3586 non-null   float64\n",
            " 16  Cost_of_Production                   3586 non-null   float64\n",
            " 17  Selling_Cost                         3586 non-null   float64\n",
            " 18  PBIDT                                3586 non-null   float64\n",
            " 19  PBDT                                 3586 non-null   float64\n",
            " 20  PBIT                                 3586 non-null   float64\n",
            " 21  PBT                                  3586 non-null   float64\n",
            " 22  PAT                                  3586 non-null   float64\n",
            " 23  Adjusted_PAT                         3586 non-null   float64\n",
            " 24  CP                                   3586 non-null   float64\n",
            " 25  Revenue_earnings_in_forex            3586 non-null   float64\n",
            " 26  Revenue_expenses_in_forex            3586 non-null   float64\n",
            " 27  Capital_expenses_in_forex            3586 non-null   float64\n",
            " 28  Book_Value_Unit_Curr                 3586 non-null   float64\n",
            " 29  Book_Value_Adj._Unit_Curr            3582 non-null   float64\n",
            " 30  Market_Capitalisation                3586 non-null   float64\n",
            " 31  CEPS_annualised_Unit_Curr            3586 non-null   float64\n",
            " 32  Cash_Flow_From_Operating_Activities  3586 non-null   float64\n",
            " 33  Cash_Flow_From_Investing_Activities  3586 non-null   float64\n",
            " 34  Cash_Flow_From_Financing_Activities  3586 non-null   float64\n",
            " 35  ROG_Net_Worth_perc                   3586 non-null   float64\n",
            " 36  ROG_Capital_Employed_perc            3586 non-null   float64\n",
            " 37  ROG_Gross_Block_perc                 3586 non-null   float64\n",
            " 38  ROG_Gross_Sales_perc                 3586 non-null   float64\n",
            " 39  ROG_Net_Sales_perc                   3586 non-null   float64\n",
            " 40  ROG_Cost_of_Production_perc          3586 non-null   float64\n",
            " 41  ROG_Total_Assets_perc                3586 non-null   float64\n",
            " 42  ROG_PBIDT_perc                       3586 non-null   float64\n",
            " 43  ROG_PBDT_perc                        3586 non-null   float64\n",
            " 44  ROG_PBIT_perc                        3586 non-null   float64\n",
            " 45  ROG_PBT_perc                         3586 non-null   float64\n",
            " 46  ROG_PAT_perc                         3586 non-null   float64\n",
            " 47  ROG_CP_perc                          3586 non-null   float64\n",
            " 48  ROG_Revenue_earnings_in_forex_perc   3586 non-null   float64\n",
            " 49  ROG_Revenue_expenses_in_forex_perc   3586 non-null   float64\n",
            " 50  ROG_Market_Capitalisation_perc       3586 non-null   float64\n",
            " 51  Current_Ratio_Latest                 3585 non-null   float64\n",
            " 52  Fixed_Assets_Ratio_Latest            3585 non-null   float64\n",
            " 53  Inventory_Ratio_Latest               3585 non-null   float64\n",
            " 54  Debtors_Ratio_Latest                 3585 non-null   float64\n",
            " 55  Total_Asset_Turnover_Ratio_Latest    3585 non-null   float64\n",
            " 56  Interest_Cover_Ratio_Latest          3585 non-null   float64\n",
            " 57  PBIDTM_perc_Latest                   3585 non-null   float64\n",
            " 58  PBITM_perc_Latest                    3585 non-null   float64\n",
            " 59  PBDTM_perc_Latest                    3585 non-null   float64\n",
            " 60  CPM_perc_Latest                      3585 non-null   float64\n",
            " 61  APATM_perc_Latest                    3585 non-null   float64\n",
            " 62  Debtors_Velocity_Days                3586 non-null   int64  \n",
            " 63  Creditors_Velocity_Days              3586 non-null   int64  \n",
            " 64  Inventory_Velocity_Days              3483 non-null   float64\n",
            " 65  Value_of_Output_by_Total_Assets      3586 non-null   float64\n",
            " 66  Value_of_Output_by_Gross_Block       3586 non-null   float64\n",
            "dtypes: float64(63), int64(3), object(1)\n",
            "memory usage: 1.8+ MB\n"
          ],
          "name": "stdout"
        }
      ]
    },
    {
      "cell_type": "code",
      "metadata": {
        "colab": {
          "base_uri": "https://localhost:8080/",
          "height": 307
        },
        "id": "liiCAU4TBmdO",
        "outputId": "a3ddc17b-1dc3-44f5-be7c-ce393481b8b8"
      },
      "source": [
        "df.describe()"
      ],
      "execution_count": 11,
      "outputs": [
        {
          "output_type": "execute_result",
          "data": {
            "text/html": [
              "<div>\n",
              "<style scoped>\n",
              "    .dataframe tbody tr th:only-of-type {\n",
              "        vertical-align: middle;\n",
              "    }\n",
              "\n",
              "    .dataframe tbody tr th {\n",
              "        vertical-align: top;\n",
              "    }\n",
              "\n",
              "    .dataframe thead th {\n",
              "        text-align: right;\n",
              "    }\n",
              "</style>\n",
              "<table border=\"1\" class=\"dataframe\">\n",
              "  <thead>\n",
              "    <tr style=\"text-align: right;\">\n",
              "      <th></th>\n",
              "      <th>Co_Code</th>\n",
              "      <th>Networth_Next_Year</th>\n",
              "      <th>Equity_Paid_Up</th>\n",
              "      <th>Networth</th>\n",
              "      <th>Capital_Employed</th>\n",
              "      <th>Total_Debt</th>\n",
              "      <th>Gross_Block</th>\n",
              "      <th>Net_Working_Capital</th>\n",
              "      <th>Current_Assets</th>\n",
              "      <th>Current_Liabilities_and_Provisions</th>\n",
              "      <th>Total_Assets_by_Liabilities</th>\n",
              "      <th>Gross_Sales</th>\n",
              "      <th>Net_Sales</th>\n",
              "      <th>Other_Income</th>\n",
              "      <th>Value_Of_Output</th>\n",
              "      <th>Cost_of_Production</th>\n",
              "      <th>Selling_Cost</th>\n",
              "      <th>PBIDT</th>\n",
              "      <th>PBDT</th>\n",
              "      <th>PBIT</th>\n",
              "      <th>PBT</th>\n",
              "      <th>PAT</th>\n",
              "      <th>Adjusted_PAT</th>\n",
              "      <th>CP</th>\n",
              "      <th>Revenue_earnings_in_forex</th>\n",
              "      <th>Revenue_expenses_in_forex</th>\n",
              "      <th>Capital_expenses_in_forex</th>\n",
              "      <th>Book_Value_Unit_Curr</th>\n",
              "      <th>Book_Value_Adj._Unit_Curr</th>\n",
              "      <th>Market_Capitalisation</th>\n",
              "      <th>CEPS_annualised_Unit_Curr</th>\n",
              "      <th>Cash_Flow_From_Operating_Activities</th>\n",
              "      <th>Cash_Flow_From_Investing_Activities</th>\n",
              "      <th>Cash_Flow_From_Financing_Activities</th>\n",
              "      <th>ROG_Net_Worth_perc</th>\n",
              "      <th>ROG_Capital_Employed_perc</th>\n",
              "      <th>ROG_Gross_Block_perc</th>\n",
              "      <th>ROG_Gross_Sales_perc</th>\n",
              "      <th>ROG_Net_Sales_perc</th>\n",
              "      <th>ROG_Cost_of_Production_perc</th>\n",
              "      <th>ROG_Total_Assets_perc</th>\n",
              "      <th>ROG_PBIDT_perc</th>\n",
              "      <th>ROG_PBDT_perc</th>\n",
              "      <th>ROG_PBIT_perc</th>\n",
              "      <th>ROG_PBT_perc</th>\n",
              "      <th>ROG_PAT_perc</th>\n",
              "      <th>ROG_CP_perc</th>\n",
              "      <th>ROG_Revenue_earnings_in_forex_perc</th>\n",
              "      <th>ROG_Revenue_expenses_in_forex_perc</th>\n",
              "      <th>ROG_Market_Capitalisation_perc</th>\n",
              "      <th>Current_Ratio_Latest</th>\n",
              "      <th>Fixed_Assets_Ratio_Latest</th>\n",
              "      <th>Inventory_Ratio_Latest</th>\n",
              "      <th>Debtors_Ratio_Latest</th>\n",
              "      <th>Total_Asset_Turnover_Ratio_Latest</th>\n",
              "      <th>Interest_Cover_Ratio_Latest</th>\n",
              "      <th>PBIDTM_perc_Latest</th>\n",
              "      <th>PBITM_perc_Latest</th>\n",
              "      <th>PBDTM_perc_Latest</th>\n",
              "      <th>CPM_perc_Latest</th>\n",
              "      <th>APATM_perc_Latest</th>\n",
              "      <th>Debtors_Velocity_Days</th>\n",
              "      <th>Creditors_Velocity_Days</th>\n",
              "      <th>Inventory_Velocity_Days</th>\n",
              "      <th>Value_of_Output_by_Total_Assets</th>\n",
              "      <th>Value_of_Output_by_Gross_Block</th>\n",
              "    </tr>\n",
              "  </thead>\n",
              "  <tbody>\n",
              "    <tr>\n",
              "      <th>count</th>\n",
              "      <td>3586.000000</td>\n",
              "      <td>3586.000000</td>\n",
              "      <td>3586.000000</td>\n",
              "      <td>3586.000000</td>\n",
              "      <td>3586.000000</td>\n",
              "      <td>3586.000000</td>\n",
              "      <td>3586.000000</td>\n",
              "      <td>3586.000000</td>\n",
              "      <td>3586.000000</td>\n",
              "      <td>3586.000000</td>\n",
              "      <td>3586.000000</td>\n",
              "      <td>3586.000000</td>\n",
              "      <td>3586.000000</td>\n",
              "      <td>3586.000000</td>\n",
              "      <td>3586.000000</td>\n",
              "      <td>3586.000000</td>\n",
              "      <td>3586.000000</td>\n",
              "      <td>3586.000000</td>\n",
              "      <td>3586.000000</td>\n",
              "      <td>3586.000000</td>\n",
              "      <td>3586.000000</td>\n",
              "      <td>3586.000000</td>\n",
              "      <td>3586.000000</td>\n",
              "      <td>3586.000000</td>\n",
              "      <td>3586.000000</td>\n",
              "      <td>3586.000000</td>\n",
              "      <td>3586.000000</td>\n",
              "      <td>3586.000000</td>\n",
              "      <td>3.582000e+03</td>\n",
              "      <td>3586.000000</td>\n",
              "      <td>3586.000000</td>\n",
              "      <td>3586.000000</td>\n",
              "      <td>3586.000000</td>\n",
              "      <td>3586.000000</td>\n",
              "      <td>3.586000e+03</td>\n",
              "      <td>3.586000e+03</td>\n",
              "      <td>3586.000000</td>\n",
              "      <td>3586.000000</td>\n",
              "      <td>3586.000000</td>\n",
              "      <td>3586.000000</td>\n",
              "      <td>3.586000e+03</td>\n",
              "      <td>3.586000e+03</td>\n",
              "      <td>3.586000e+03</td>\n",
              "      <td>3.586000e+03</td>\n",
              "      <td>3.586000e+03</td>\n",
              "      <td>3586.000000</td>\n",
              "      <td>3586.000000</td>\n",
              "      <td>3586.000000</td>\n",
              "      <td>3586.000000</td>\n",
              "      <td>3586.000000</td>\n",
              "      <td>3585.000000</td>\n",
              "      <td>3585.00000</td>\n",
              "      <td>3585.000000</td>\n",
              "      <td>3585.000000</td>\n",
              "      <td>3585.000000</td>\n",
              "      <td>3585.000000</td>\n",
              "      <td>3585.000000</td>\n",
              "      <td>3585.000000</td>\n",
              "      <td>3585.000000</td>\n",
              "      <td>3585.000000</td>\n",
              "      <td>3585.000000</td>\n",
              "      <td>3586.000000</td>\n",
              "      <td>3.586000e+03</td>\n",
              "      <td>3483.000000</td>\n",
              "      <td>3586.000000</td>\n",
              "      <td>3586.000000</td>\n",
              "    </tr>\n",
              "    <tr>\n",
              "      <th>mean</th>\n",
              "      <td>16065.388734</td>\n",
              "      <td>725.045251</td>\n",
              "      <td>62.966584</td>\n",
              "      <td>649.746299</td>\n",
              "      <td>2799.611054</td>\n",
              "      <td>1994.823779</td>\n",
              "      <td>594.178829</td>\n",
              "      <td>410.809665</td>\n",
              "      <td>1960.349172</td>\n",
              "      <td>391.992078</td>\n",
              "      <td>1778.453751</td>\n",
              "      <td>1123.738985</td>\n",
              "      <td>1079.702579</td>\n",
              "      <td>48.729824</td>\n",
              "      <td>1077.187292</td>\n",
              "      <td>798.544621</td>\n",
              "      <td>25.554997</td>\n",
              "      <td>248.175282</td>\n",
              "      <td>116.268795</td>\n",
              "      <td>217.659395</td>\n",
              "      <td>85.752909</td>\n",
              "      <td>61.218313</td>\n",
              "      <td>60.058963</td>\n",
              "      <td>91.734200</td>\n",
              "      <td>131.165270</td>\n",
              "      <td>256.327002</td>\n",
              "      <td>7.655689</td>\n",
              "      <td>157.237836</td>\n",
              "      <td>2.243153e+03</td>\n",
              "      <td>1664.092387</td>\n",
              "      <td>36.018709</td>\n",
              "      <td>65.770750</td>\n",
              "      <td>-60.870365</td>\n",
              "      <td>11.436453</td>\n",
              "      <td>1.237625e+03</td>\n",
              "      <td>2.988885e+03</td>\n",
              "      <td>37.554306</td>\n",
              "      <td>242.672962</td>\n",
              "      <td>242.588530</td>\n",
              "      <td>310.488405</td>\n",
              "      <td>2.793283e+03</td>\n",
              "      <td>3.758522e+02</td>\n",
              "      <td>3.363799e+02</td>\n",
              "      <td>3.747000e+02</td>\n",
              "      <td>2.240702e+02</td>\n",
              "      <td>112.231654</td>\n",
              "      <td>221.091523</td>\n",
              "      <td>37.227844</td>\n",
              "      <td>364.863221</td>\n",
              "      <td>63.682220</td>\n",
              "      <td>12.056603</td>\n",
              "      <td>51.53884</td>\n",
              "      <td>37.798946</td>\n",
              "      <td>33.026996</td>\n",
              "      <td>1.237236</td>\n",
              "      <td>16.387894</td>\n",
              "      <td>-51.162890</td>\n",
              "      <td>-109.213414</td>\n",
              "      <td>-311.570357</td>\n",
              "      <td>-307.005632</td>\n",
              "      <td>-365.056187</td>\n",
              "      <td>603.894032</td>\n",
              "      <td>2.057855e+03</td>\n",
              "      <td>79.644559</td>\n",
              "      <td>0.819757</td>\n",
              "      <td>61.884548</td>\n",
              "    </tr>\n",
              "    <tr>\n",
              "      <th>std</th>\n",
              "      <td>19776.817379</td>\n",
              "      <td>4769.681004</td>\n",
              "      <td>778.761744</td>\n",
              "      <td>4091.988792</td>\n",
              "      <td>26975.135385</td>\n",
              "      <td>23652.842746</td>\n",
              "      <td>4871.547802</td>\n",
              "      <td>6301.218546</td>\n",
              "      <td>22577.570829</td>\n",
              "      <td>2675.001631</td>\n",
              "      <td>11437.574690</td>\n",
              "      <td>10603.703837</td>\n",
              "      <td>9996.574173</td>\n",
              "      <td>426.040665</td>\n",
              "      <td>9843.880293</td>\n",
              "      <td>9076.702982</td>\n",
              "      <td>194.244466</td>\n",
              "      <td>1949.593350</td>\n",
              "      <td>956.199566</td>\n",
              "      <td>1850.972782</td>\n",
              "      <td>799.925768</td>\n",
              "      <td>620.298432</td>\n",
              "      <td>580.432912</td>\n",
              "      <td>780.790561</td>\n",
              "      <td>1150.730209</td>\n",
              "      <td>4132.339619</td>\n",
              "      <td>111.432070</td>\n",
              "      <td>1622.664105</td>\n",
              "      <td>1.282837e+05</td>\n",
              "      <td>12805.173084</td>\n",
              "      <td>828.420796</td>\n",
              "      <td>1455.048376</td>\n",
              "      <td>701.974713</td>\n",
              "      <td>1272.257361</td>\n",
              "      <td>4.104193e+04</td>\n",
              "      <td>1.264729e+05</td>\n",
              "      <td>893.619402</td>\n",
              "      <td>6103.527897</td>\n",
              "      <td>6103.487655</td>\n",
              "      <td>5573.215095</td>\n",
              "      <td>1.259417e+05</td>\n",
              "      <td>2.327840e+04</td>\n",
              "      <td>2.035340e+04</td>\n",
              "      <td>2.246279e+04</td>\n",
              "      <td>1.965923e+04</td>\n",
              "      <td>13480.515287</td>\n",
              "      <td>13980.202791</td>\n",
              "      <td>658.666041</td>\n",
              "      <td>15233.643027</td>\n",
              "      <td>1047.928144</td>\n",
              "      <td>108.410131</td>\n",
              "      <td>681.15091</td>\n",
              "      <td>458.189394</td>\n",
              "      <td>489.563498</td>\n",
              "      <td>2.673228</td>\n",
              "      <td>351.737840</td>\n",
              "      <td>1795.131025</td>\n",
              "      <td>3057.635870</td>\n",
              "      <td>10921.592639</td>\n",
              "      <td>10676.149629</td>\n",
              "      <td>12500.051387</td>\n",
              "      <td>10636.759580</td>\n",
              "      <td>5.416948e+04</td>\n",
              "      <td>137.847792</td>\n",
              "      <td>1.201400</td>\n",
              "      <td>976.824352</td>\n",
              "    </tr>\n",
              "    <tr>\n",
              "      <th>min</th>\n",
              "      <td>4.000000</td>\n",
              "      <td>-8021.600000</td>\n",
              "      <td>0.000000</td>\n",
              "      <td>-7027.480000</td>\n",
              "      <td>-1824.750000</td>\n",
              "      <td>-0.720000</td>\n",
              "      <td>-41.190000</td>\n",
              "      <td>-13162.420000</td>\n",
              "      <td>-0.910000</td>\n",
              "      <td>-0.230000</td>\n",
              "      <td>-4.510000</td>\n",
              "      <td>-62.590000</td>\n",
              "      <td>-62.590000</td>\n",
              "      <td>-448.720000</td>\n",
              "      <td>-119.100000</td>\n",
              "      <td>-22.650000</td>\n",
              "      <td>0.000000</td>\n",
              "      <td>-4655.140000</td>\n",
              "      <td>-5874.530000</td>\n",
              "      <td>-4812.950000</td>\n",
              "      <td>-6032.340000</td>\n",
              "      <td>-6032.340000</td>\n",
              "      <td>-4418.720000</td>\n",
              "      <td>-5874.530000</td>\n",
              "      <td>0.000000</td>\n",
              "      <td>0.000000</td>\n",
              "      <td>0.000000</td>\n",
              "      <td>-3371.570000</td>\n",
              "      <td>-3.371570e+04</td>\n",
              "      <td>0.000000</td>\n",
              "      <td>-1808.000000</td>\n",
              "      <td>-25469.230000</td>\n",
              "      <td>-23843.450000</td>\n",
              "      <td>-38374.040000</td>\n",
              "      <td>-1.448571e+04</td>\n",
              "      <td>-8.614630e+03</td>\n",
              "      <td>-116.120000</td>\n",
              "      <td>-5503.700000</td>\n",
              "      <td>-5503.700000</td>\n",
              "      <td>-2130.230000</td>\n",
              "      <td>-1.361300e+02</td>\n",
              "      <td>-5.220000e+04</td>\n",
              "      <td>-5.220000e+04</td>\n",
              "      <td>-5.850000e+04</td>\n",
              "      <td>-7.890000e+04</td>\n",
              "      <td>-114500.000000</td>\n",
              "      <td>-52200.000000</td>\n",
              "      <td>-100.000000</td>\n",
              "      <td>-100.000000</td>\n",
              "      <td>-98.050000</td>\n",
              "      <td>0.000000</td>\n",
              "      <td>0.00000</td>\n",
              "      <td>0.000000</td>\n",
              "      <td>0.000000</td>\n",
              "      <td>0.000000</td>\n",
              "      <td>-5450.000000</td>\n",
              "      <td>-78870.450000</td>\n",
              "      <td>-141600.000000</td>\n",
              "      <td>-590500.000000</td>\n",
              "      <td>-572000.000000</td>\n",
              "      <td>-688600.000000</td>\n",
              "      <td>0.000000</td>\n",
              "      <td>0.000000e+00</td>\n",
              "      <td>-199.000000</td>\n",
              "      <td>-0.330000</td>\n",
              "      <td>-61.000000</td>\n",
              "    </tr>\n",
              "    <tr>\n",
              "      <th>25%</th>\n",
              "      <td>3029.250000</td>\n",
              "      <td>3.985000</td>\n",
              "      <td>3.750000</td>\n",
              "      <td>3.892500</td>\n",
              "      <td>7.602500</td>\n",
              "      <td>0.030000</td>\n",
              "      <td>0.570000</td>\n",
              "      <td>0.942500</td>\n",
              "      <td>4.000000</td>\n",
              "      <td>0.732500</td>\n",
              "      <td>10.555000</td>\n",
              "      <td>1.442500</td>\n",
              "      <td>1.440000</td>\n",
              "      <td>0.020000</td>\n",
              "      <td>1.412500</td>\n",
              "      <td>0.940000</td>\n",
              "      <td>0.000000</td>\n",
              "      <td>0.040000</td>\n",
              "      <td>0.000000</td>\n",
              "      <td>0.000000</td>\n",
              "      <td>-0.060000</td>\n",
              "      <td>-0.060000</td>\n",
              "      <td>-0.090000</td>\n",
              "      <td>0.000000</td>\n",
              "      <td>0.000000</td>\n",
              "      <td>0.000000</td>\n",
              "      <td>0.000000</td>\n",
              "      <td>7.962500</td>\n",
              "      <td>7.060000e+00</td>\n",
              "      <td>0.000000</td>\n",
              "      <td>0.000000</td>\n",
              "      <td>-0.307500</td>\n",
              "      <td>-5.117500</td>\n",
              "      <td>-5.847500</td>\n",
              "      <td>-1.487500e+00</td>\n",
              "      <td>-3.835000e+00</td>\n",
              "      <td>0.000000</td>\n",
              "      <td>-8.077500</td>\n",
              "      <td>-8.117500</td>\n",
              "      <td>-7.242500</td>\n",
              "      <td>-3.972500e+00</td>\n",
              "      <td>-2.336250e+01</td>\n",
              "      <td>-3.059750e+01</td>\n",
              "      <td>-3.135250e+01</td>\n",
              "      <td>-4.123500e+01</td>\n",
              "      <td>-43.732500</td>\n",
              "      <td>-29.505000</td>\n",
              "      <td>0.000000</td>\n",
              "      <td>0.000000</td>\n",
              "      <td>0.000000</td>\n",
              "      <td>0.880000</td>\n",
              "      <td>0.27000</td>\n",
              "      <td>0.000000</td>\n",
              "      <td>0.420000</td>\n",
              "      <td>0.070000</td>\n",
              "      <td>0.000000</td>\n",
              "      <td>0.000000</td>\n",
              "      <td>0.000000</td>\n",
              "      <td>0.000000</td>\n",
              "      <td>0.000000</td>\n",
              "      <td>0.000000</td>\n",
              "      <td>8.000000</td>\n",
              "      <td>8.000000e+00</td>\n",
              "      <td>0.000000</td>\n",
              "      <td>0.070000</td>\n",
              "      <td>0.270000</td>\n",
              "    </tr>\n",
              "    <tr>\n",
              "      <th>50%</th>\n",
              "      <td>6077.500000</td>\n",
              "      <td>19.015000</td>\n",
              "      <td>8.290000</td>\n",
              "      <td>18.580000</td>\n",
              "      <td>39.090000</td>\n",
              "      <td>7.490000</td>\n",
              "      <td>15.870000</td>\n",
              "      <td>10.145000</td>\n",
              "      <td>24.540000</td>\n",
              "      <td>9.225000</td>\n",
              "      <td>52.010000</td>\n",
              "      <td>31.210000</td>\n",
              "      <td>30.440000</td>\n",
              "      <td>0.450000</td>\n",
              "      <td>30.895000</td>\n",
              "      <td>25.990000</td>\n",
              "      <td>0.160000</td>\n",
              "      <td>2.045000</td>\n",
              "      <td>0.795000</td>\n",
              "      <td>1.150000</td>\n",
              "      <td>0.310000</td>\n",
              "      <td>0.255000</td>\n",
              "      <td>0.210000</td>\n",
              "      <td>0.740000</td>\n",
              "      <td>0.000000</td>\n",
              "      <td>0.000000</td>\n",
              "      <td>0.000000</td>\n",
              "      <td>21.665000</td>\n",
              "      <td>1.892500e+01</td>\n",
              "      <td>8.370000</td>\n",
              "      <td>1.145000</td>\n",
              "      <td>0.450000</td>\n",
              "      <td>-0.120000</td>\n",
              "      <td>0.000000</td>\n",
              "      <td>1.840000e+00</td>\n",
              "      <td>1.375000e+00</td>\n",
              "      <td>0.250000</td>\n",
              "      <td>3.310000</td>\n",
              "      <td>3.205000</td>\n",
              "      <td>4.415000</td>\n",
              "      <td>1.475000e+00</td>\n",
              "      <td>4.570000e+00</td>\n",
              "      <td>3.365000e+00</td>\n",
              "      <td>2.130000e+00</td>\n",
              "      <td>2.500000e-02</td>\n",
              "      <td>0.000000</td>\n",
              "      <td>4.615000</td>\n",
              "      <td>0.000000</td>\n",
              "      <td>0.000000</td>\n",
              "      <td>0.000000</td>\n",
              "      <td>1.360000</td>\n",
              "      <td>1.56000</td>\n",
              "      <td>3.560000</td>\n",
              "      <td>3.820000</td>\n",
              "      <td>0.600000</td>\n",
              "      <td>1.080000</td>\n",
              "      <td>8.070000</td>\n",
              "      <td>5.230000</td>\n",
              "      <td>4.690000</td>\n",
              "      <td>3.890000</td>\n",
              "      <td>1.590000</td>\n",
              "      <td>49.000000</td>\n",
              "      <td>3.900000e+01</td>\n",
              "      <td>35.000000</td>\n",
              "      <td>0.480000</td>\n",
              "      <td>1.530000</td>\n",
              "    </tr>\n",
              "    <tr>\n",
              "      <th>75%</th>\n",
              "      <td>24269.500000</td>\n",
              "      <td>123.802500</td>\n",
              "      <td>19.517500</td>\n",
              "      <td>117.297500</td>\n",
              "      <td>226.605000</td>\n",
              "      <td>72.350000</td>\n",
              "      <td>131.895000</td>\n",
              "      <td>61.175000</td>\n",
              "      <td>135.277500</td>\n",
              "      <td>65.650000</td>\n",
              "      <td>310.540000</td>\n",
              "      <td>242.250000</td>\n",
              "      <td>234.440000</td>\n",
              "      <td>3.635000</td>\n",
              "      <td>235.837500</td>\n",
              "      <td>189.550000</td>\n",
              "      <td>3.882500</td>\n",
              "      <td>23.525000</td>\n",
              "      <td>12.945000</td>\n",
              "      <td>16.667500</td>\n",
              "      <td>7.422500</td>\n",
              "      <td>5.540000</td>\n",
              "      <td>5.342500</td>\n",
              "      <td>10.910000</td>\n",
              "      <td>7.200000</td>\n",
              "      <td>6.987500</td>\n",
              "      <td>0.000000</td>\n",
              "      <td>71.667500</td>\n",
              "      <td>6.001000e+01</td>\n",
              "      <td>111.457500</td>\n",
              "      <td>8.772500</td>\n",
              "      <td>12.647500</td>\n",
              "      <td>0.120000</td>\n",
              "      <td>0.457500</td>\n",
              "      <td>1.136250e+01</td>\n",
              "      <td>1.258750e+01</td>\n",
              "      <td>6.720000</td>\n",
              "      <td>21.525000</td>\n",
              "      <td>21.567500</td>\n",
              "      <td>23.122500</td>\n",
              "      <td>1.250000e+01</td>\n",
              "      <td>4.787500e+01</td>\n",
              "      <td>5.291500e+01</td>\n",
              "      <td>5.014250e+01</td>\n",
              "      <td>6.195750e+01</td>\n",
              "      <td>65.347500</td>\n",
              "      <td>52.907500</td>\n",
              "      <td>0.000000</td>\n",
              "      <td>0.000000</td>\n",
              "      <td>47.515000</td>\n",
              "      <td>2.770000</td>\n",
              "      <td>4.74000</td>\n",
              "      <td>8.940000</td>\n",
              "      <td>8.520000</td>\n",
              "      <td>1.550000</td>\n",
              "      <td>3.710000</td>\n",
              "      <td>18.990000</td>\n",
              "      <td>14.290000</td>\n",
              "      <td>14.110000</td>\n",
              "      <td>11.390000</td>\n",
              "      <td>7.410000</td>\n",
              "      <td>106.000000</td>\n",
              "      <td>8.900000e+01</td>\n",
              "      <td>96.000000</td>\n",
              "      <td>1.160000</td>\n",
              "      <td>4.910000</td>\n",
              "    </tr>\n",
              "    <tr>\n",
              "      <th>max</th>\n",
              "      <td>72493.000000</td>\n",
              "      <td>111729.100000</td>\n",
              "      <td>42263.460000</td>\n",
              "      <td>81657.350000</td>\n",
              "      <td>714001.250000</td>\n",
              "      <td>652823.810000</td>\n",
              "      <td>128477.590000</td>\n",
              "      <td>223257.560000</td>\n",
              "      <td>721166.000000</td>\n",
              "      <td>83232.980000</td>\n",
              "      <td>254737.220000</td>\n",
              "      <td>474182.940000</td>\n",
              "      <td>443775.160000</td>\n",
              "      <td>14143.400000</td>\n",
              "      <td>435559.090000</td>\n",
              "      <td>419913.500000</td>\n",
              "      <td>5283.910000</td>\n",
              "      <td>42059.260000</td>\n",
              "      <td>23215.000000</td>\n",
              "      <td>41402.960000</td>\n",
              "      <td>16798.000000</td>\n",
              "      <td>13383.390000</td>\n",
              "      <td>13384.110000</td>\n",
              "      <td>20760.200000</td>\n",
              "      <td>46158.000000</td>\n",
              "      <td>193979.730000</td>\n",
              "      <td>3722.100000</td>\n",
              "      <td>75790.000000</td>\n",
              "      <td>7.677600e+06</td>\n",
              "      <td>260865.080000</td>\n",
              "      <td>45438.440000</td>\n",
              "      <td>44529.400000</td>\n",
              "      <td>3732.980000</td>\n",
              "      <td>28846.000000</td>\n",
              "      <td>2.144020e+06</td>\n",
              "      <td>7.412700e+06</td>\n",
              "      <td>47400.000000</td>\n",
              "      <td>320200.000000</td>\n",
              "      <td>320200.000000</td>\n",
              "      <td>267150.000000</td>\n",
              "      <td>7.422120e+06</td>\n",
              "      <td>1.386200e+06</td>\n",
              "      <td>1.208700e+06</td>\n",
              "      <td>1.338000e+06</td>\n",
              "      <td>1.160500e+06</td>\n",
              "      <td>774200.000000</td>\n",
              "      <td>822400.000000</td>\n",
              "      <td>29084.770000</td>\n",
              "      <td>894591.690000</td>\n",
              "      <td>61865.260000</td>\n",
              "      <td>4813.000000</td>\n",
              "      <td>22172.00000</td>\n",
              "      <td>15472.000000</td>\n",
              "      <td>22992.670000</td>\n",
              "      <td>57.750000</td>\n",
              "      <td>18639.400000</td>\n",
              "      <td>19233.330000</td>\n",
              "      <td>19195.700000</td>\n",
              "      <td>15640.000000</td>\n",
              "      <td>15640.000000</td>\n",
              "      <td>15266.670000</td>\n",
              "      <td>514721.000000</td>\n",
              "      <td>2.034145e+06</td>\n",
              "      <td>996.000000</td>\n",
              "      <td>17.630000</td>\n",
              "      <td>43404.000000</td>\n",
              "    </tr>\n",
              "  </tbody>\n",
              "</table>\n",
              "</div>"
            ],
            "text/plain": [
              "            Co_Code  ...  Value_of_Output_by_Gross_Block\n",
              "count   3586.000000  ...                     3586.000000\n",
              "mean   16065.388734  ...                       61.884548\n",
              "std    19776.817379  ...                      976.824352\n",
              "min        4.000000  ...                      -61.000000\n",
              "25%     3029.250000  ...                        0.270000\n",
              "50%     6077.500000  ...                        1.530000\n",
              "75%    24269.500000  ...                        4.910000\n",
              "max    72493.000000  ...                    43404.000000\n",
              "\n",
              "[8 rows x 66 columns]"
            ]
          },
          "metadata": {
            "tags": []
          },
          "execution_count": 11
        }
      ]
    },
    {
      "cell_type": "code",
      "metadata": {
        "colab": {
          "base_uri": "https://localhost:8080/"
        },
        "id": "AUMX6rtWHipw",
        "outputId": "0738c168-b66e-45bd-f6ac-37575caa5ac6"
      },
      "source": [
        "df.isnull().sum().sort_values(ascending = False)"
      ],
      "execution_count": 12,
      "outputs": [
        {
          "output_type": "execute_result",
          "data": {
            "text/plain": [
              "Inventory_Velocity_Days                103\n",
              "Book_Value_Adj._Unit_Curr                4\n",
              "Inventory_Ratio_Latest                   1\n",
              "Interest_Cover_Ratio_Latest              1\n",
              "Current_Ratio_Latest                     1\n",
              "                                      ... \n",
              "Value_of_Output_by_Total_Assets          0\n",
              "Cash_Flow_From_Operating_Activities      0\n",
              "CEPS_annualised_Unit_Curr                0\n",
              "Market_Capitalisation                    0\n",
              "Co_Code                                  0\n",
              "Length: 67, dtype: int64"
            ]
          },
          "metadata": {
            "tags": []
          },
          "execution_count": 12
        }
      ]
    },
    {
      "cell_type": "code",
      "metadata": {
        "colab": {
          "base_uri": "https://localhost:8080/"
        },
        "id": "PPAIuoimIAFA",
        "outputId": "d46af309-14b9-4c86-beb1-aff3dd32000e"
      },
      "source": [
        "print(np.where(df.isnull().sum()>0))"
      ],
      "execution_count": 13,
      "outputs": [
        {
          "output_type": "stream",
          "text": [
            "(array([29, 51, 52, 53, 54, 55, 56, 57, 58, 59, 60, 61, 64]),)\n"
          ],
          "name": "stdout"
        }
      ]
    },
    {
      "cell_type": "code",
      "metadata": {
        "colab": {
          "base_uri": "https://localhost:8080/"
        },
        "id": "K8mDxGCDN5p4",
        "outputId": "644a6917-af97-4f53-d046-15a09bd9fcf7"
      },
      "source": [
        "nulls = df.isnull().sum()\r\n",
        "nulls[nulls > 0]"
      ],
      "execution_count": 14,
      "outputs": [
        {
          "output_type": "execute_result",
          "data": {
            "text/plain": [
              "Book_Value_Adj._Unit_Curr              4\n",
              "Current_Ratio_Latest                   1\n",
              "Fixed_Assets_Ratio_Latest              1\n",
              "Inventory_Ratio_Latest                 1\n",
              "Debtors_Ratio_Latest                   1\n",
              "Total_Asset_Turnover_Ratio_Latest      1\n",
              "Interest_Cover_Ratio_Latest            1\n",
              "PBIDTM_perc_Latest                     1\n",
              "PBITM_perc_Latest                      1\n",
              "PBDTM_perc_Latest                      1\n",
              "CPM_perc_Latest                        1\n",
              "APATM_perc_Latest                      1\n",
              "Inventory_Velocity_Days              103\n",
              "dtype: int64"
            ]
          },
          "metadata": {
            "tags": []
          },
          "execution_count": 14
        }
      ]
    },
    {
      "cell_type": "code",
      "metadata": {
        "id": "Y_d4-RysRueA"
      },
      "source": [
        "df['Book_Value_Adj._Unit_Curr'].fillna(df['Book_Value_Adj._Unit_Curr'].median(), inplace=True)\r\n",
        "df['Current_Ratio_Latest'].fillna(df['Current_Ratio_Latest'].median(), inplace=True)\r\n",
        "df['Fixed_Assets_Ratio_Latest'].fillna(df['Fixed_Assets_Ratio_Latest'].median(), inplace=True)\r\n",
        "df['Inventory_Ratio_Latest'].fillna(df['Inventory_Ratio_Latest'].median(), inplace=True)\r\n",
        "df['Debtors_Ratio_Latest'].fillna(df['Debtors_Ratio_Latest'].median(), inplace=True)\r\n",
        "df['Total_Asset_Turnover_Ratio_Latest'].fillna(df['Total_Asset_Turnover_Ratio_Latest'].median(), inplace=True)\r\n",
        "df['Interest_Cover_Ratio_Latest'].fillna(df['Interest_Cover_Ratio_Latest'].median(), inplace=True)\r\n",
        "df['PBIDTM_perc_Latest'].fillna(df['PBIDTM_perc_Latest'].median(), inplace=True)\r\n",
        "df['PBITM_perc_Latest'].fillna(df['PBITM_perc_Latest'].median(), inplace=True)\r\n",
        "df['PBDTM_perc_Latest'].fillna(df['PBDTM_perc_Latest'].median(), inplace=True)\r\n",
        "df['CPM_perc_Latest'].fillna(df['CPM_perc_Latest'].median(), inplace=True)\r\n",
        "df['APATM_perc_Latest'].fillna(df['APATM_perc_Latest'].median(), inplace=True)\r\n",
        "df['Inventory_Velocity_Days'].fillna(df['Inventory_Velocity_Days'].median(), inplace=True)"
      ],
      "execution_count": 15,
      "outputs": []
    },
    {
      "cell_type": "code",
      "metadata": {
        "colab": {
          "base_uri": "https://localhost:8080/"
        },
        "id": "7wRRFKOaL4yl",
        "outputId": "f692f676-7117-4a12-dc5f-e106d7d83e00"
      },
      "source": [
        "nulls_1 = df.isnull().sum()\r\n",
        "nulls_1[nulls_1 > 0]"
      ],
      "execution_count": 16,
      "outputs": [
        {
          "output_type": "execute_result",
          "data": {
            "text/plain": [
              "Series([], dtype: int64)"
            ]
          },
          "metadata": {
            "tags": []
          },
          "execution_count": 16
        }
      ]
    },
    {
      "cell_type": "code",
      "metadata": {
        "colab": {
          "base_uri": "https://localhost:8080/"
        },
        "id": "5HMWgMLcQq9n",
        "outputId": "ac4789e5-30d0-4529-abcd-8464515ea725"
      },
      "source": [
        "df.info()"
      ],
      "execution_count": 17,
      "outputs": [
        {
          "output_type": "stream",
          "text": [
            "<class 'pandas.core.frame.DataFrame'>\n",
            "RangeIndex: 3586 entries, 0 to 3585\n",
            "Data columns (total 67 columns):\n",
            " #   Column                               Non-Null Count  Dtype  \n",
            "---  ------                               --------------  -----  \n",
            " 0   Co_Code                              3586 non-null   int64  \n",
            " 1   Co_Name                              3586 non-null   object \n",
            " 2   Networth_Next_Year                   3586 non-null   float64\n",
            " 3   Equity_Paid_Up                       3586 non-null   float64\n",
            " 4   Networth                             3586 non-null   float64\n",
            " 5   Capital_Employed                     3586 non-null   float64\n",
            " 6   Total_Debt                           3586 non-null   float64\n",
            " 7   Gross_Block                          3586 non-null   float64\n",
            " 8   Net_Working_Capital                  3586 non-null   float64\n",
            " 9   Current_Assets                       3586 non-null   float64\n",
            " 10  Current_Liabilities_and_Provisions   3586 non-null   float64\n",
            " 11  Total_Assets_by_Liabilities          3586 non-null   float64\n",
            " 12  Gross_Sales                          3586 non-null   float64\n",
            " 13  Net_Sales                            3586 non-null   float64\n",
            " 14  Other_Income                         3586 non-null   float64\n",
            " 15  Value_Of_Output                      3586 non-null   float64\n",
            " 16  Cost_of_Production                   3586 non-null   float64\n",
            " 17  Selling_Cost                         3586 non-null   float64\n",
            " 18  PBIDT                                3586 non-null   float64\n",
            " 19  PBDT                                 3586 non-null   float64\n",
            " 20  PBIT                                 3586 non-null   float64\n",
            " 21  PBT                                  3586 non-null   float64\n",
            " 22  PAT                                  3586 non-null   float64\n",
            " 23  Adjusted_PAT                         3586 non-null   float64\n",
            " 24  CP                                   3586 non-null   float64\n",
            " 25  Revenue_earnings_in_forex            3586 non-null   float64\n",
            " 26  Revenue_expenses_in_forex            3586 non-null   float64\n",
            " 27  Capital_expenses_in_forex            3586 non-null   float64\n",
            " 28  Book_Value_Unit_Curr                 3586 non-null   float64\n",
            " 29  Book_Value_Adj._Unit_Curr            3586 non-null   float64\n",
            " 30  Market_Capitalisation                3586 non-null   float64\n",
            " 31  CEPS_annualised_Unit_Curr            3586 non-null   float64\n",
            " 32  Cash_Flow_From_Operating_Activities  3586 non-null   float64\n",
            " 33  Cash_Flow_From_Investing_Activities  3586 non-null   float64\n",
            " 34  Cash_Flow_From_Financing_Activities  3586 non-null   float64\n",
            " 35  ROG_Net_Worth_perc                   3586 non-null   float64\n",
            " 36  ROG_Capital_Employed_perc            3586 non-null   float64\n",
            " 37  ROG_Gross_Block_perc                 3586 non-null   float64\n",
            " 38  ROG_Gross_Sales_perc                 3586 non-null   float64\n",
            " 39  ROG_Net_Sales_perc                   3586 non-null   float64\n",
            " 40  ROG_Cost_of_Production_perc          3586 non-null   float64\n",
            " 41  ROG_Total_Assets_perc                3586 non-null   float64\n",
            " 42  ROG_PBIDT_perc                       3586 non-null   float64\n",
            " 43  ROG_PBDT_perc                        3586 non-null   float64\n",
            " 44  ROG_PBIT_perc                        3586 non-null   float64\n",
            " 45  ROG_PBT_perc                         3586 non-null   float64\n",
            " 46  ROG_PAT_perc                         3586 non-null   float64\n",
            " 47  ROG_CP_perc                          3586 non-null   float64\n",
            " 48  ROG_Revenue_earnings_in_forex_perc   3586 non-null   float64\n",
            " 49  ROG_Revenue_expenses_in_forex_perc   3586 non-null   float64\n",
            " 50  ROG_Market_Capitalisation_perc       3586 non-null   float64\n",
            " 51  Current_Ratio_Latest                 3586 non-null   float64\n",
            " 52  Fixed_Assets_Ratio_Latest            3586 non-null   float64\n",
            " 53  Inventory_Ratio_Latest               3586 non-null   float64\n",
            " 54  Debtors_Ratio_Latest                 3586 non-null   float64\n",
            " 55  Total_Asset_Turnover_Ratio_Latest    3586 non-null   float64\n",
            " 56  Interest_Cover_Ratio_Latest          3586 non-null   float64\n",
            " 57  PBIDTM_perc_Latest                   3586 non-null   float64\n",
            " 58  PBITM_perc_Latest                    3586 non-null   float64\n",
            " 59  PBDTM_perc_Latest                    3586 non-null   float64\n",
            " 60  CPM_perc_Latest                      3586 non-null   float64\n",
            " 61  APATM_perc_Latest                    3586 non-null   float64\n",
            " 62  Debtors_Velocity_Days                3586 non-null   int64  \n",
            " 63  Creditors_Velocity_Days              3586 non-null   int64  \n",
            " 64  Inventory_Velocity_Days              3586 non-null   float64\n",
            " 65  Value_of_Output_by_Total_Assets      3586 non-null   float64\n",
            " 66  Value_of_Output_by_Gross_Block       3586 non-null   float64\n",
            "dtypes: float64(63), int64(3), object(1)\n",
            "memory usage: 1.8+ MB\n"
          ],
          "name": "stdout"
        }
      ]
    },
    {
      "cell_type": "code",
      "metadata": {
        "colab": {
          "base_uri": "https://localhost:8080/"
        },
        "id": "TcCp5AgwUf73",
        "outputId": "f9570b6d-1535-4bb4-d6d5-a1e464e676fa"
      },
      "source": [
        "dup = df.duplicated()\r\n",
        "print('Number of duplicate rows = %d' % (dup.sum()))"
      ],
      "execution_count": 18,
      "outputs": [
        {
          "output_type": "stream",
          "text": [
            "Number of duplicate rows = 0\n"
          ],
          "name": "stdout"
        }
      ]
    },
    {
      "cell_type": "code",
      "metadata": {
        "colab": {
          "base_uri": "https://localhost:8080/"
        },
        "id": "YaMBeM-eUcE4",
        "outputId": "37a5f577-ca8c-4791-a333-2014037bdb9f"
      },
      "source": [
        "df.isnull().sum()"
      ],
      "execution_count": 19,
      "outputs": [
        {
          "output_type": "execute_result",
          "data": {
            "text/plain": [
              "Co_Code                            0\n",
              "Co_Name                            0\n",
              "Networth_Next_Year                 0\n",
              "Equity_Paid_Up                     0\n",
              "Networth                           0\n",
              "                                  ..\n",
              "Debtors_Velocity_Days              0\n",
              "Creditors_Velocity_Days            0\n",
              "Inventory_Velocity_Days            0\n",
              "Value_of_Output_by_Total_Assets    0\n",
              "Value_of_Output_by_Gross_Block     0\n",
              "Length: 67, dtype: int64"
            ]
          },
          "metadata": {
            "tags": []
          },
          "execution_count": 19
        }
      ]
    },
    {
      "cell_type": "code",
      "metadata": {
        "id": "jNrDX2XRU38n"
      },
      "source": [
        "df=df.drop('Co_Name', axis=1)"
      ],
      "execution_count": 20,
      "outputs": []
    },
    {
      "cell_type": "code",
      "metadata": {
        "id": "J0Aj4jABVCXI"
      },
      "source": [
        "df=df.drop('Co_Code', axis=1)"
      ],
      "execution_count": 21,
      "outputs": []
    },
    {
      "cell_type": "code",
      "metadata": {
        "colab": {
          "base_uri": "https://localhost:8080/",
          "height": 652
        },
        "id": "X-AIBcWTUuKn",
        "outputId": "588f0780-c925-4540-8280-d97057c5548a"
      },
      "source": [
        "cont=df.dtypes[(df.dtypes!='float8') & (df.dtypes!='int8')].index\r\n",
        "plt.figure(figsize=(10,10))\r\n",
        "df[cont].boxplot(vert=0)\r\n",
        "plt.title('With Outliers',fontsize=30)"
      ],
      "execution_count": 22,
      "outputs": [
        {
          "output_type": "execute_result",
          "data": {
            "text/plain": [
              "Text(0.5, 1.0, 'With Outliers')"
            ]
          },
          "metadata": {
            "tags": []
          },
          "execution_count": 22
        },
        {
          "output_type": "display_data",
          "data": {
            "image/png": "[encoded data removed]",
            "text/plain": [
              "<Figure size 720x720 with 1 Axes>"
            ]
          },
          "metadata": {
            "tags": [],
            "needs_background": "light"
          }
        }
      ]
    },
    {
      "cell_type": "code",
      "metadata": {
        "id": "Xzvk1_iYVOyc"
      },
      "source": [
        "def remove_outlier(col):\r\n",
        "    sorted(col)\r\n",
        "    Q1,Q3=np.percentile(col,[25,75])\r\n",
        "    IQR=Q3-Q1\r\n",
        "    lower_range= Q1-(1.5 * IQR)\r\n",
        "    upper_range= Q3+(1.5 * IQR)\r\n",
        "    return lower_range, upper_range "
      ],
      "execution_count": 23,
      "outputs": []
    },
    {
      "cell_type": "code",
      "metadata": {
        "id": "QSYZw2iaVctY"
      },
      "source": [
        "for column in df[cont].columns:\r\n",
        "    lr,ur=remove_outlier(df[column])\r\n",
        "    df[column]=np.where(df[column]>ur,ur,df[column])\r\n",
        "    df[column]=np.where(df[column]<lr,lr,df[column])"
      ],
      "execution_count": 24,
      "outputs": []
    },
    {
      "cell_type": "code",
      "metadata": {
        "colab": {
          "base_uri": "https://localhost:8080/",
          "height": 637
        },
        "id": "8fcp5yDIVg9H",
        "outputId": "48cb0819-7225-4ca7-b0a7-9e1ff7ba8a70"
      },
      "source": [
        "plt.figure(figsize=(10,10))\r\n",
        "df[cont].boxplot(vert=0)\r\n",
        "plt.title('After Outlier Removal',fontsize=30)"
      ],
      "execution_count": 25,
      "outputs": [
        {
          "output_type": "execute_result",
          "data": {
            "text/plain": [
              "Text(0.5, 1.0, 'After Outlier Removal')"
            ]
          },
          "metadata": {
            "tags": []
          },
          "execution_count": 25
        },
        {
          "output_type": "display_data",
          "data": {
            "image/png": "[encoded data removed]",
            "text/plain": [
              "<Figure size 720x720 with 1 Axes>"
            ]
          },
          "metadata": {
            "tags": [],
            "needs_background": "light"
          }
        }
      ]
    },
    {
      "cell_type": "code",
      "metadata": {
        "colab": {
          "base_uri": "https://localhost:8080/"
        },
        "id": "gL3H8QyAmHvs",
        "outputId": "c4e9f7fa-c3b3-4f2f-b99f-99d2cb6fb348"
      },
      "source": [
        "df['Networth_Next_Year'].isnull().sum()"
      ],
      "execution_count": 26,
      "outputs": [
        {
          "output_type": "execute_result",
          "data": {
            "text/plain": [
              "0"
            ]
          },
          "metadata": {
            "tags": []
          },
          "execution_count": 26
        }
      ]
    },
    {
      "cell_type": "code",
      "metadata": {
        "id": "OzJYMfSaCxu3"
      },
      "source": [
        "df['default'] = np.where((df['Networth_Next_Year'] > 0), 0, 1)"
      ],
      "execution_count": 27,
      "outputs": []
    },
    {
      "cell_type": "code",
      "metadata": {
        "colab": {
          "base_uri": "https://localhost:8080/",
          "height": 347
        },
        "id": "dZj_XA_REoAC",
        "outputId": "7a820b43-9be8-40db-dc32-81c2299c2a97"
      },
      "source": [
        "df[['default','Networth_Next_Year']].head(10)"
      ],
      "execution_count": 28,
      "outputs": [
        {
          "output_type": "execute_result",
          "data": {
            "text/html": [
              "<div>\n",
              "<style scoped>\n",
              "    .dataframe tbody tr th:only-of-type {\n",
              "        vertical-align: middle;\n",
              "    }\n",
              "\n",
              "    .dataframe tbody tr th {\n",
              "        vertical-align: top;\n",
              "    }\n",
              "\n",
              "    .dataframe thead th {\n",
              "        text-align: right;\n",
              "    }\n",
              "</style>\n",
              "<table border=\"1\" class=\"dataframe\">\n",
              "  <thead>\n",
              "    <tr style=\"text-align: right;\">\n",
              "      <th></th>\n",
              "      <th>default</th>\n",
              "      <th>Networth_Next_Year</th>\n",
              "    </tr>\n",
              "  </thead>\n",
              "  <tbody>\n",
              "    <tr>\n",
              "      <th>0</th>\n",
              "      <td>1</td>\n",
              "      <td>-175.74125</td>\n",
              "    </tr>\n",
              "    <tr>\n",
              "      <th>1</th>\n",
              "      <td>1</td>\n",
              "      <td>-175.74125</td>\n",
              "    </tr>\n",
              "    <tr>\n",
              "      <th>2</th>\n",
              "      <td>1</td>\n",
              "      <td>-175.74125</td>\n",
              "    </tr>\n",
              "    <tr>\n",
              "      <th>3</th>\n",
              "      <td>1</td>\n",
              "      <td>-175.74125</td>\n",
              "    </tr>\n",
              "    <tr>\n",
              "      <th>4</th>\n",
              "      <td>1</td>\n",
              "      <td>-175.74125</td>\n",
              "    </tr>\n",
              "    <tr>\n",
              "      <th>5</th>\n",
              "      <td>1</td>\n",
              "      <td>-175.74125</td>\n",
              "    </tr>\n",
              "    <tr>\n",
              "      <th>6</th>\n",
              "      <td>1</td>\n",
              "      <td>-175.74125</td>\n",
              "    </tr>\n",
              "    <tr>\n",
              "      <th>7</th>\n",
              "      <td>1</td>\n",
              "      <td>-175.74125</td>\n",
              "    </tr>\n",
              "    <tr>\n",
              "      <th>8</th>\n",
              "      <td>1</td>\n",
              "      <td>-175.74125</td>\n",
              "    </tr>\n",
              "    <tr>\n",
              "      <th>9</th>\n",
              "      <td>1</td>\n",
              "      <td>-175.74125</td>\n",
              "    </tr>\n",
              "  </tbody>\n",
              "</table>\n",
              "</div>"
            ],
            "text/plain": [
              "   default  Networth_Next_Year\n",
              "0        1          -175.74125\n",
              "1        1          -175.74125\n",
              "2        1          -175.74125\n",
              "3        1          -175.74125\n",
              "4        1          -175.74125\n",
              "5        1          -175.74125\n",
              "6        1          -175.74125\n",
              "7        1          -175.74125\n",
              "8        1          -175.74125\n",
              "9        1          -175.74125"
            ]
          },
          "metadata": {
            "tags": []
          },
          "execution_count": 28
        }
      ]
    },
    {
      "cell_type": "code",
      "metadata": {
        "colab": {
          "base_uri": "https://localhost:8080/"
        },
        "id": "P6PmiFGuEv-l",
        "outputId": "a04059e4-ce3a-4703-9884-9c10c2e4103a"
      },
      "source": [
        "df['default'].value_counts()"
      ],
      "execution_count": 29,
      "outputs": [
        {
          "output_type": "execute_result",
          "data": {
            "text/plain": [
              "0    3198\n",
              "1     388\n",
              "Name: default, dtype: int64"
            ]
          },
          "metadata": {
            "tags": []
          },
          "execution_count": 29
        }
      ]
    },
    {
      "cell_type": "code",
      "metadata": {
        "colab": {
          "base_uri": "https://localhost:8080/"
        },
        "id": "YduY5c-9FhQK",
        "outputId": "ab9a3970-6c30-4e0c-d9a4-7060d8aa5d4c"
      },
      "source": [
        "388/(388+3198)*100"
      ],
      "execution_count": 30,
      "outputs": [
        {
          "output_type": "execute_result",
          "data": {
            "text/plain": [
              "10.819854991634132"
            ]
          },
          "metadata": {
            "tags": []
          },
          "execution_count": 30
        }
      ]
    },
    {
      "cell_type": "code",
      "metadata": {
        "colab": {
          "base_uri": "https://localhost:8080/",
          "height": 287
        },
        "id": "OudpR7mbFkPK",
        "outputId": "02801c93-a1d6-4776-c3fb-bb5c75556f7d"
      },
      "source": [
        "df[['default','Networth_Next_Year']].describe()"
      ],
      "execution_count": 31,
      "outputs": [
        {
          "output_type": "execute_result",
          "data": {
            "text/html": [
              "<div>\n",
              "<style scoped>\n",
              "    .dataframe tbody tr th:only-of-type {\n",
              "        vertical-align: middle;\n",
              "    }\n",
              "\n",
              "    .dataframe tbody tr th {\n",
              "        vertical-align: top;\n",
              "    }\n",
              "\n",
              "    .dataframe thead th {\n",
              "        text-align: right;\n",
              "    }\n",
              "</style>\n",
              "<table border=\"1\" class=\"dataframe\">\n",
              "  <thead>\n",
              "    <tr style=\"text-align: right;\">\n",
              "      <th></th>\n",
              "      <th>default</th>\n",
              "      <th>Networth_Next_Year</th>\n",
              "    </tr>\n",
              "  </thead>\n",
              "  <tbody>\n",
              "    <tr>\n",
              "      <th>count</th>\n",
              "      <td>3586.000000</td>\n",
              "      <td>3586.000000</td>\n",
              "    </tr>\n",
              "    <tr>\n",
              "      <th>mean</th>\n",
              "      <td>0.108199</td>\n",
              "      <td>77.399862</td>\n",
              "    </tr>\n",
              "    <tr>\n",
              "      <th>std</th>\n",
              "      <td>0.310674</td>\n",
              "      <td>120.475995</td>\n",
              "    </tr>\n",
              "    <tr>\n",
              "      <th>min</th>\n",
              "      <td>0.000000</td>\n",
              "      <td>-175.741250</td>\n",
              "    </tr>\n",
              "    <tr>\n",
              "      <th>25%</th>\n",
              "      <td>0.000000</td>\n",
              "      <td>3.985000</td>\n",
              "    </tr>\n",
              "    <tr>\n",
              "      <th>50%</th>\n",
              "      <td>0.000000</td>\n",
              "      <td>19.015000</td>\n",
              "    </tr>\n",
              "    <tr>\n",
              "      <th>75%</th>\n",
              "      <td>0.000000</td>\n",
              "      <td>123.802500</td>\n",
              "    </tr>\n",
              "    <tr>\n",
              "      <th>max</th>\n",
              "      <td>1.000000</td>\n",
              "      <td>303.528750</td>\n",
              "    </tr>\n",
              "  </tbody>\n",
              "</table>\n",
              "</div>"
            ],
            "text/plain": [
              "           default  Networth_Next_Year\n",
              "count  3586.000000         3586.000000\n",
              "mean      0.108199           77.399862\n",
              "std       0.310674          120.475995\n",
              "min       0.000000         -175.741250\n",
              "25%       0.000000            3.985000\n",
              "50%       0.000000           19.015000\n",
              "75%       0.000000          123.802500\n",
              "max       1.000000          303.528750"
            ]
          },
          "metadata": {
            "tags": []
          },
          "execution_count": 31
        }
      ]
    },
    {
      "cell_type": "code",
      "metadata": {
        "colab": {
          "base_uri": "https://localhost:8080/",
          "height": 217
        },
        "id": "Lu99PgYbWYcP",
        "outputId": "46198dbb-69cc-47ff-b1dd-bbf1a56a6fa9"
      },
      "source": [
        "df.head()"
      ],
      "execution_count": 32,
      "outputs": [
        {
          "output_type": "execute_result",
          "data": {
            "text/html": [
              "<div>\n",
              "<style scoped>\n",
              "    .dataframe tbody tr th:only-of-type {\n",
              "        vertical-align: middle;\n",
              "    }\n",
              "\n",
              "    .dataframe tbody tr th {\n",
              "        vertical-align: top;\n",
              "    }\n",
              "\n",
              "    .dataframe thead th {\n",
              "        text-align: right;\n",
              "    }\n",
              "</style>\n",
              "<table border=\"1\" class=\"dataframe\">\n",
              "  <thead>\n",
              "    <tr style=\"text-align: right;\">\n",
              "      <th></th>\n",
              "      <th>Networth_Next_Year</th>\n",
              "      <th>Equity_Paid_Up</th>\n",
              "      <th>Networth</th>\n",
              "      <th>Capital_Employed</th>\n",
              "      <th>Total_Debt</th>\n",
              "      <th>Gross_Block</th>\n",
              "      <th>Net_Working_Capital</th>\n",
              "      <th>Current_Assets</th>\n",
              "      <th>Current_Liabilities_and_Provisions</th>\n",
              "      <th>Total_Assets_by_Liabilities</th>\n",
              "      <th>Gross_Sales</th>\n",
              "      <th>Net_Sales</th>\n",
              "      <th>Other_Income</th>\n",
              "      <th>Value_Of_Output</th>\n",
              "      <th>Cost_of_Production</th>\n",
              "      <th>Selling_Cost</th>\n",
              "      <th>PBIDT</th>\n",
              "      <th>PBDT</th>\n",
              "      <th>PBIT</th>\n",
              "      <th>PBT</th>\n",
              "      <th>PAT</th>\n",
              "      <th>Adjusted_PAT</th>\n",
              "      <th>CP</th>\n",
              "      <th>Revenue_earnings_in_forex</th>\n",
              "      <th>Revenue_expenses_in_forex</th>\n",
              "      <th>Capital_expenses_in_forex</th>\n",
              "      <th>Book_Value_Unit_Curr</th>\n",
              "      <th>Book_Value_Adj._Unit_Curr</th>\n",
              "      <th>Market_Capitalisation</th>\n",
              "      <th>CEPS_annualised_Unit_Curr</th>\n",
              "      <th>Cash_Flow_From_Operating_Activities</th>\n",
              "      <th>Cash_Flow_From_Investing_Activities</th>\n",
              "      <th>Cash_Flow_From_Financing_Activities</th>\n",
              "      <th>ROG_Net_Worth_perc</th>\n",
              "      <th>ROG_Capital_Employed_perc</th>\n",
              "      <th>ROG_Gross_Block_perc</th>\n",
              "      <th>ROG_Gross_Sales_perc</th>\n",
              "      <th>ROG_Net_Sales_perc</th>\n",
              "      <th>ROG_Cost_of_Production_perc</th>\n",
              "      <th>ROG_Total_Assets_perc</th>\n",
              "      <th>ROG_PBIDT_perc</th>\n",
              "      <th>ROG_PBDT_perc</th>\n",
              "      <th>ROG_PBIT_perc</th>\n",
              "      <th>ROG_PBT_perc</th>\n",
              "      <th>ROG_PAT_perc</th>\n",
              "      <th>ROG_CP_perc</th>\n",
              "      <th>ROG_Revenue_earnings_in_forex_perc</th>\n",
              "      <th>ROG_Revenue_expenses_in_forex_perc</th>\n",
              "      <th>ROG_Market_Capitalisation_perc</th>\n",
              "      <th>Current_Ratio_Latest</th>\n",
              "      <th>Fixed_Assets_Ratio_Latest</th>\n",
              "      <th>Inventory_Ratio_Latest</th>\n",
              "      <th>Debtors_Ratio_Latest</th>\n",
              "      <th>Total_Asset_Turnover_Ratio_Latest</th>\n",
              "      <th>Interest_Cover_Ratio_Latest</th>\n",
              "      <th>PBIDTM_perc_Latest</th>\n",
              "      <th>PBITM_perc_Latest</th>\n",
              "      <th>PBDTM_perc_Latest</th>\n",
              "      <th>CPM_perc_Latest</th>\n",
              "      <th>APATM_perc_Latest</th>\n",
              "      <th>Debtors_Velocity_Days</th>\n",
              "      <th>Creditors_Velocity_Days</th>\n",
              "      <th>Inventory_Velocity_Days</th>\n",
              "      <th>Value_of_Output_by_Total_Assets</th>\n",
              "      <th>Value_of_Output_by_Gross_Block</th>\n",
              "      <th>default</th>\n",
              "    </tr>\n",
              "  </thead>\n",
              "  <tbody>\n",
              "    <tr>\n",
              "      <th>0</th>\n",
              "      <td>-175.74125</td>\n",
              "      <td>43.16875</td>\n",
              "      <td>-166.215</td>\n",
              "      <td>-320.90125</td>\n",
              "      <td>180.83</td>\n",
              "      <td>328.8825</td>\n",
              "      <td>-89.40625</td>\n",
              "      <td>40.50000</td>\n",
              "      <td>163.02625</td>\n",
              "      <td>109.6000</td>\n",
              "      <td>0.00000</td>\n",
              "      <td>0.00</td>\n",
              "      <td>7.6000</td>\n",
              "      <td>-0.070</td>\n",
              "      <td>137.670</td>\n",
              "      <td>0.00000</td>\n",
              "      <td>-35.1875</td>\n",
              "      <td>-19.4175</td>\n",
              "      <td>-25.00125</td>\n",
              "      <td>-11.28375</td>\n",
              "      <td>-8.46</td>\n",
              "      <td>-8.23875</td>\n",
              "      <td>-16.365</td>\n",
              "      <td>0.00</td>\n",
              "      <td>0.00000</td>\n",
              "      <td>0.0</td>\n",
              "      <td>-87.595</td>\n",
              "      <td>-72.2775</td>\n",
              "      <td>0.00000</td>\n",
              "      <td>-13.15875</td>\n",
              "      <td>-19.74</td>\n",
              "      <td>1.46000</td>\n",
              "      <td>9.915</td>\n",
              "      <td>-15.3100</td>\n",
              "      <td>-20.76000</td>\n",
              "      <td>-9.75</td>\n",
              "      <td>0.00000</td>\n",
              "      <td>0.000</td>\n",
              "      <td>1.38</td>\n",
              "      <td>-25.75</td>\n",
              "      <td>5.23000</td>\n",
              "      <td>-19.29000</td>\n",
              "      <td>4.430</td>\n",
              "      <td>-19.33000</td>\n",
              "      <td>-19.3300</td>\n",
              "      <td>-19.29000</td>\n",
              "      <td>0.0</td>\n",
              "      <td>0.0</td>\n",
              "      <td>0.00</td>\n",
              "      <td>0.02</td>\n",
              "      <td>0.00</td>\n",
              "      <td>0.00000</td>\n",
              "      <td>0.00</td>\n",
              "      <td>0.00</td>\n",
              "      <td>-0.20</td>\n",
              "      <td>0.00000</td>\n",
              "      <td>0.0000</td>\n",
              "      <td>0.00</td>\n",
              "      <td>0.00000</td>\n",
              "      <td>0.00000</td>\n",
              "      <td>0.0</td>\n",
              "      <td>0.0</td>\n",
              "      <td>45.0</td>\n",
              "      <td>0.00</td>\n",
              "      <td>0.00</td>\n",
              "      <td>1</td>\n",
              "    </tr>\n",
              "    <tr>\n",
              "      <th>1</th>\n",
              "      <td>-175.74125</td>\n",
              "      <td>43.16875</td>\n",
              "      <td>-166.215</td>\n",
              "      <td>555.10875</td>\n",
              "      <td>180.83</td>\n",
              "      <td>328.8825</td>\n",
              "      <td>-89.40625</td>\n",
              "      <td>332.19375</td>\n",
              "      <td>163.02625</td>\n",
              "      <td>760.5175</td>\n",
              "      <td>603.46125</td>\n",
              "      <td>583.94</td>\n",
              "      <td>9.0575</td>\n",
              "      <td>587.475</td>\n",
              "      <td>472.465</td>\n",
              "      <td>9.70625</td>\n",
              "      <td>58.7525</td>\n",
              "      <td>-4.3200</td>\n",
              "      <td>35.53000</td>\n",
              "      <td>-11.28375</td>\n",
              "      <td>-8.46</td>\n",
              "      <td>-8.23875</td>\n",
              "      <td>-4.320</td>\n",
              "      <td>6.35</td>\n",
              "      <td>17.46875</td>\n",
              "      <td>0.0</td>\n",
              "      <td>-15.180</td>\n",
              "      <td>-15.1800</td>\n",
              "      <td>278.64375</td>\n",
              "      <td>-0.02000</td>\n",
              "      <td>32.08</td>\n",
              "      <td>-12.97375</td>\n",
              "      <td>9.915</td>\n",
              "      <td>-20.7625</td>\n",
              "      <td>6.30000</td>\n",
              "      <td>3.17</td>\n",
              "      <td>5.92000</td>\n",
              "      <td>5.920</td>\n",
              "      <td>13.16</td>\n",
              "      <td>6.66</td>\n",
              "      <td>5.24000</td>\n",
              "      <td>-108.77000</td>\n",
              "      <td>172.385</td>\n",
              "      <td>-9.85000</td>\n",
              "      <td>-9.8500</td>\n",
              "      <td>-108.77000</td>\n",
              "      <td>0.0</td>\n",
              "      <td>0.0</td>\n",
              "      <td>6.61</td>\n",
              "      <td>0.08</td>\n",
              "      <td>0.25</td>\n",
              "      <td>22.34375</td>\n",
              "      <td>10.35</td>\n",
              "      <td>0.30</td>\n",
              "      <td>-0.84</td>\n",
              "      <td>-10.30000</td>\n",
              "      <td>-21.4275</td>\n",
              "      <td>-21.15</td>\n",
              "      <td>-17.08125</td>\n",
              "      <td>-11.11125</td>\n",
              "      <td>29.0</td>\n",
              "      <td>101.0</td>\n",
              "      <td>2.0</td>\n",
              "      <td>0.31</td>\n",
              "      <td>0.24</td>\n",
              "      <td>1</td>\n",
              "    </tr>\n",
              "    <tr>\n",
              "      <th>2</th>\n",
              "      <td>-175.74125</td>\n",
              "      <td>43.16875</td>\n",
              "      <td>287.405</td>\n",
              "      <td>555.10875</td>\n",
              "      <td>180.83</td>\n",
              "      <td>328.8825</td>\n",
              "      <td>151.52375</td>\n",
              "      <td>332.19375</td>\n",
              "      <td>163.02625</td>\n",
              "      <td>760.5175</td>\n",
              "      <td>392.13000</td>\n",
              "      <td>392.13</td>\n",
              "      <td>9.0575</td>\n",
              "      <td>301.160</td>\n",
              "      <td>408.510</td>\n",
              "      <td>9.70625</td>\n",
              "      <td>-35.1875</td>\n",
              "      <td>-19.4175</td>\n",
              "      <td>-25.00125</td>\n",
              "      <td>-11.28375</td>\n",
              "      <td>-8.46</td>\n",
              "      <td>-8.23875</td>\n",
              "      <td>-16.365</td>\n",
              "      <td>0.00</td>\n",
              "      <td>17.46875</td>\n",
              "      <td>0.0</td>\n",
              "      <td>94.140</td>\n",
              "      <td>94.1400</td>\n",
              "      <td>278.64375</td>\n",
              "      <td>-13.15875</td>\n",
              "      <td>-19.74</td>\n",
              "      <td>-12.97375</td>\n",
              "      <td>9.915</td>\n",
              "      <td>-20.7625</td>\n",
              "      <td>15.66000</td>\n",
              "      <td>-2.07</td>\n",
              "      <td>-52.48125</td>\n",
              "      <td>-52.645</td>\n",
              "      <td>-52.79</td>\n",
              "      <td>-0.78</td>\n",
              "      <td>-130.21875</td>\n",
              "      <td>-155.86625</td>\n",
              "      <td>-153.595</td>\n",
              "      <td>-196.02375</td>\n",
              "      <td>-207.3525</td>\n",
              "      <td>-153.12375</td>\n",
              "      <td>0.0</td>\n",
              "      <td>0.0</td>\n",
              "      <td>-6.31</td>\n",
              "      <td>1.06</td>\n",
              "      <td>0.03</td>\n",
              "      <td>0.01000</td>\n",
              "      <td>0.42</td>\n",
              "      <td>0.00</td>\n",
              "      <td>-2.21</td>\n",
              "      <td>-28.48125</td>\n",
              "      <td>-21.4275</td>\n",
              "      <td>-21.15</td>\n",
              "      <td>-17.08125</td>\n",
              "      <td>-11.11125</td>\n",
              "      <td>97.0</td>\n",
              "      <td>210.5</td>\n",
              "      <td>0.0</td>\n",
              "      <td>-0.03</td>\n",
              "      <td>-0.26</td>\n",
              "      <td>1</td>\n",
              "    </tr>\n",
              "    <tr>\n",
              "      <th>3</th>\n",
              "      <td>-175.74125</td>\n",
              "      <td>43.16875</td>\n",
              "      <td>-166.215</td>\n",
              "      <td>555.10875</td>\n",
              "      <td>180.83</td>\n",
              "      <td>328.8825</td>\n",
              "      <td>-89.40625</td>\n",
              "      <td>332.19375</td>\n",
              "      <td>163.02625</td>\n",
              "      <td>760.5175</td>\n",
              "      <td>603.46125</td>\n",
              "      <td>583.94</td>\n",
              "      <td>9.0575</td>\n",
              "      <td>587.475</td>\n",
              "      <td>472.465</td>\n",
              "      <td>3.34000</td>\n",
              "      <td>-35.1875</td>\n",
              "      <td>-19.4175</td>\n",
              "      <td>-25.00125</td>\n",
              "      <td>-11.28375</td>\n",
              "      <td>-8.46</td>\n",
              "      <td>-8.23875</td>\n",
              "      <td>-16.365</td>\n",
              "      <td>0.89</td>\n",
              "      <td>17.46875</td>\n",
              "      <td>0.0</td>\n",
              "      <td>-39.640</td>\n",
              "      <td>-39.6400</td>\n",
              "      <td>194.27000</td>\n",
              "      <td>-13.15875</td>\n",
              "      <td>32.08</td>\n",
              "      <td>7.97625</td>\n",
              "      <td>-15.305</td>\n",
              "      <td>-20.7625</td>\n",
              "      <td>-28.46875</td>\n",
              "      <td>-1.80</td>\n",
              "      <td>8.33000</td>\n",
              "      <td>8.330</td>\n",
              "      <td>16.59</td>\n",
              "      <td>-10.12</td>\n",
              "      <td>-130.21875</td>\n",
              "      <td>-102.72000</td>\n",
              "      <td>-153.595</td>\n",
              "      <td>-80.23000</td>\n",
              "      <td>-70.5700</td>\n",
              "      <td>-88.52000</td>\n",
              "      <td>0.0</td>\n",
              "      <td>0.0</td>\n",
              "      <td>-13.94</td>\n",
              "      <td>0.09</td>\n",
              "      <td>5.08</td>\n",
              "      <td>22.34375</td>\n",
              "      <td>9.26</td>\n",
              "      <td>0.00</td>\n",
              "      <td>-0.16</td>\n",
              "      <td>-3.33000</td>\n",
              "      <td>-7.2100</td>\n",
              "      <td>-21.15</td>\n",
              "      <td>-17.08125</td>\n",
              "      <td>-11.11125</td>\n",
              "      <td>93.0</td>\n",
              "      <td>63.0</td>\n",
              "      <td>2.0</td>\n",
              "      <td>0.24</td>\n",
              "      <td>1.90</td>\n",
              "      <td>1</td>\n",
              "    </tr>\n",
              "    <tr>\n",
              "      <th>4</th>\n",
              "      <td>-175.74125</td>\n",
              "      <td>43.16875</td>\n",
              "      <td>-166.215</td>\n",
              "      <td>555.10875</td>\n",
              "      <td>180.83</td>\n",
              "      <td>328.8825</td>\n",
              "      <td>151.52375</td>\n",
              "      <td>332.19375</td>\n",
              "      <td>163.02625</td>\n",
              "      <td>760.5175</td>\n",
              "      <td>38.72000</td>\n",
              "      <td>38.72</td>\n",
              "      <td>9.0575</td>\n",
              "      <td>38.720</td>\n",
              "      <td>186.290</td>\n",
              "      <td>1.97000</td>\n",
              "      <td>-35.1875</td>\n",
              "      <td>-19.4175</td>\n",
              "      <td>-25.00125</td>\n",
              "      <td>-11.28375</td>\n",
              "      <td>-8.46</td>\n",
              "      <td>-8.23875</td>\n",
              "      <td>-16.365</td>\n",
              "      <td>0.00</td>\n",
              "      <td>15.62000</td>\n",
              "      <td>0.0</td>\n",
              "      <td>-87.595</td>\n",
              "      <td>-72.2775</td>\n",
              "      <td>113.68000</td>\n",
              "      <td>-13.15875</td>\n",
              "      <td>-19.74</td>\n",
              "      <td>7.97625</td>\n",
              "      <td>9.915</td>\n",
              "      <td>-20.7625</td>\n",
              "      <td>-11.76000</td>\n",
              "      <td>0.34</td>\n",
              "      <td>-52.48125</td>\n",
              "      <td>-52.645</td>\n",
              "      <td>-48.80</td>\n",
              "      <td>-5.81</td>\n",
              "      <td>-40.07000</td>\n",
              "      <td>3.28000</td>\n",
              "      <td>-38.720</td>\n",
              "      <td>1.87000</td>\n",
              "      <td>-2.5900</td>\n",
              "      <td>-1.13000</td>\n",
              "      <td>0.0</td>\n",
              "      <td>0.0</td>\n",
              "      <td>-12.91</td>\n",
              "      <td>0.50</td>\n",
              "      <td>0.05</td>\n",
              "      <td>0.02000</td>\n",
              "      <td>1.28</td>\n",
              "      <td>0.01</td>\n",
              "      <td>-0.73</td>\n",
              "      <td>-28.48125</td>\n",
              "      <td>-21.4275</td>\n",
              "      <td>-21.15</td>\n",
              "      <td>28.46875</td>\n",
              "      <td>18.51875</td>\n",
              "      <td>253.0</td>\n",
              "      <td>210.5</td>\n",
              "      <td>0.0</td>\n",
              "      <td>0.01</td>\n",
              "      <td>0.05</td>\n",
              "      <td>1</td>\n",
              "    </tr>\n",
              "  </tbody>\n",
              "</table>\n",
              "</div>"
            ],
            "text/plain": [
              "   Networth_Next_Year  Equity_Paid_Up  ...  Value_of_Output_by_Gross_Block  default\n",
              "0          -175.74125        43.16875  ...                            0.00        1\n",
              "1          -175.74125        43.16875  ...                            0.24        1\n",
              "2          -175.74125        43.16875  ...                           -0.26        1\n",
              "3          -175.74125        43.16875  ...                            1.90        1\n",
              "4          -175.74125        43.16875  ...                            0.05        1\n",
              "\n",
              "[5 rows x 66 columns]"
            ]
          },
          "metadata": {
            "tags": []
          },
          "execution_count": 32
        }
      ]
    },
    {
      "cell_type": "code",
      "metadata": {
        "colab": {
          "base_uri": "https://localhost:8080/"
        },
        "id": "k7IUmLEoWSyz",
        "outputId": "1c9d2742-fb09-4a66-8752-60e1e469bbb5"
      },
      "source": [
        "df['PBIDTM_perc_Latest'].describe()"
      ],
      "execution_count": 33,
      "outputs": [
        {
          "output_type": "execute_result",
          "data": {
            "text/plain": [
              "count    3586.000000\n",
              "mean       10.548013\n",
              "std        18.933630\n",
              "min       -28.481250\n",
              "25%         0.000000\n",
              "50%         8.070000\n",
              "75%        18.987500\n",
              "max        47.468750\n",
              "Name: PBIDTM_perc_Latest, dtype: float64"
            ]
          },
          "metadata": {
            "tags": []
          },
          "execution_count": 33
        }
      ]
    },
    {
      "cell_type": "code",
      "metadata": {
        "colab": {
          "base_uri": "https://localhost:8080/"
        },
        "id": "otJj7ZjNg6ni",
        "outputId": "46216d66-aaa1-4d24-9f01-9aa355bf0bf7"
      },
      "source": [
        "df.loc[df['default'] == 0,'PBIDTM_perc_Latest'].describe()"
      ],
      "execution_count": 34,
      "outputs": [
        {
          "output_type": "execute_result",
          "data": {
            "text/plain": [
              "count    3198.000000\n",
              "mean       12.197627\n",
              "std        18.388307\n",
              "min       -28.481250\n",
              "25%         1.852500\n",
              "50%         9.150000\n",
              "75%        20.630000\n",
              "max        47.468750\n",
              "Name: PBIDTM_perc_Latest, dtype: float64"
            ]
          },
          "metadata": {
            "tags": []
          },
          "execution_count": 34
        }
      ]
    },
    {
      "cell_type": "code",
      "metadata": {
        "colab": {
          "base_uri": "https://localhost:8080/"
        },
        "id": "TStt7WsLj7iq",
        "outputId": "179682ba-93db-46cb-eb05-6766d9d2c2dd"
      },
      "source": [
        "df.loc[df['default'] == 1,'PBIDTM_perc_Latest'].describe()"
      ],
      "execution_count": 35,
      "outputs": [
        {
          "output_type": "execute_result",
          "data": {
            "text/plain": [
              "count    388.000000\n",
              "mean      -3.048541\n",
              "std       17.880413\n",
              "min      -28.481250\n",
              "25%      -13.432500\n",
              "50%        0.000000\n",
              "75%        2.985000\n",
              "max       47.468750\n",
              "Name: PBIDTM_perc_Latest, dtype: float64"
            ]
          },
          "metadata": {
            "tags": []
          },
          "execution_count": 35
        }
      ]
    },
    {
      "cell_type": "code",
      "metadata": {
        "colab": {
          "base_uri": "https://localhost:8080/"
        },
        "id": "oFluxwatkD-q",
        "outputId": "df4820eb-ff7f-484f-f6dd-a8c895d89b87"
      },
      "source": [
        "df.loc[df['default'] == 1,'Networth_Next_Year'].describe()"
      ],
      "execution_count": 36,
      "outputs": [
        {
          "output_type": "execute_result",
          "data": {
            "text/plain": [
              "count    388.000000\n",
              "mean     -51.770802\n",
              "std       67.456959\n",
              "min     -175.741250\n",
              "25%      -78.390000\n",
              "50%      -12.705000\n",
              "75%       -2.977500\n",
              "max        0.000000\n",
              "Name: Networth_Next_Year, dtype: float64"
            ]
          },
          "metadata": {
            "tags": []
          },
          "execution_count": 36
        }
      ]
    },
    {
      "cell_type": "code",
      "metadata": {
        "colab": {
          "base_uri": "https://localhost:8080/"
        },
        "id": "mqByvzCVkPl6",
        "outputId": "74d9b582-defe-4d47-dafa-723528833395"
      },
      "source": [
        "df.loc[df['default'] == 0,'Networth_Next_Year'].describe()"
      ],
      "execution_count": 37,
      "outputs": [
        {
          "output_type": "execute_result",
          "data": {
            "text/plain": [
              "count    3198.000000\n",
              "mean       93.071600\n",
              "std       115.993612\n",
              "min         0.010000\n",
              "25%         6.870000\n",
              "50%        26.505000\n",
              "75%       160.090000\n",
              "max       303.528750\n",
              "Name: Networth_Next_Year, dtype: float64"
            ]
          },
          "metadata": {
            "tags": []
          },
          "execution_count": 37
        }
      ]
    },
    {
      "cell_type": "code",
      "metadata": {
        "id": "drFldYbrkR6a",
        "colab": {
          "base_uri": "https://localhost:8080/",
          "height": 296
        },
        "outputId": "d3184ab7-0e45-4005-950c-45053514775a"
      },
      "source": [
        "sns.barplot(y='PBIDTM_perc_Latest', x='default', data=df)"
      ],
      "execution_count": 38,
      "outputs": [
        {
          "output_type": "execute_result",
          "data": {
            "text/plain": [
              "<matplotlib.axes._subplots.AxesSubplot at 0x7f720dc77a20>"
            ]
          },
          "metadata": {
            "tags": []
          },
          "execution_count": 38
        },
        {
          "output_type": "display_data",
          "data": {
            "image/png": "[encoded data removed]",
            "text/plain": [
              "<Figure size 432x288 with 1 Axes>"
            ]
          },
          "metadata": {
            "tags": [],
            "needs_background": "light"
          }
        }
      ]
    },
    {
      "cell_type": "code",
      "metadata": {
        "colab": {
          "base_uri": "https://localhost:8080/",
          "height": 296
        },
        "id": "tj5b8p_FmrEM",
        "outputId": "9b206a6c-fbbd-48a6-82a6-09dde45f37ff"
      },
      "source": [
        "sns.barplot(y='Networth_Next_Year', x='default', data=df)"
      ],
      "execution_count": 39,
      "outputs": [
        {
          "output_type": "execute_result",
          "data": {
            "text/plain": [
              "<matplotlib.axes._subplots.AxesSubplot at 0x7f720da8dd68>"
            ]
          },
          "metadata": {
            "tags": []
          },
          "execution_count": 39
        },
        {
          "output_type": "display_data",
          "data": {
            "image/png": "[encoded data removed]",
            "text/plain": [
              "<Figure size 432x288 with 1 Axes>"
            ]
          },
          "metadata": {
            "tags": [],
            "needs_background": "light"
          }
        }
      ]
    },
    {
      "cell_type": "code",
      "metadata": {
        "colab": {
          "base_uri": "https://localhost:8080/",
          "height": 296
        },
        "id": "frEf1EwunZud",
        "outputId": "335e8f02-7084-42cd-a4ab-3eb8ee504ca7"
      },
      "source": [
        "sns.barplot(y='Current_Ratio_Latest', x='default', data=df)"
      ],
      "execution_count": 40,
      "outputs": [
        {
          "output_type": "execute_result",
          "data": {
            "text/plain": [
              "<matplotlib.axes._subplots.AxesSubplot at 0x7f720da71710>"
            ]
          },
          "metadata": {
            "tags": []
          },
          "execution_count": 40
        },
        {
          "output_type": "display_data",
          "data": {
            "image/png": "[encoded data removed]",
            "text/plain": [
              "<Figure size 432x288 with 1 Axes>"
            ]
          },
          "metadata": {
            "tags": [],
            "needs_background": "light"
          }
        }
      ]
    },
    {
      "cell_type": "code",
      "metadata": {
        "colab": {
          "base_uri": "https://localhost:8080/",
          "height": 296
        },
        "id": "5IvFA4zgntp2",
        "outputId": "449e88e4-1b7c-4d55-ffe1-231f2f465c2a"
      },
      "source": [
        "sns.barplot(y='Interest_Cover_Ratio_Latest', x='default', data=df)"
      ],
      "execution_count": 41,
      "outputs": [
        {
          "output_type": "execute_result",
          "data": {
            "text/plain": [
              "<matplotlib.axes._subplots.AxesSubplot at 0x7f720d9da978>"
            ]
          },
          "metadata": {
            "tags": []
          },
          "execution_count": 41
        },
        {
          "output_type": "display_data",
          "data": {
            "image/png": "[encoded data removed]",
            "text/plain": [
              "<Figure size 432x288 with 1 Axes>"
            ]
          },
          "metadata": {
            "tags": [],
            "needs_background": "light"
          }
        }
      ]
    },
    {
      "cell_type": "code",
      "metadata": {
        "colab": {
          "base_uri": "https://localhost:8080/",
          "height": 296
        },
        "id": "Njw1fnZhn2nr",
        "outputId": "1f9f1fdb-ae2e-4e37-9333-dff3680d2416"
      },
      "source": [
        "sns.barplot(y='Fixed_Assets_Ratio_Latest', x='default', data=df)"
      ],
      "execution_count": 42,
      "outputs": [
        {
          "output_type": "execute_result",
          "data": {
            "text/plain": [
              "<matplotlib.axes._subplots.AxesSubplot at 0x7f720d944748>"
            ]
          },
          "metadata": {
            "tags": []
          },
          "execution_count": 42
        },
        {
          "output_type": "display_data",
          "data": {
            "image/png": "[encoded data removed]",
            "text/plain": [
              "<Figure size 432x288 with 1 Axes>"
            ]
          },
          "metadata": {
            "tags": [],
            "needs_background": "light"
          }
        }
      ]
    },
    {
      "cell_type": "code",
      "metadata": {
        "colab": {
          "base_uri": "https://localhost:8080/",
          "height": 296
        },
        "id": "n1LtCmxgoNqr",
        "outputId": "610b521e-3845-4a4e-f00a-c43ce59c5fa4"
      },
      "source": [
        "sns.barplot(y='Creditors_Velocity_Days', x='default', data=df)"
      ],
      "execution_count": 43,
      "outputs": [
        {
          "output_type": "execute_result",
          "data": {
            "text/plain": [
              "<matplotlib.axes._subplots.AxesSubplot at 0x7f720d9067f0>"
            ]
          },
          "metadata": {
            "tags": []
          },
          "execution_count": 43
        },
        {
          "output_type": "display_data",
          "data": {
            "image/png": "[encoded data removed]",
            "text/plain": [
              "<Figure size 432x288 with 1 Axes>"
            ]
          },
          "metadata": {
            "tags": [],
            "needs_background": "light"
          }
        }
      ]
    },
    {
      "cell_type": "code",
      "metadata": {
        "colab": {
          "base_uri": "https://localhost:8080/",
          "height": 296
        },
        "id": "KI2kHcmaoVZO",
        "outputId": "7cbdee71-0683-46d8-e356-b8a257cf3932"
      },
      "source": [
        "sns.barplot(y='APATM_perc_Latest', x='default', data=df)"
      ],
      "execution_count": 44,
      "outputs": [
        {
          "output_type": "execute_result",
          "data": {
            "text/plain": [
              "<matplotlib.axes._subplots.AxesSubplot at 0x7f720d9ab6d8>"
            ]
          },
          "metadata": {
            "tags": []
          },
          "execution_count": 44
        },
        {
          "output_type": "display_data",
          "data": {
            "image/png": "[encoded data removed]",
            "text/plain": [
              "<Figure size 432x288 with 1 Axes>"
            ]
          },
          "metadata": {
            "tags": [],
            "needs_background": "light"
          }
        }
      ]
    },
    {
      "cell_type": "code",
      "metadata": {
        "colab": {
          "base_uri": "https://localhost:8080/",
          "height": 297
        },
        "id": "LHr-8HcUookc",
        "outputId": "882995d3-89a8-4072-aa08-6ec4db94f051"
      },
      "source": [
        "sns.barplot(y='CP', x='default', data=df)"
      ],
      "execution_count": 45,
      "outputs": [
        {
          "output_type": "execute_result",
          "data": {
            "text/plain": [
              "<matplotlib.axes._subplots.AxesSubplot at 0x7f720d8b1358>"
            ]
          },
          "metadata": {
            "tags": []
          },
          "execution_count": 45
        },
        {
          "output_type": "display_data",
          "data": {
            "image/png": "[encoded data removed]",
            "text/plain": [
              "<Figure size 432x288 with 1 Axes>"
            ]
          },
          "metadata": {
            "tags": [],
            "needs_background": "light"
          }
        }
      ]
    },
    {
      "cell_type": "code",
      "metadata": {
        "colab": {
          "base_uri": "https://localhost:8080/",
          "height": 296
        },
        "id": "UdE7Z4SSo8tL",
        "outputId": "6ee78b03-a6d6-4157-ab60-cf533315ff3e"
      },
      "source": [
        "sns.barplot(y='Net_Working_Capital', x='default', data=df)"
      ],
      "execution_count": 46,
      "outputs": [
        {
          "output_type": "execute_result",
          "data": {
            "text/plain": [
              "<matplotlib.axes._subplots.AxesSubplot at 0x7f720d809ef0>"
            ]
          },
          "metadata": {
            "tags": []
          },
          "execution_count": 46
        },
        {
          "output_type": "display_data",
          "data": {
            "image/png": "[encoded data removed]",
            "text/plain": [
              "<Figure size 432x288 with 1 Axes>"
            ]
          },
          "metadata": {
            "tags": [],
            "needs_background": "light"
          }
        }
      ]
    },
    {
      "cell_type": "code",
      "metadata": {
        "id": "IzJBW0OQpDJr"
      },
      "source": [
        "import statsmodels.formula.api as SM"
      ],
      "execution_count": 63,
      "outputs": []
    },
    {
      "cell_type": "code",
      "metadata": {
        "id": "_W9OziktpIed"
      },
      "source": [
        "X = df.drop(['default','Networth_Next_Year'], axis=1)\r\n",
        "y = df['default']\r\n",
        "\r\n",
        "from sklearn.model_selection import train_test_split\r\n",
        "X_train, X_test, y_train, y_test = train_test_split(X,y,test_size=0.33,random_state=42,stratify=df['default'])\r\n",
        "\r\n",
        "df_train = pd.concat([X_train,y_train], axis=1)\r\n",
        "df_test = pd.concat([X_test,y_test], axis=1)"
      ],
      "execution_count": 64,
      "outputs": []
    },
    {
      "cell_type": "code",
      "metadata": {
        "id": "iBwIMP6fp89M"
      },
      "source": [
        "from statsmodels.stats.outliers_influence import variance_inflation_factor\r\n",
        "\r\n",
        "def calc_vif(X):\r\n",
        "\r\n",
        "    # Calculating VIF\r\n",
        "    vif = pd.DataFrame()\r\n",
        "    vif[\"variables\"] = X.columns\r\n",
        "    vif[\"VIF\"] = [variance_inflation_factor(X.values, i) for i in range(X.shape[1])]\r\n",
        "\r\n",
        "    return(vif)"
      ],
      "execution_count": 65,
      "outputs": []
    },
    {
      "cell_type": "code",
      "metadata": {
        "colab": {
          "base_uri": "https://localhost:8080/",
          "height": 442
        },
        "id": "MkiYH8HdqD-s",
        "outputId": "60ff5994-c251-4b64-9a87-a3fba149b988"
      },
      "source": [
        "vif_sort=calc_vif(X_train).sort_values(by='VIF', ascending = True)\r\n",
        "vif_sort"
      ],
      "execution_count": 66,
      "outputs": [
        {
          "output_type": "stream",
          "text": [
            "/usr/local/lib/python3.6/dist-packages/statsmodels/regression/linear_model.py:1638: RuntimeWarning: invalid value encountered in double_scalars\n",
            "  return 1 - self.ssr/self.uncentered_tss\n"
          ],
          "name": "stderr"
        },
        {
          "output_type": "execute_result",
          "data": {
            "text/html": [
              "<div>\n",
              "<style scoped>\n",
              "    .dataframe tbody tr th:only-of-type {\n",
              "        vertical-align: middle;\n",
              "    }\n",
              "\n",
              "    .dataframe tbody tr th {\n",
              "        vertical-align: top;\n",
              "    }\n",
              "\n",
              "    .dataframe thead th {\n",
              "        text-align: right;\n",
              "    }\n",
              "</style>\n",
              "<table border=\"1\" class=\"dataframe\">\n",
              "  <thead>\n",
              "    <tr style=\"text-align: right;\">\n",
              "      <th></th>\n",
              "      <th>variables</th>\n",
              "      <th>VIF</th>\n",
              "    </tr>\n",
              "  </thead>\n",
              "  <tbody>\n",
              "    <tr>\n",
              "      <th>34</th>\n",
              "      <td>ROG_Gross_Block_perc</td>\n",
              "      <td>1.524386</td>\n",
              "    </tr>\n",
              "    <tr>\n",
              "      <th>47</th>\n",
              "      <td>ROG_Market_Capitalisation_perc</td>\n",
              "      <td>1.676561</td>\n",
              "    </tr>\n",
              "    <tr>\n",
              "      <th>61</th>\n",
              "      <td>Inventory_Velocity_Days</td>\n",
              "      <td>1.924207</td>\n",
              "    </tr>\n",
              "    <tr>\n",
              "      <th>37</th>\n",
              "      <td>ROG_Cost_of_Production_perc</td>\n",
              "      <td>2.029579</td>\n",
              "    </tr>\n",
              "    <tr>\n",
              "      <th>60</th>\n",
              "      <td>Creditors_Velocity_Days</td>\n",
              "      <td>2.305668</td>\n",
              "    </tr>\n",
              "    <tr>\n",
              "      <th>...</th>\n",
              "      <td>...</td>\n",
              "      <td>...</td>\n",
              "    </tr>\n",
              "    <tr>\n",
              "      <th>9</th>\n",
              "      <td>Gross_Sales</td>\n",
              "      <td>763.156319</td>\n",
              "    </tr>\n",
              "    <tr>\n",
              "      <th>10</th>\n",
              "      <td>Net_Sales</td>\n",
              "      <td>1419.303792</td>\n",
              "    </tr>\n",
              "    <tr>\n",
              "      <th>24</th>\n",
              "      <td>Capital_expenses_in_forex</td>\n",
              "      <td>NaN</td>\n",
              "    </tr>\n",
              "    <tr>\n",
              "      <th>45</th>\n",
              "      <td>ROG_Revenue_earnings_in_forex_perc</td>\n",
              "      <td>NaN</td>\n",
              "    </tr>\n",
              "    <tr>\n",
              "      <th>46</th>\n",
              "      <td>ROG_Revenue_expenses_in_forex_perc</td>\n",
              "      <td>NaN</td>\n",
              "    </tr>\n",
              "  </tbody>\n",
              "</table>\n",
              "<p>64 rows × 2 columns</p>\n",
              "</div>"
            ],
            "text/plain": [
              "                             variables          VIF\n",
              "34                ROG_Gross_Block_perc     1.524386\n",
              "47      ROG_Market_Capitalisation_perc     1.676561\n",
              "61             Inventory_Velocity_Days     1.924207\n",
              "37         ROG_Cost_of_Production_perc     2.029579\n",
              "60             Creditors_Velocity_Days     2.305668\n",
              "..                                 ...          ...\n",
              "9                          Gross_Sales   763.156319\n",
              "10                           Net_Sales  1419.303792\n",
              "24           Capital_expenses_in_forex          NaN\n",
              "45  ROG_Revenue_earnings_in_forex_perc          NaN\n",
              "46  ROG_Revenue_expenses_in_forex_perc          NaN\n",
              "\n",
              "[64 rows x 2 columns]"
            ]
          },
          "metadata": {
            "tags": []
          },
          "execution_count": 66
        }
      ]
    },
    {
      "cell_type": "code",
      "metadata": {
        "colab": {
          "base_uri": "https://localhost:8080/",
          "height": 947
        },
        "id": "5OHjogcxrYNd",
        "outputId": "1a7c5ad5-aaa0-4b99-a247-576adf94b257"
      },
      "source": [
        "vif_sort.head(30)"
      ],
      "execution_count": 67,
      "outputs": [
        {
          "output_type": "execute_result",
          "data": {
            "text/html": [
              "<div>\n",
              "<style scoped>\n",
              "    .dataframe tbody tr th:only-of-type {\n",
              "        vertical-align: middle;\n",
              "    }\n",
              "\n",
              "    .dataframe tbody tr th {\n",
              "        vertical-align: top;\n",
              "    }\n",
              "\n",
              "    .dataframe thead th {\n",
              "        text-align: right;\n",
              "    }\n",
              "</style>\n",
              "<table border=\"1\" class=\"dataframe\">\n",
              "  <thead>\n",
              "    <tr style=\"text-align: right;\">\n",
              "      <th></th>\n",
              "      <th>variables</th>\n",
              "      <th>VIF</th>\n",
              "    </tr>\n",
              "  </thead>\n",
              "  <tbody>\n",
              "    <tr>\n",
              "      <th>34</th>\n",
              "      <td>ROG_Gross_Block_perc</td>\n",
              "      <td>1.524386</td>\n",
              "    </tr>\n",
              "    <tr>\n",
              "      <th>47</th>\n",
              "      <td>ROG_Market_Capitalisation_perc</td>\n",
              "      <td>1.676561</td>\n",
              "    </tr>\n",
              "    <tr>\n",
              "      <th>61</th>\n",
              "      <td>Inventory_Velocity_Days</td>\n",
              "      <td>1.924207</td>\n",
              "    </tr>\n",
              "    <tr>\n",
              "      <th>37</th>\n",
              "      <td>ROG_Cost_of_Production_perc</td>\n",
              "      <td>2.029579</td>\n",
              "    </tr>\n",
              "    <tr>\n",
              "      <th>60</th>\n",
              "      <td>Creditors_Velocity_Days</td>\n",
              "      <td>2.305668</td>\n",
              "    </tr>\n",
              "    <tr>\n",
              "      <th>50</th>\n",
              "      <td>Inventory_Ratio_Latest</td>\n",
              "      <td>2.343545</td>\n",
              "    </tr>\n",
              "    <tr>\n",
              "      <th>48</th>\n",
              "      <td>Current_Ratio_Latest</td>\n",
              "      <td>2.397185</td>\n",
              "    </tr>\n",
              "    <tr>\n",
              "      <th>59</th>\n",
              "      <td>Debtors_Velocity_Days</td>\n",
              "      <td>2.474369</td>\n",
              "    </tr>\n",
              "    <tr>\n",
              "      <th>51</th>\n",
              "      <td>Debtors_Ratio_Latest</td>\n",
              "      <td>2.531709</td>\n",
              "    </tr>\n",
              "    <tr>\n",
              "      <th>53</th>\n",
              "      <td>Interest_Cover_Ratio_Latest</td>\n",
              "      <td>2.541902</td>\n",
              "    </tr>\n",
              "    <tr>\n",
              "      <th>30</th>\n",
              "      <td>Cash_Flow_From_Investing_Activities</td>\n",
              "      <td>2.606063</td>\n",
              "    </tr>\n",
              "    <tr>\n",
              "      <th>32</th>\n",
              "      <td>ROG_Net_Worth_perc</td>\n",
              "      <td>2.965792</td>\n",
              "    </tr>\n",
              "    <tr>\n",
              "      <th>31</th>\n",
              "      <td>Cash_Flow_From_Financing_Activities</td>\n",
              "      <td>2.991789</td>\n",
              "    </tr>\n",
              "    <tr>\n",
              "      <th>22</th>\n",
              "      <td>Revenue_earnings_in_forex</td>\n",
              "      <td>3.092275</td>\n",
              "    </tr>\n",
              "    <tr>\n",
              "      <th>38</th>\n",
              "      <td>ROG_Total_Assets_perc</td>\n",
              "      <td>3.259153</td>\n",
              "    </tr>\n",
              "    <tr>\n",
              "      <th>23</th>\n",
              "      <td>Revenue_expenses_in_forex</td>\n",
              "      <td>3.719369</td>\n",
              "    </tr>\n",
              "    <tr>\n",
              "      <th>33</th>\n",
              "      <td>ROG_Capital_Employed_perc</td>\n",
              "      <td>3.842840</td>\n",
              "    </tr>\n",
              "    <tr>\n",
              "      <th>29</th>\n",
              "      <td>Cash_Flow_From_Operating_Activities</td>\n",
              "      <td>4.047336</td>\n",
              "    </tr>\n",
              "    <tr>\n",
              "      <th>0</th>\n",
              "      <td>Equity_Paid_Up</td>\n",
              "      <td>4.568407</td>\n",
              "    </tr>\n",
              "    <tr>\n",
              "      <th>27</th>\n",
              "      <td>Market_Capitalisation</td>\n",
              "      <td>4.586333</td>\n",
              "    </tr>\n",
              "    <tr>\n",
              "      <th>11</th>\n",
              "      <td>Other_Income</td>\n",
              "      <td>4.591128</td>\n",
              "    </tr>\n",
              "    <tr>\n",
              "      <th>14</th>\n",
              "      <td>Selling_Cost</td>\n",
              "      <td>4.907195</td>\n",
              "    </tr>\n",
              "    <tr>\n",
              "      <th>5</th>\n",
              "      <td>Net_Working_Capital</td>\n",
              "      <td>5.847854</td>\n",
              "    </tr>\n",
              "    <tr>\n",
              "      <th>28</th>\n",
              "      <td>CEPS_annualised_Unit_Curr</td>\n",
              "      <td>6.663665</td>\n",
              "    </tr>\n",
              "    <tr>\n",
              "      <th>3</th>\n",
              "      <td>Total_Debt</td>\n",
              "      <td>7.596788</td>\n",
              "    </tr>\n",
              "    <tr>\n",
              "      <th>49</th>\n",
              "      <td>Fixed_Assets_Ratio_Latest</td>\n",
              "      <td>9.239632</td>\n",
              "    </tr>\n",
              "    <tr>\n",
              "      <th>63</th>\n",
              "      <td>Value_of_Output_by_Gross_Block</td>\n",
              "      <td>9.518160</td>\n",
              "    </tr>\n",
              "    <tr>\n",
              "      <th>52</th>\n",
              "      <td>Total_Asset_Turnover_Ratio_Latest</td>\n",
              "      <td>10.466825</td>\n",
              "    </tr>\n",
              "    <tr>\n",
              "      <th>62</th>\n",
              "      <td>Value_of_Output_by_Total_Assets</td>\n",
              "      <td>11.837468</td>\n",
              "    </tr>\n",
              "    <tr>\n",
              "      <th>4</th>\n",
              "      <td>Gross_Block</td>\n",
              "      <td>12.498251</td>\n",
              "    </tr>\n",
              "  </tbody>\n",
              "</table>\n",
              "</div>"
            ],
            "text/plain": [
              "                              variables        VIF\n",
              "34                 ROG_Gross_Block_perc   1.524386\n",
              "47       ROG_Market_Capitalisation_perc   1.676561\n",
              "61              Inventory_Velocity_Days   1.924207\n",
              "37          ROG_Cost_of_Production_perc   2.029579\n",
              "60              Creditors_Velocity_Days   2.305668\n",
              "50               Inventory_Ratio_Latest   2.343545\n",
              "48                 Current_Ratio_Latest   2.397185\n",
              "59                Debtors_Velocity_Days   2.474369\n",
              "51                 Debtors_Ratio_Latest   2.531709\n",
              "53          Interest_Cover_Ratio_Latest   2.541902\n",
              "30  Cash_Flow_From_Investing_Activities   2.606063\n",
              "32                   ROG_Net_Worth_perc   2.965792\n",
              "31  Cash_Flow_From_Financing_Activities   2.991789\n",
              "22            Revenue_earnings_in_forex   3.092275\n",
              "38                ROG_Total_Assets_perc   3.259153\n",
              "23            Revenue_expenses_in_forex   3.719369\n",
              "33            ROG_Capital_Employed_perc   3.842840\n",
              "29  Cash_Flow_From_Operating_Activities   4.047336\n",
              "0                        Equity_Paid_Up   4.568407\n",
              "27                Market_Capitalisation   4.586333\n",
              "11                         Other_Income   4.591128\n",
              "14                         Selling_Cost   4.907195\n",
              "5                   Net_Working_Capital   5.847854\n",
              "28            CEPS_annualised_Unit_Curr   6.663665\n",
              "3                            Total_Debt   7.596788\n",
              "49            Fixed_Assets_Ratio_Latest   9.239632\n",
              "63       Value_of_Output_by_Gross_Block   9.518160\n",
              "52    Total_Asset_Turnover_Ratio_Latest  10.466825\n",
              "62      Value_of_Output_by_Total_Assets  11.837468\n",
              "4                           Gross_Block  12.498251"
            ]
          },
          "metadata": {
            "tags": []
          },
          "execution_count": 67
        }
      ]
    },
    {
      "cell_type": "code",
      "metadata": {
        "id": "1Wjh2cO0qG_D"
      },
      "source": [
        "f_1 = 'default ~ ROG_Gross_Block_perc + ROG_Market_Capitalisation_perc + Inventory_Velocity_Days + ROG_Cost_of_Production_perc + Creditors_Velocity_Days + Inventory_Ratio_Latest + Current_Ratio_Latest + Debtors_Velocity_Days + Debtors_Ratio_Latest + Interest_Cover_Ratio_Latest + Cash_Flow_From_Investing_Activities + ROG_Net_Worth_perc + Cash_Flow_From_Financing_Activities + Revenue_earnings_in_forex + ROG_Total_Assets_perc + Revenue_expenses_in_forex + ROG_Capital_Employed_perc + Cash_Flow_From_Operating_Activities + Equity_Paid_Up + Market_Capitalisation + Other_Income + Selling_Cost + Net_Working_Capital + CEPS_annualised_Unit_Curr + Total_Debt'"
      ],
      "execution_count": 68,
      "outputs": []
    },
    {
      "cell_type": "code",
      "metadata": {
        "colab": {
          "base_uri": "https://localhost:8080/"
        },
        "id": "cCTLB0vnsjUv",
        "outputId": "6488ee5a-be8b-4578-baf6-e633bf369a81"
      },
      "source": [
        "model_1 = SM.logit(formula = f_1, data=df_train).fit()"
      ],
      "execution_count": 76,
      "outputs": [
        {
          "output_type": "stream",
          "text": [
            "Optimization terminated successfully.\n",
            "         Current function value: 0.185930\n",
            "         Iterations 9\n"
          ],
          "name": "stdout"
        }
      ]
    },
    {
      "cell_type": "code",
      "metadata": {
        "colab": {
          "base_uri": "https://localhost:8080/",
          "height": 640
        },
        "id": "IlQkD90SslON",
        "outputId": "ae29155b-1abb-41e5-fe34-9aad5deeeb36"
      },
      "source": [
        "model_1.summary()"
      ],
      "execution_count": 77,
      "outputs": [
        {
          "output_type": "execute_result",
          "data": {
            "text/html": [
              "<table class=\"simpletable\">\n",
              "<caption>Logit Regression Results</caption>\n",
              "<tr>\n",
              "  <th>Dep. Variable:</th>        <td>default</td>     <th>  No. Observations:  </th>   <td>  2402</td>  \n",
              "</tr>\n",
              "<tr>\n",
              "  <th>Model:</th>                 <td>Logit</td>      <th>  Df Residuals:      </th>   <td>  2376</td>  \n",
              "</tr>\n",
              "<tr>\n",
              "  <th>Method:</th>                 <td>MLE</td>       <th>  Df Model:          </th>   <td>    25</td>  \n",
              "</tr>\n",
              "<tr>\n",
              "  <th>Date:</th>            <td>Sun, 14 Feb 2021</td> <th>  Pseudo R-squ.:     </th>   <td>0.4577</td>  \n",
              "</tr>\n",
              "<tr>\n",
              "  <th>Time:</th>                <td>13:38:13</td>     <th>  Log-Likelihood:    </th>  <td> -446.60</td> \n",
              "</tr>\n",
              "<tr>\n",
              "  <th>converged:</th>             <td>True</td>       <th>  LL-Null:           </th>  <td> -823.47</td> \n",
              "</tr>\n",
              "<tr>\n",
              "  <th>Covariance Type:</th>     <td>nonrobust</td>    <th>  LLR p-value:       </th> <td>6.802e-143</td>\n",
              "</tr>\n",
              "</table>\n",
              "<table class=\"simpletable\">\n",
              "<tr>\n",
              "                   <td></td>                      <th>coef</th>     <th>std err</th>      <th>z</th>      <th>P>|z|</th>  <th>[0.025</th>    <th>0.975]</th>  \n",
              "</tr>\n",
              "<tr>\n",
              "  <th>Intercept</th>                           <td>   -0.5867</td> <td>    0.189</td> <td>   -3.108</td> <td> 0.002</td> <td>   -0.957</td> <td>   -0.217</td>\n",
              "</tr>\n",
              "<tr>\n",
              "  <th>ROG_Gross_Block_perc</th>                <td>   -0.0464</td> <td>    0.016</td> <td>   -2.986</td> <td> 0.003</td> <td>   -0.077</td> <td>   -0.016</td>\n",
              "</tr>\n",
              "<tr>\n",
              "  <th>ROG_Market_Capitalisation_perc</th>      <td>    0.0008</td> <td>    0.002</td> <td>    0.358</td> <td> 0.720</td> <td>   -0.004</td> <td>    0.005</td>\n",
              "</tr>\n",
              "<tr>\n",
              "  <th>Inventory_Velocity_Days</th>             <td>   -0.0010</td> <td>    0.001</td> <td>   -0.825</td> <td> 0.410</td> <td>   -0.004</td> <td>    0.001</td>\n",
              "</tr>\n",
              "<tr>\n",
              "  <th>ROG_Cost_of_Production_perc</th>         <td>   -0.0089</td> <td>    0.003</td> <td>   -3.311</td> <td> 0.001</td> <td>   -0.014</td> <td>   -0.004</td>\n",
              "</tr>\n",
              "<tr>\n",
              "  <th>Creditors_Velocity_Days</th>             <td>    0.0024</td> <td>    0.001</td> <td>    2.048</td> <td> 0.041</td> <td>    0.000</td> <td>    0.005</td>\n",
              "</tr>\n",
              "<tr>\n",
              "  <th>Inventory_Ratio_Latest</th>              <td>   -0.0200</td> <td>    0.015</td> <td>   -1.313</td> <td> 0.189</td> <td>   -0.050</td> <td>    0.010</td>\n",
              "</tr>\n",
              "<tr>\n",
              "  <th>Current_Ratio_Latest</th>                <td>   -0.5749</td> <td>    0.075</td> <td>   -7.671</td> <td> 0.000</td> <td>   -0.722</td> <td>   -0.428</td>\n",
              "</tr>\n",
              "<tr>\n",
              "  <th>Debtors_Velocity_Days</th>               <td>   -0.0040</td> <td>    0.001</td> <td>   -3.606</td> <td> 0.000</td> <td>   -0.006</td> <td>   -0.002</td>\n",
              "</tr>\n",
              "<tr>\n",
              "  <th>Debtors_Ratio_Latest</th>                <td>   -0.0351</td> <td>    0.017</td> <td>   -2.115</td> <td> 0.034</td> <td>   -0.068</td> <td>   -0.003</td>\n",
              "</tr>\n",
              "<tr>\n",
              "  <th>Interest_Cover_Ratio_Latest</th>         <td>   -0.1570</td> <td>    0.035</td> <td>   -4.501</td> <td> 0.000</td> <td>   -0.225</td> <td>   -0.089</td>\n",
              "</tr>\n",
              "<tr>\n",
              "  <th>Cash_Flow_From_Investing_Activities</th> <td>   -0.0050</td> <td>    0.027</td> <td>   -0.183</td> <td> 0.855</td> <td>   -0.059</td> <td>    0.049</td>\n",
              "</tr>\n",
              "<tr>\n",
              "  <th>ROG_Net_Worth_perc</th>                  <td>   -0.0274</td> <td>    0.010</td> <td>   -2.811</td> <td> 0.005</td> <td>   -0.046</td> <td>   -0.008</td>\n",
              "</tr>\n",
              "<tr>\n",
              "  <th>Cash_Flow_From_Financing_Activities</th> <td>    0.0054</td> <td>    0.024</td> <td>    0.223</td> <td> 0.824</td> <td>   -0.042</td> <td>    0.053</td>\n",
              "</tr>\n",
              "<tr>\n",
              "  <th>Revenue_earnings_in_forex</th>           <td>   -0.0312</td> <td>    0.022</td> <td>   -1.441</td> <td> 0.150</td> <td>   -0.074</td> <td>    0.011</td>\n",
              "</tr>\n",
              "<tr>\n",
              "  <th>ROG_Total_Assets_perc</th>               <td>   -0.0167</td> <td>    0.008</td> <td>   -2.018</td> <td> 0.044</td> <td>   -0.033</td> <td>   -0.000</td>\n",
              "</tr>\n",
              "<tr>\n",
              "  <th>Revenue_expenses_in_forex</th>           <td>    0.0461</td> <td>    0.022</td> <td>    2.068</td> <td> 0.039</td> <td>    0.002</td> <td>    0.090</td>\n",
              "</tr>\n",
              "<tr>\n",
              "  <th>ROG_Capital_Employed_perc</th>           <td>    0.0029</td> <td>    0.008</td> <td>    0.344</td> <td> 0.731</td> <td>   -0.014</td> <td>    0.019</td>\n",
              "</tr>\n",
              "<tr>\n",
              "  <th>Cash_Flow_From_Operating_Activities</th> <td>   -0.0102</td> <td>    0.014</td> <td>   -0.714</td> <td> 0.475</td> <td>   -0.038</td> <td>    0.018</td>\n",
              "</tr>\n",
              "<tr>\n",
              "  <th>Equity_Paid_Up</th>                      <td>   -0.0022</td> <td>    0.009</td> <td>   -0.241</td> <td> 0.809</td> <td>   -0.020</td> <td>    0.015</td>\n",
              "</tr>\n",
              "<tr>\n",
              "  <th>Market_Capitalisation</th>               <td>   -0.0119</td> <td>    0.002</td> <td>   -5.410</td> <td> 0.000</td> <td>   -0.016</td> <td>   -0.008</td>\n",
              "</tr>\n",
              "<tr>\n",
              "  <th>Other_Income</th>                        <td>   -0.0271</td> <td>    0.045</td> <td>   -0.600</td> <td> 0.549</td> <td>   -0.115</td> <td>    0.061</td>\n",
              "</tr>\n",
              "<tr>\n",
              "  <th>Selling_Cost</th>                        <td>   -0.0600</td> <td>    0.050</td> <td>   -1.192</td> <td> 0.233</td> <td>   -0.159</td> <td>    0.039</td>\n",
              "</tr>\n",
              "<tr>\n",
              "  <th>Net_Working_Capital</th>                 <td>   -0.0148</td> <td>    0.002</td> <td>   -6.119</td> <td> 0.000</td> <td>   -0.019</td> <td>   -0.010</td>\n",
              "</tr>\n",
              "<tr>\n",
              "  <th>CEPS_annualised_Unit_Curr</th>           <td>   -0.0874</td> <td>    0.019</td> <td>   -4.485</td> <td> 0.000</td> <td>   -0.126</td> <td>   -0.049</td>\n",
              "</tr>\n",
              "<tr>\n",
              "  <th>Total_Debt</th>                          <td>    0.0164</td> <td>    0.003</td> <td>    6.373</td> <td> 0.000</td> <td>    0.011</td> <td>    0.021</td>\n",
              "</tr>\n",
              "</table>"
            ],
            "text/plain": [
              "<class 'statsmodels.iolib.summary.Summary'>\n",
              "\"\"\"\n",
              "                           Logit Regression Results                           \n",
              "==============================================================================\n",
              "Dep. Variable:                default   No. Observations:                 2402\n",
              "Model:                          Logit   Df Residuals:                     2376\n",
              "Method:                           MLE   Df Model:                           25\n",
              "Date:                Sun, 14 Feb 2021   Pseudo R-squ.:                  0.4577\n",
              "Time:                        13:38:13   Log-Likelihood:                -446.60\n",
              "converged:                       True   LL-Null:                       -823.47\n",
              "Covariance Type:            nonrobust   LLR p-value:                6.802e-143\n",
              "=======================================================================================================\n",
              "                                          coef    std err          z      P>|z|      [0.025      0.975]\n",
              "-------------------------------------------------------------------------------------------------------\n",
              "Intercept                              -0.5867      0.189     -3.108      0.002      -0.957      -0.217\n",
              "ROG_Gross_Block_perc                   -0.0464      0.016     -2.986      0.003      -0.077      -0.016\n",
              "ROG_Market_Capitalisation_perc          0.0008      0.002      0.358      0.720      -0.004       0.005\n",
              "Inventory_Velocity_Days                -0.0010      0.001     -0.825      0.410      -0.004       0.001\n",
              "ROG_Cost_of_Production_perc            -0.0089      0.003     -3.311      0.001      -0.014      -0.004\n",
              "Creditors_Velocity_Days                 0.0024      0.001      2.048      0.041       0.000       0.005\n",
              "Inventory_Ratio_Latest                 -0.0200      0.015     -1.313      0.189      -0.050       0.010\n",
              "Current_Ratio_Latest                   -0.5749      0.075     -7.671      0.000      -0.722      -0.428\n",
              "Debtors_Velocity_Days                  -0.0040      0.001     -3.606      0.000      -0.006      -0.002\n",
              "Debtors_Ratio_Latest                   -0.0351      0.017     -2.115      0.034      -0.068      -0.003\n",
              "Interest_Cover_Ratio_Latest            -0.1570      0.035     -4.501      0.000      -0.225      -0.089\n",
              "Cash_Flow_From_Investing_Activities    -0.0050      0.027     -0.183      0.855      -0.059       0.049\n",
              "ROG_Net_Worth_perc                     -0.0274      0.010     -2.811      0.005      -0.046      -0.008\n",
              "Cash_Flow_From_Financing_Activities     0.0054      0.024      0.223      0.824      -0.042       0.053\n",
              "Revenue_earnings_in_forex              -0.0312      0.022     -1.441      0.150      -0.074       0.011\n",
              "ROG_Total_Assets_perc                  -0.0167      0.008     -2.018      0.044      -0.033      -0.000\n",
              "Revenue_expenses_in_forex               0.0461      0.022      2.068      0.039       0.002       0.090\n",
              "ROG_Capital_Employed_perc               0.0029      0.008      0.344      0.731      -0.014       0.019\n",
              "Cash_Flow_From_Operating_Activities    -0.0102      0.014     -0.714      0.475      -0.038       0.018\n",
              "Equity_Paid_Up                         -0.0022      0.009     -0.241      0.809      -0.020       0.015\n",
              "Market_Capitalisation                  -0.0119      0.002     -5.410      0.000      -0.016      -0.008\n",
              "Other_Income                           -0.0271      0.045     -0.600      0.549      -0.115       0.061\n",
              "Selling_Cost                           -0.0600      0.050     -1.192      0.233      -0.159       0.039\n",
              "Net_Working_Capital                    -0.0148      0.002     -6.119      0.000      -0.019      -0.010\n",
              "CEPS_annualised_Unit_Curr              -0.0874      0.019     -4.485      0.000      -0.126      -0.049\n",
              "Total_Debt                              0.0164      0.003      6.373      0.000       0.011       0.021\n",
              "=======================================================================================================\n",
              "\"\"\""
            ]
          },
          "metadata": {
            "tags": []
          },
          "execution_count": 77
        }
      ]
    },
    {
      "cell_type": "code",
      "metadata": {
        "colab": {
          "base_uri": "https://localhost:8080/"
        },
        "id": "eAhUp7CJvGEu",
        "outputId": "6c985941-c3c1-47cd-db7a-9f0516e1ffe2"
      },
      "source": [
        "print('The adjusted pseudo R-square value is',1 - ((model_1.llf - model_1.df_model)/model_1.llnull))"
      ],
      "execution_count": 78,
      "outputs": [
        {
          "output_type": "stream",
          "text": [
            "The adjusted pseudo R-square value is 0.4272968680507636\n"
          ],
          "name": "stdout"
        }
      ]
    },
    {
      "cell_type": "markdown",
      "metadata": {
        "id": "u_B3nbxJv2pV"
      },
      "source": [
        "Adjusted pseudo R-square seems to be lower than Pseudo R-square value which means there are insignificant variables present in the model. Lets try & remove variables whose p value is greater than 0.05 & rebuild our model"
      ]
    },
    {
      "cell_type": "code",
      "metadata": {
        "id": "w2gZd8yBv2b5"
      },
      "source": [
        "f_2 = 'default ~ ROG_Gross_Block_perc + Inventory_Velocity_Days + ROG_Cost_of_Production_perc + Creditors_Velocity_Days + Inventory_Ratio_Latest + Current_Ratio_Latest + Debtors_Velocity_Days + Debtors_Ratio_Latest + Interest_Cover_Ratio_Latest + ROG_Net_Worth_perc + Revenue_earnings_in_forex + ROG_Total_Assets_perc + Revenue_expenses_in_forex + Market_Capitalisation + Selling_Cost + Net_Working_Capital + CEPS_annualised_Unit_Curr + Total_Debt'"
      ],
      "execution_count": 79,
      "outputs": []
    },
    {
      "cell_type": "code",
      "metadata": {
        "colab": {
          "base_uri": "https://localhost:8080/"
        },
        "id": "Y15GjBoDvzol",
        "outputId": "910ccfa6-7dd3-4b7d-91c3-e396adf6bfb7"
      },
      "source": [
        "model_2 = SM.logit(formula = f_2, data=df_train).fit()"
      ],
      "execution_count": 80,
      "outputs": [
        {
          "output_type": "stream",
          "text": [
            "Optimization terminated successfully.\n",
            "         Current function value: 0.186552\n",
            "         Iterations 9\n"
          ],
          "name": "stdout"
        }
      ]
    },
    {
      "cell_type": "code",
      "metadata": {
        "colab": {
          "base_uri": "https://localhost:8080/",
          "height": 515
        },
        "id": "HL_CUthUwX29",
        "outputId": "eb7d281e-a7fb-4057-89df-e70c153592c9"
      },
      "source": [
        "model_2.summary()"
      ],
      "execution_count": 81,
      "outputs": [
        {
          "output_type": "execute_result",
          "data": {
            "text/html": [
              "<table class=\"simpletable\">\n",
              "<caption>Logit Regression Results</caption>\n",
              "<tr>\n",
              "  <th>Dep. Variable:</th>        <td>default</td>     <th>  No. Observations:  </th>   <td>  2402</td>  \n",
              "</tr>\n",
              "<tr>\n",
              "  <th>Model:</th>                 <td>Logit</td>      <th>  Df Residuals:      </th>   <td>  2383</td>  \n",
              "</tr>\n",
              "<tr>\n",
              "  <th>Method:</th>                 <td>MLE</td>       <th>  Df Model:          </th>   <td>    18</td>  \n",
              "</tr>\n",
              "<tr>\n",
              "  <th>Date:</th>            <td>Sun, 14 Feb 2021</td> <th>  Pseudo R-squ.:     </th>   <td>0.4558</td>  \n",
              "</tr>\n",
              "<tr>\n",
              "  <th>Time:</th>                <td>13:41:45</td>     <th>  Log-Likelihood:    </th>  <td> -448.10</td> \n",
              "</tr>\n",
              "<tr>\n",
              "  <th>converged:</th>             <td>True</td>       <th>  LL-Null:           </th>  <td> -823.47</td> \n",
              "</tr>\n",
              "<tr>\n",
              "  <th>Covariance Type:</th>     <td>nonrobust</td>    <th>  LLR p-value:       </th> <td>9.504e-148</td>\n",
              "</tr>\n",
              "</table>\n",
              "<table class=\"simpletable\">\n",
              "<tr>\n",
              "               <td></td>                  <th>coef</th>     <th>std err</th>      <th>z</th>      <th>P>|z|</th>  <th>[0.025</th>    <th>0.975]</th>  \n",
              "</tr>\n",
              "<tr>\n",
              "  <th>Intercept</th>                   <td>   -0.5930</td> <td>    0.178</td> <td>   -3.322</td> <td> 0.001</td> <td>   -0.943</td> <td>   -0.243</td>\n",
              "</tr>\n",
              "<tr>\n",
              "  <th>ROG_Gross_Block_perc</th>        <td>   -0.0447</td> <td>    0.015</td> <td>   -2.931</td> <td> 0.003</td> <td>   -0.075</td> <td>   -0.015</td>\n",
              "</tr>\n",
              "<tr>\n",
              "  <th>Inventory_Velocity_Days</th>     <td>   -0.0010</td> <td>    0.001</td> <td>   -0.824</td> <td> 0.410</td> <td>   -0.004</td> <td>    0.001</td>\n",
              "</tr>\n",
              "<tr>\n",
              "  <th>ROG_Cost_of_Production_perc</th> <td>   -0.0092</td> <td>    0.003</td> <td>   -3.396</td> <td> 0.001</td> <td>   -0.014</td> <td>   -0.004</td>\n",
              "</tr>\n",
              "<tr>\n",
              "  <th>Creditors_Velocity_Days</th>     <td>    0.0024</td> <td>    0.001</td> <td>    2.043</td> <td> 0.041</td> <td> 9.92e-05</td> <td>    0.005</td>\n",
              "</tr>\n",
              "<tr>\n",
              "  <th>Inventory_Ratio_Latest</th>      <td>   -0.0209</td> <td>    0.015</td> <td>   -1.375</td> <td> 0.169</td> <td>   -0.051</td> <td>    0.009</td>\n",
              "</tr>\n",
              "<tr>\n",
              "  <th>Current_Ratio_Latest</th>        <td>   -0.5720</td> <td>    0.075</td> <td>   -7.668</td> <td> 0.000</td> <td>   -0.718</td> <td>   -0.426</td>\n",
              "</tr>\n",
              "<tr>\n",
              "  <th>Debtors_Velocity_Days</th>       <td>   -0.0041</td> <td>    0.001</td> <td>   -3.701</td> <td> 0.000</td> <td>   -0.006</td> <td>   -0.002</td>\n",
              "</tr>\n",
              "<tr>\n",
              "  <th>Debtors_Ratio_Latest</th>        <td>   -0.0355</td> <td>    0.017</td> <td>   -2.152</td> <td> 0.031</td> <td>   -0.068</td> <td>   -0.003</td>\n",
              "</tr>\n",
              "<tr>\n",
              "  <th>Interest_Cover_Ratio_Latest</th> <td>   -0.1569</td> <td>    0.035</td> <td>   -4.520</td> <td> 0.000</td> <td>   -0.225</td> <td>   -0.089</td>\n",
              "</tr>\n",
              "<tr>\n",
              "  <th>ROG_Net_Worth_perc</th>          <td>   -0.0266</td> <td>    0.009</td> <td>   -2.920</td> <td> 0.004</td> <td>   -0.044</td> <td>   -0.009</td>\n",
              "</tr>\n",
              "<tr>\n",
              "  <th>Revenue_earnings_in_forex</th>   <td>   -0.0354</td> <td>    0.021</td> <td>   -1.661</td> <td> 0.097</td> <td>   -0.077</td> <td>    0.006</td>\n",
              "</tr>\n",
              "<tr>\n",
              "  <th>ROG_Total_Assets_perc</th>       <td>   -0.0128</td> <td>    0.007</td> <td>   -1.965</td> <td> 0.049</td> <td>   -0.026</td> <td>-3.07e-05</td>\n",
              "</tr>\n",
              "<tr>\n",
              "  <th>Revenue_expenses_in_forex</th>   <td>    0.0441</td> <td>    0.022</td> <td>    2.031</td> <td> 0.042</td> <td>    0.002</td> <td>    0.087</td>\n",
              "</tr>\n",
              "<tr>\n",
              "  <th>Market_Capitalisation</th>       <td>   -0.0122</td> <td>    0.002</td> <td>   -5.900</td> <td> 0.000</td> <td>   -0.016</td> <td>   -0.008</td>\n",
              "</tr>\n",
              "<tr>\n",
              "  <th>Selling_Cost</th>                <td>   -0.0665</td> <td>    0.048</td> <td>   -1.381</td> <td> 0.167</td> <td>   -0.161</td> <td>    0.028</td>\n",
              "</tr>\n",
              "<tr>\n",
              "  <th>Net_Working_Capital</th>         <td>   -0.0145</td> <td>    0.002</td> <td>   -6.136</td> <td> 0.000</td> <td>   -0.019</td> <td>   -0.010</td>\n",
              "</tr>\n",
              "<tr>\n",
              "  <th>CEPS_annualised_Unit_Curr</th>   <td>   -0.0920</td> <td>    0.019</td> <td>   -4.839</td> <td> 0.000</td> <td>   -0.129</td> <td>   -0.055</td>\n",
              "</tr>\n",
              "<tr>\n",
              "  <th>Total_Debt</th>                  <td>    0.0153</td> <td>    0.002</td> <td>    6.876</td> <td> 0.000</td> <td>    0.011</td> <td>    0.020</td>\n",
              "</tr>\n",
              "</table>"
            ],
            "text/plain": [
              "<class 'statsmodels.iolib.summary.Summary'>\n",
              "\"\"\"\n",
              "                           Logit Regression Results                           \n",
              "==============================================================================\n",
              "Dep. Variable:                default   No. Observations:                 2402\n",
              "Model:                          Logit   Df Residuals:                     2383\n",
              "Method:                           MLE   Df Model:                           18\n",
              "Date:                Sun, 14 Feb 2021   Pseudo R-squ.:                  0.4558\n",
              "Time:                        13:41:45   Log-Likelihood:                -448.10\n",
              "converged:                       True   LL-Null:                       -823.47\n",
              "Covariance Type:            nonrobust   LLR p-value:                9.504e-148\n",
              "===============================================================================================\n",
              "                                  coef    std err          z      P>|z|      [0.025      0.975]\n",
              "-----------------------------------------------------------------------------------------------\n",
              "Intercept                      -0.5930      0.178     -3.322      0.001      -0.943      -0.243\n",
              "ROG_Gross_Block_perc           -0.0447      0.015     -2.931      0.003      -0.075      -0.015\n",
              "Inventory_Velocity_Days        -0.0010      0.001     -0.824      0.410      -0.004       0.001\n",
              "ROG_Cost_of_Production_perc    -0.0092      0.003     -3.396      0.001      -0.014      -0.004\n",
              "Creditors_Velocity_Days         0.0024      0.001      2.043      0.041    9.92e-05       0.005\n",
              "Inventory_Ratio_Latest         -0.0209      0.015     -1.375      0.169      -0.051       0.009\n",
              "Current_Ratio_Latest           -0.5720      0.075     -7.668      0.000      -0.718      -0.426\n",
              "Debtors_Velocity_Days          -0.0041      0.001     -3.701      0.000      -0.006      -0.002\n",
              "Debtors_Ratio_Latest           -0.0355      0.017     -2.152      0.031      -0.068      -0.003\n",
              "Interest_Cover_Ratio_Latest    -0.1569      0.035     -4.520      0.000      -0.225      -0.089\n",
              "ROG_Net_Worth_perc             -0.0266      0.009     -2.920      0.004      -0.044      -0.009\n",
              "Revenue_earnings_in_forex      -0.0354      0.021     -1.661      0.097      -0.077       0.006\n",
              "ROG_Total_Assets_perc          -0.0128      0.007     -1.965      0.049      -0.026   -3.07e-05\n",
              "Revenue_expenses_in_forex       0.0441      0.022      2.031      0.042       0.002       0.087\n",
              "Market_Capitalisation          -0.0122      0.002     -5.900      0.000      -0.016      -0.008\n",
              "Selling_Cost                   -0.0665      0.048     -1.381      0.167      -0.161       0.028\n",
              "Net_Working_Capital            -0.0145      0.002     -6.136      0.000      -0.019      -0.010\n",
              "CEPS_annualised_Unit_Curr      -0.0920      0.019     -4.839      0.000      -0.129      -0.055\n",
              "Total_Debt                      0.0153      0.002      6.876      0.000       0.011       0.020\n",
              "===============================================================================================\n",
              "\"\"\""
            ]
          },
          "metadata": {
            "tags": []
          },
          "execution_count": 81
        }
      ]
    },
    {
      "cell_type": "code",
      "metadata": {
        "colab": {
          "base_uri": "https://localhost:8080/"
        },
        "id": "pMxmMfZzwotN",
        "outputId": "3a98f611-22eb-491d-dae1-cd184cb841a9"
      },
      "source": [
        "print('The adjusted pseudo R-square value is',1 - ((model_2.llf - model_2.df_model)/model_2.llnull))"
      ],
      "execution_count": 82,
      "outputs": [
        {
          "output_type": "stream",
          "text": [
            "The adjusted pseudo R-square value is 0.4339825219677367\n"
          ],
          "name": "stdout"
        }
      ]
    },
    {
      "cell_type": "markdown",
      "metadata": {
        "id": "VflL_lhMx3s5"
      },
      "source": [
        "Adjusted pseudo R-square seems to be lower than Pseudo R-square value which means there are insignificant variables present in the model. Lets try & remove variables whose p value is greater than 0.05 & rebuild our model"
      ]
    },
    {
      "cell_type": "code",
      "metadata": {
        "id": "Jm4zW2edx2W5"
      },
      "source": [
        "f_3 = 'default ~ ROG_Gross_Block_perc + ROG_Cost_of_Production_perc + Creditors_Velocity_Days + Current_Ratio_Latest + Debtors_Velocity_Days + Debtors_Ratio_Latest + Interest_Cover_Ratio_Latest + ROG_Net_Worth_perc + ROG_Total_Assets_perc + Revenue_expenses_in_forex + Market_Capitalisation + Net_Working_Capital + CEPS_annualised_Unit_Curr + Total_Debt'"
      ],
      "execution_count": 83,
      "outputs": []
    },
    {
      "cell_type": "code",
      "metadata": {
        "colab": {
          "base_uri": "https://localhost:8080/"
        },
        "id": "ziyOj-d3yKEP",
        "outputId": "c99365c5-358c-4231-c272-b70793bba3d0"
      },
      "source": [
        "model_3 = SM.logit(formula = f_3, data=df_train).fit()"
      ],
      "execution_count": 84,
      "outputs": [
        {
          "output_type": "stream",
          "text": [
            "Optimization terminated successfully.\n",
            "         Current function value: 0.188582\n",
            "         Iterations 9\n"
          ],
          "name": "stdout"
        }
      ]
    },
    {
      "cell_type": "code",
      "metadata": {
        "colab": {
          "base_uri": "https://localhost:8080/",
          "height": 444
        },
        "id": "MIRUEFvnyNid",
        "outputId": "35b825e4-ad1d-4cf7-c72c-3cc41c94e5de"
      },
      "source": [
        "model_3.summary()"
      ],
      "execution_count": 85,
      "outputs": [
        {
          "output_type": "execute_result",
          "data": {
            "text/html": [
              "<table class=\"simpletable\">\n",
              "<caption>Logit Regression Results</caption>\n",
              "<tr>\n",
              "  <th>Dep. Variable:</th>        <td>default</td>     <th>  No. Observations:  </th>   <td>  2402</td>  \n",
              "</tr>\n",
              "<tr>\n",
              "  <th>Model:</th>                 <td>Logit</td>      <th>  Df Residuals:      </th>   <td>  2387</td>  \n",
              "</tr>\n",
              "<tr>\n",
              "  <th>Method:</th>                 <td>MLE</td>       <th>  Df Model:          </th>   <td>    14</td>  \n",
              "</tr>\n",
              "<tr>\n",
              "  <th>Date:</th>            <td>Sun, 14 Feb 2021</td> <th>  Pseudo R-squ.:     </th>   <td>0.4499</td>  \n",
              "</tr>\n",
              "<tr>\n",
              "  <th>Time:</th>                <td>13:44:27</td>     <th>  Log-Likelihood:    </th>  <td> -452.97</td> \n",
              "</tr>\n",
              "<tr>\n",
              "  <th>converged:</th>             <td>True</td>       <th>  LL-Null:           </th>  <td> -823.47</td> \n",
              "</tr>\n",
              "<tr>\n",
              "  <th>Covariance Type:</th>     <td>nonrobust</td>    <th>  LLR p-value:       </th> <td>4.558e-149</td>\n",
              "</tr>\n",
              "</table>\n",
              "<table class=\"simpletable\">\n",
              "<tr>\n",
              "               <td></td>                  <th>coef</th>     <th>std err</th>      <th>z</th>      <th>P>|z|</th>  <th>[0.025</th>    <th>0.975]</th>  \n",
              "</tr>\n",
              "<tr>\n",
              "  <th>Intercept</th>                   <td>   -0.6462</td> <td>    0.176</td> <td>   -3.676</td> <td> 0.000</td> <td>   -0.991</td> <td>   -0.302</td>\n",
              "</tr>\n",
              "<tr>\n",
              "  <th>ROG_Gross_Block_perc</th>        <td>   -0.0480</td> <td>    0.015</td> <td>   -3.178</td> <td> 0.001</td> <td>   -0.078</td> <td>   -0.018</td>\n",
              "</tr>\n",
              "<tr>\n",
              "  <th>ROG_Cost_of_Production_perc</th> <td>   -0.0087</td> <td>    0.003</td> <td>   -3.246</td> <td> 0.001</td> <td>   -0.014</td> <td>   -0.003</td>\n",
              "</tr>\n",
              "<tr>\n",
              "  <th>Creditors_Velocity_Days</th>     <td>    0.0027</td> <td>    0.001</td> <td>    2.293</td> <td> 0.022</td> <td>    0.000</td> <td>    0.005</td>\n",
              "</tr>\n",
              "<tr>\n",
              "  <th>Current_Ratio_Latest</th>        <td>   -0.5771</td> <td>    0.076</td> <td>   -7.629</td> <td> 0.000</td> <td>   -0.725</td> <td>   -0.429</td>\n",
              "</tr>\n",
              "<tr>\n",
              "  <th>Debtors_Velocity_Days</th>       <td>   -0.0044</td> <td>    0.001</td> <td>   -4.116</td> <td> 0.000</td> <td>   -0.007</td> <td>   -0.002</td>\n",
              "</tr>\n",
              "<tr>\n",
              "  <th>Debtors_Ratio_Latest</th>        <td>   -0.0521</td> <td>    0.015</td> <td>   -3.392</td> <td> 0.001</td> <td>   -0.082</td> <td>   -0.022</td>\n",
              "</tr>\n",
              "<tr>\n",
              "  <th>Interest_Cover_Ratio_Latest</th> <td>   -0.1572</td> <td>    0.034</td> <td>   -4.599</td> <td> 0.000</td> <td>   -0.224</td> <td>   -0.090</td>\n",
              "</tr>\n",
              "<tr>\n",
              "  <th>ROG_Net_Worth_perc</th>          <td>   -0.0245</td> <td>    0.009</td> <td>   -2.749</td> <td> 0.006</td> <td>   -0.042</td> <td>   -0.007</td>\n",
              "</tr>\n",
              "<tr>\n",
              "  <th>ROG_Total_Assets_perc</th>       <td>   -0.0124</td> <td>    0.006</td> <td>   -1.911</td> <td> 0.056</td> <td>   -0.025</td> <td>    0.000</td>\n",
              "</tr>\n",
              "<tr>\n",
              "  <th>Revenue_expenses_in_forex</th>   <td>    0.0124</td> <td>    0.019</td> <td>    0.657</td> <td> 0.511</td> <td>   -0.025</td> <td>    0.049</td>\n",
              "</tr>\n",
              "<tr>\n",
              "  <th>Market_Capitalisation</th>       <td>   -0.0127</td> <td>    0.002</td> <td>   -6.168</td> <td> 0.000</td> <td>   -0.017</td> <td>   -0.009</td>\n",
              "</tr>\n",
              "<tr>\n",
              "  <th>Net_Working_Capital</th>         <td>   -0.0149</td> <td>    0.002</td> <td>   -6.407</td> <td> 0.000</td> <td>   -0.019</td> <td>   -0.010</td>\n",
              "</tr>\n",
              "<tr>\n",
              "  <th>CEPS_annualised_Unit_Curr</th>   <td>   -0.0973</td> <td>    0.019</td> <td>   -5.203</td> <td> 0.000</td> <td>   -0.134</td> <td>   -0.061</td>\n",
              "</tr>\n",
              "<tr>\n",
              "  <th>Total_Debt</th>                  <td>    0.0134</td> <td>    0.002</td> <td>    6.492</td> <td> 0.000</td> <td>    0.009</td> <td>    0.018</td>\n",
              "</tr>\n",
              "</table>"
            ],
            "text/plain": [
              "<class 'statsmodels.iolib.summary.Summary'>\n",
              "\"\"\"\n",
              "                           Logit Regression Results                           \n",
              "==============================================================================\n",
              "Dep. Variable:                default   No. Observations:                 2402\n",
              "Model:                          Logit   Df Residuals:                     2387\n",
              "Method:                           MLE   Df Model:                           14\n",
              "Date:                Sun, 14 Feb 2021   Pseudo R-squ.:                  0.4499\n",
              "Time:                        13:44:27   Log-Likelihood:                -452.97\n",
              "converged:                       True   LL-Null:                       -823.47\n",
              "Covariance Type:            nonrobust   LLR p-value:                4.558e-149\n",
              "===============================================================================================\n",
              "                                  coef    std err          z      P>|z|      [0.025      0.975]\n",
              "-----------------------------------------------------------------------------------------------\n",
              "Intercept                      -0.6462      0.176     -3.676      0.000      -0.991      -0.302\n",
              "ROG_Gross_Block_perc           -0.0480      0.015     -3.178      0.001      -0.078      -0.018\n",
              "ROG_Cost_of_Production_perc    -0.0087      0.003     -3.246      0.001      -0.014      -0.003\n",
              "Creditors_Velocity_Days         0.0027      0.001      2.293      0.022       0.000       0.005\n",
              "Current_Ratio_Latest           -0.5771      0.076     -7.629      0.000      -0.725      -0.429\n",
              "Debtors_Velocity_Days          -0.0044      0.001     -4.116      0.000      -0.007      -0.002\n",
              "Debtors_Ratio_Latest           -0.0521      0.015     -3.392      0.001      -0.082      -0.022\n",
              "Interest_Cover_Ratio_Latest    -0.1572      0.034     -4.599      0.000      -0.224      -0.090\n",
              "ROG_Net_Worth_perc             -0.0245      0.009     -2.749      0.006      -0.042      -0.007\n",
              "ROG_Total_Assets_perc          -0.0124      0.006     -1.911      0.056      -0.025       0.000\n",
              "Revenue_expenses_in_forex       0.0124      0.019      0.657      0.511      -0.025       0.049\n",
              "Market_Capitalisation          -0.0127      0.002     -6.168      0.000      -0.017      -0.009\n",
              "Net_Working_Capital            -0.0149      0.002     -6.407      0.000      -0.019      -0.010\n",
              "CEPS_annualised_Unit_Curr      -0.0973      0.019     -5.203      0.000      -0.134      -0.061\n",
              "Total_Debt                      0.0134      0.002      6.492      0.000       0.009       0.018\n",
              "===============================================================================================\n",
              "\"\"\""
            ]
          },
          "metadata": {
            "tags": []
          },
          "execution_count": 85
        }
      ]
    },
    {
      "cell_type": "code",
      "metadata": {
        "colab": {
          "base_uri": "https://localhost:8080/"
        },
        "id": "b3i1uNR1yQ6t",
        "outputId": "fc135d3a-7e6a-4484-fee9-98fd6c2caae0"
      },
      "source": [
        "print('The adjusted pseudo R-square value is',1 - ((model_3.llf - model_3.df_model)/model_3.llnull))"
      ],
      "execution_count": 86,
      "outputs": [
        {
          "output_type": "stream",
          "text": [
            "The adjusted pseudo R-square value is 0.43291769631310995\n"
          ],
          "name": "stdout"
        }
      ]
    },
    {
      "cell_type": "code",
      "metadata": {
        "id": "F_El24m5yXJt"
      },
      "source": [
        "f_4 = 'default ~ ROG_Gross_Block_perc + ROG_Cost_of_Production_perc + Creditors_Velocity_Days + Current_Ratio_Latest + Debtors_Velocity_Days + Debtors_Ratio_Latest + Interest_Cover_Ratio_Latest + ROG_Net_Worth_perc + Market_Capitalisation + Net_Working_Capital + CEPS_annualised_Unit_Curr + Total_Debt'"
      ],
      "execution_count": 88,
      "outputs": []
    },
    {
      "cell_type": "code",
      "metadata": {
        "colab": {
          "base_uri": "https://localhost:8080/"
        },
        "id": "yx_mqLS9ycbh",
        "outputId": "83f1ac50-0513-41fd-bc4c-bd93f9230c3c"
      },
      "source": [
        "model_4 = SM.logit(formula = f_4, data=df_train).fit()"
      ],
      "execution_count": 89,
      "outputs": [
        {
          "output_type": "stream",
          "text": [
            "Optimization terminated successfully.\n",
            "         Current function value: 0.189450\n",
            "         Iterations 9\n"
          ],
          "name": "stdout"
        }
      ]
    },
    {
      "cell_type": "code",
      "metadata": {
        "colab": {
          "base_uri": "https://localhost:8080/",
          "height": 408
        },
        "id": "5j2XD-3iygJ9",
        "outputId": "c5ac2ace-2f74-4afb-be01-60cac659be24"
      },
      "source": [
        "model_4.summary()"
      ],
      "execution_count": 90,
      "outputs": [
        {
          "output_type": "execute_result",
          "data": {
            "text/html": [
              "<table class=\"simpletable\">\n",
              "<caption>Logit Regression Results</caption>\n",
              "<tr>\n",
              "  <th>Dep. Variable:</th>        <td>default</td>     <th>  No. Observations:  </th>   <td>  2402</td>  \n",
              "</tr>\n",
              "<tr>\n",
              "  <th>Model:</th>                 <td>Logit</td>      <th>  Df Residuals:      </th>   <td>  2389</td>  \n",
              "</tr>\n",
              "<tr>\n",
              "  <th>Method:</th>                 <td>MLE</td>       <th>  Df Model:          </th>   <td>    12</td>  \n",
              "</tr>\n",
              "<tr>\n",
              "  <th>Date:</th>            <td>Sun, 14 Feb 2021</td> <th>  Pseudo R-squ.:     </th>   <td>0.4474</td>  \n",
              "</tr>\n",
              "<tr>\n",
              "  <th>Time:</th>                <td>13:45:39</td>     <th>  Log-Likelihood:    </th>  <td> -455.06</td> \n",
              "</tr>\n",
              "<tr>\n",
              "  <th>converged:</th>             <td>True</td>       <th>  LL-Null:           </th>  <td> -823.47</td> \n",
              "</tr>\n",
              "<tr>\n",
              "  <th>Covariance Type:</th>     <td>nonrobust</td>    <th>  LLR p-value:       </th> <td>5.756e-150</td>\n",
              "</tr>\n",
              "</table>\n",
              "<table class=\"simpletable\">\n",
              "<tr>\n",
              "               <td></td>                  <th>coef</th>     <th>std err</th>      <th>z</th>      <th>P>|z|</th>  <th>[0.025</th>    <th>0.975]</th>  \n",
              "</tr>\n",
              "<tr>\n",
              "  <th>Intercept</th>                   <td>   -0.6333</td> <td>    0.175</td> <td>   -3.618</td> <td> 0.000</td> <td>   -0.976</td> <td>   -0.290</td>\n",
              "</tr>\n",
              "<tr>\n",
              "  <th>ROG_Gross_Block_perc</th>        <td>   -0.0542</td> <td>    0.015</td> <td>   -3.690</td> <td> 0.000</td> <td>   -0.083</td> <td>   -0.025</td>\n",
              "</tr>\n",
              "<tr>\n",
              "  <th>ROG_Cost_of_Production_perc</th> <td>   -0.0090</td> <td>    0.003</td> <td>   -3.384</td> <td> 0.001</td> <td>   -0.014</td> <td>   -0.004</td>\n",
              "</tr>\n",
              "<tr>\n",
              "  <th>Creditors_Velocity_Days</th>     <td>    0.0027</td> <td>    0.001</td> <td>    2.285</td> <td> 0.022</td> <td>    0.000</td> <td>    0.005</td>\n",
              "</tr>\n",
              "<tr>\n",
              "  <th>Current_Ratio_Latest</th>        <td>   -0.5813</td> <td>    0.076</td> <td>   -7.675</td> <td> 0.000</td> <td>   -0.730</td> <td>   -0.433</td>\n",
              "</tr>\n",
              "<tr>\n",
              "  <th>Debtors_Velocity_Days</th>       <td>   -0.0044</td> <td>    0.001</td> <td>   -4.058</td> <td> 0.000</td> <td>   -0.006</td> <td>   -0.002</td>\n",
              "</tr>\n",
              "<tr>\n",
              "  <th>Debtors_Ratio_Latest</th>        <td>   -0.0505</td> <td>    0.015</td> <td>   -3.336</td> <td> 0.001</td> <td>   -0.080</td> <td>   -0.021</td>\n",
              "</tr>\n",
              "<tr>\n",
              "  <th>Interest_Cover_Ratio_Latest</th> <td>   -0.1565</td> <td>    0.034</td> <td>   -4.628</td> <td> 0.000</td> <td>   -0.223</td> <td>   -0.090</td>\n",
              "</tr>\n",
              "<tr>\n",
              "  <th>ROG_Net_Worth_perc</th>          <td>   -0.0314</td> <td>    0.008</td> <td>   -3.822</td> <td> 0.000</td> <td>   -0.048</td> <td>   -0.015</td>\n",
              "</tr>\n",
              "<tr>\n",
              "  <th>Market_Capitalisation</th>       <td>   -0.0125</td> <td>    0.002</td> <td>   -6.301</td> <td> 0.000</td> <td>   -0.016</td> <td>   -0.009</td>\n",
              "</tr>\n",
              "<tr>\n",
              "  <th>Net_Working_Capital</th>         <td>   -0.0149</td> <td>    0.002</td> <td>   -6.523</td> <td> 0.000</td> <td>   -0.019</td> <td>   -0.010</td>\n",
              "</tr>\n",
              "<tr>\n",
              "  <th>CEPS_annualised_Unit_Curr</th>   <td>   -0.0954</td> <td>    0.019</td> <td>   -5.131</td> <td> 0.000</td> <td>   -0.132</td> <td>   -0.059</td>\n",
              "</tr>\n",
              "<tr>\n",
              "  <th>Total_Debt</th>                  <td>    0.0136</td> <td>    0.002</td> <td>    6.789</td> <td> 0.000</td> <td>    0.010</td> <td>    0.017</td>\n",
              "</tr>\n",
              "</table>"
            ],
            "text/plain": [
              "<class 'statsmodels.iolib.summary.Summary'>\n",
              "\"\"\"\n",
              "                           Logit Regression Results                           \n",
              "==============================================================================\n",
              "Dep. Variable:                default   No. Observations:                 2402\n",
              "Model:                          Logit   Df Residuals:                     2389\n",
              "Method:                           MLE   Df Model:                           12\n",
              "Date:                Sun, 14 Feb 2021   Pseudo R-squ.:                  0.4474\n",
              "Time:                        13:45:39   Log-Likelihood:                -455.06\n",
              "converged:                       True   LL-Null:                       -823.47\n",
              "Covariance Type:            nonrobust   LLR p-value:                5.756e-150\n",
              "===============================================================================================\n",
              "                                  coef    std err          z      P>|z|      [0.025      0.975]\n",
              "-----------------------------------------------------------------------------------------------\n",
              "Intercept                      -0.6333      0.175     -3.618      0.000      -0.976      -0.290\n",
              "ROG_Gross_Block_perc           -0.0542      0.015     -3.690      0.000      -0.083      -0.025\n",
              "ROG_Cost_of_Production_perc    -0.0090      0.003     -3.384      0.001      -0.014      -0.004\n",
              "Creditors_Velocity_Days         0.0027      0.001      2.285      0.022       0.000       0.005\n",
              "Current_Ratio_Latest           -0.5813      0.076     -7.675      0.000      -0.730      -0.433\n",
              "Debtors_Velocity_Days          -0.0044      0.001     -4.058      0.000      -0.006      -0.002\n",
              "Debtors_Ratio_Latest           -0.0505      0.015     -3.336      0.001      -0.080      -0.021\n",
              "Interest_Cover_Ratio_Latest    -0.1565      0.034     -4.628      0.000      -0.223      -0.090\n",
              "ROG_Net_Worth_perc             -0.0314      0.008     -3.822      0.000      -0.048      -0.015\n",
              "Market_Capitalisation          -0.0125      0.002     -6.301      0.000      -0.016      -0.009\n",
              "Net_Working_Capital            -0.0149      0.002     -6.523      0.000      -0.019      -0.010\n",
              "CEPS_annualised_Unit_Curr      -0.0954      0.019     -5.131      0.000      -0.132      -0.059\n",
              "Total_Debt                      0.0136      0.002      6.789      0.000       0.010       0.017\n",
              "===============================================================================================\n",
              "\"\"\""
            ]
          },
          "metadata": {
            "tags": []
          },
          "execution_count": 90
        }
      ]
    },
    {
      "cell_type": "code",
      "metadata": {
        "colab": {
          "base_uri": "https://localhost:8080/"
        },
        "id": "E8aX9MafyiYO",
        "outputId": "4c34a17c-8db9-437a-b766-a6d115c1f23a"
      },
      "source": [
        "print('The adjusted pseudo R-square value is',1 - ((model_4.llf - model_4.df_model)/model_4.llnull))"
      ],
      "execution_count": 91,
      "outputs": [
        {
          "output_type": "stream",
          "text": [
            "The adjusted pseudo R-square value is 0.4328149398733373\n"
          ],
          "name": "stdout"
        }
      ]
    },
    {
      "cell_type": "code",
      "metadata": {
        "colab": {
          "base_uri": "https://localhost:8080/"
        },
        "id": "tXCcQiWtyp-e",
        "outputId": "eccbbe3f-a54d-4748-ce50-eb7ab9e70ca9"
      },
      "source": [
        "y_prob_pred_train = model_4.predict(df_train)\r\n",
        "y_prob_pred_train"
      ],
      "execution_count": 93,
      "outputs": [
        {
          "output_type": "execute_result",
          "data": {
            "text/plain": [
              "842     0.017041\n",
              "1057    0.002103\n",
              "1595    0.000318\n",
              "100     0.644438\n",
              "1191    0.035607\n",
              "          ...   \n",
              "1815    0.009139\n",
              "2852    0.052999\n",
              "1505    0.006965\n",
              "375     0.578453\n",
              "3428    0.000063\n",
              "Length: 2402, dtype: float64"
            ]
          },
          "metadata": {
            "tags": []
          },
          "execution_count": 93
        }
      ]
    },
    {
      "cell_type": "code",
      "metadata": {
        "colab": {
          "base_uri": "https://localhost:8080/",
          "height": 278
        },
        "id": "Hjwq9EB_zKYB",
        "outputId": "7576ce45-89b9-4915-eb2a-2d9d50e9e716"
      },
      "source": [
        "sns.boxplot(x=df['default'],y=y_prob_pred_train)\r\n",
        "plt.xlabel('default');\r\n"
      ],
      "execution_count": 96,
      "outputs": [
        {
          "output_type": "display_data",
          "data": {
            "image/png": "[encoded data removed]",
            "text/plain": [
              "<Figure size 432x288 with 1 Axes>"
            ]
          },
          "metadata": {
            "tags": [],
            "needs_background": "light"
          }
        }
      ]
    },
    {
      "cell_type": "code",
      "metadata": {
        "id": "5tDj8MlTzAz-"
      },
      "source": [
        "  y_class_pred=[]\r\n",
        "for i in range(0,len(y_prob_pred_train)):\r\n",
        "    if np.array(y_prob_pred_train)[i]>0.07:\r\n",
        "        a=1\r\n",
        "    else:\r\n",
        "        a=0\r\n",
        "    y_class_pred.append(a)"
      ],
      "execution_count": 97,
      "outputs": []
    },
    {
      "cell_type": "code",
      "metadata": {
        "id": "xnVKp5oWzr-0"
      },
      "source": [
        "import sklearn.metrics as metrics"
      ],
      "execution_count": 99,
      "outputs": []
    },
    {
      "cell_type": "code",
      "metadata": {
        "colab": {
          "base_uri": "https://localhost:8080/",
          "height": 278
        },
        "id": "WaEN-XoUzE3t",
        "outputId": "4231a625-6c95-4f86-a98d-54c3200b559b"
      },
      "source": [
        "sns.heatmap((metrics.confusion_matrix(y_train,y_class_pred)),annot=True,fmt='.5g');\r\n",
        "plt.xlabel('Predicted');\r\n",
        "plt.ylabel('Actuals',rotation=0);"
      ],
      "execution_count": 100,
      "outputs": [
        {
          "output_type": "display_data",
          "data": {
            "image/png": "[encoded data removed]",
            "text/plain": [
              "<Figure size 432x288 with 2 Axes>"
            ]
          },
          "metadata": {
            "tags": [],
            "needs_background": "light"
          }
        }
      ]
    },
    {
      "cell_type": "code",
      "metadata": {
        "colab": {
          "base_uri": "https://localhost:8080/"
        },
        "id": "Q_Eee-9lzqrN",
        "outputId": "165dad5e-556e-43ca-ae99-6fb0cfc4acc5"
      },
      "source": [
        "tn, fp, fn, tp = metrics.confusion_matrix(y_train,y_class_pred).ravel()\r\n",
        "print('True Negative:',tn,'\\n''False Positives:' ,fp,'\\n''False Negatives:', fn,'\\n''True Positives:', tp)"
      ],
      "execution_count": 101,
      "outputs": [
        {
          "output_type": "stream",
          "text": [
            "True Negative: 1674 \n",
            "False Positives: 468 \n",
            "False Negatives: 28 \n",
            "True Positives: 232\n"
          ],
          "name": "stdout"
        }
      ]
    },
    {
      "cell_type": "code",
      "metadata": {
        "colab": {
          "base_uri": "https://localhost:8080/"
        },
        "id": "utQMhFqr0gCF",
        "outputId": "db24ed82-3c2e-450a-a8f5-bab16b79ac36"
      },
      "source": [
        "print(metrics.classification_report(y_train,y_class_pred,digits=3))"
      ],
      "execution_count": 102,
      "outputs": [
        {
          "output_type": "stream",
          "text": [
            "              precision    recall  f1-score   support\n",
            "\n",
            "           0      0.984     0.782     0.871      2142\n",
            "           1      0.331     0.892     0.483       260\n",
            "\n",
            "    accuracy                          0.794      2402\n",
            "   macro avg      0.657     0.837     0.677      2402\n",
            "weighted avg      0.913     0.794     0.829      2402\n",
            "\n"
          ],
          "name": "stdout"
        }
      ]
    },
    {
      "cell_type": "code",
      "metadata": {
        "colab": {
          "base_uri": "https://localhost:8080/"
        },
        "id": "SPlyni7L0f51",
        "outputId": "1a76875d-d9b5-4894-b53d-a7246a0ff95c"
      },
      "source": [
        "y_prob_pred_test = model_4.predict(X_test)\r\n",
        "y_prob_pred_test"
      ],
      "execution_count": 103,
      "outputs": [
        {
          "output_type": "execute_result",
          "data": {
            "text/plain": [
              "251     0.296812\n",
              "3493    0.000221\n",
              "3063    0.016066\n",
              "2384    0.030295\n",
              "1679    0.001167\n",
              "          ...   \n",
              "1321    0.047644\n",
              "2666    0.005734\n",
              "773     0.006075\n",
              "3488    0.000271\n",
              "2956    0.003874\n",
              "Length: 1184, dtype: float64"
            ]
          },
          "metadata": {
            "tags": []
          },
          "execution_count": 103
        }
      ]
    },
    {
      "cell_type": "code",
      "metadata": {
        "id": "c3r0zvV61tdl"
      },
      "source": [
        "y_class_pred=[]\r\n",
        "for i in range(0,len(y_prob_pred_test)):\r\n",
        "    if np.array(y_prob_pred_test)[i]>0.07:\r\n",
        "        a=1\r\n",
        "    else:\r\n",
        "        a=0\r\n",
        "    y_class_pred.append(a)"
      ],
      "execution_count": 111,
      "outputs": []
    },
    {
      "cell_type": "code",
      "metadata": {
        "colab": {
          "base_uri": "https://localhost:8080/",
          "height": 278
        },
        "id": "C8LQ4sau07Kg",
        "outputId": "ff70cfe2-39b7-4056-de0a-c43b1daf0862"
      },
      "source": [
        "sns.heatmap((metrics.confusion_matrix(y_test,y_class_pred)),annot=True,fmt='.5g');\r\n",
        "plt.xlabel('Predicted');\r\n",
        "plt.ylabel('Actuals',rotation=0);"
      ],
      "execution_count": 112,
      "outputs": [
        {
          "output_type": "display_data",
          "data": {
            "image/png": "[encoded data removed]",
            "text/plain": [
              "<Figure size 432x288 with 2 Axes>"
            ]
          },
          "metadata": {
            "tags": [],
            "needs_background": "light"
          }
        }
      ]
    },
    {
      "cell_type": "code",
      "metadata": {
        "colab": {
          "base_uri": "https://localhost:8080/"
        },
        "id": "rUoiBA5-13qH",
        "outputId": "74b3b50d-8ae7-49e0-cee9-492481833a8a"
      },
      "source": [
        "tn, fp, fn, tp = metrics.confusion_matrix(y_test,y_class_pred).ravel()\r\n",
        "print('True Negative:',tn,'\\n''False Positives:' ,fp,'\\n''False Negatives:', fn,'\\n''True Positives:', tp)"
      ],
      "execution_count": 113,
      "outputs": [
        {
          "output_type": "stream",
          "text": [
            "True Negative: 826 \n",
            "False Positives: 230 \n",
            "False Negatives: 18 \n",
            "True Positives: 110\n"
          ],
          "name": "stdout"
        }
      ]
    },
    {
      "cell_type": "code",
      "metadata": {
        "colab": {
          "base_uri": "https://localhost:8080/"
        },
        "id": "4XZ_Psxl16eZ",
        "outputId": "7efa48a2-5257-4e11-fe19-9a6a85d3653e"
      },
      "source": [
        "print(metrics.classification_report(y_test,y_class_pred,digits=3))"
      ],
      "execution_count": 114,
      "outputs": [
        {
          "output_type": "stream",
          "text": [
            "              precision    recall  f1-score   support\n",
            "\n",
            "           0      0.979     0.782     0.869      1056\n",
            "           1      0.324     0.859     0.470       128\n",
            "\n",
            "    accuracy                          0.791      1184\n",
            "   macro avg      0.651     0.821     0.670      1184\n",
            "weighted avg      0.908     0.791     0.826      1184\n",
            "\n"
          ],
          "name": "stdout"
        }
      ]
    },
    {
      "cell_type": "code",
      "metadata": {
        "colab": {
          "base_uri": "https://localhost:8080/",
          "height": 324
        },
        "id": "RnMGTKa02FZ2",
        "outputId": "094399c2-494b-4d66-f517-34454f71ce0f"
      },
      "source": [
        "sns.distplot(model_4.fittedvalues);"
      ],
      "execution_count": 115,
      "outputs": [
        {
          "output_type": "stream",
          "text": [
            "/usr/local/lib/python3.6/dist-packages/seaborn/distributions.py:2557: FutureWarning: `distplot` is a deprecated function and will be removed in a future version. Please adapt your code to use either `displot` (a figure-level function with similar flexibility) or `histplot` (an axes-level function for histograms).\n",
            "  warnings.warn(msg, FutureWarning)\n"
          ],
          "name": "stderr"
        },
        {
          "output_type": "display_data",
          "data": {
            "image/png": "[encoded data removed]",
            "text/plain": [
              "<Figure size 432x288 with 1 Axes>"
            ]
          },
          "metadata": {
            "tags": [],
            "needs_background": "light"
          }
        }
      ]
    },
    {
      "cell_type": "code",
      "metadata": {
        "id": "eLUDDEQZ2CEl"
      },
      "source": [
        "y_class_pred=[]\r\n",
        "for i in range(0,len(y_prob_pred_train)):\r\n",
        "    if np.array(y_prob_pred_train)[i]>0.05:\r\n",
        "        a=1\r\n",
        "    else:\r\n",
        "        a=0\r\n",
        "    y_class_pred.append(a)"
      ],
      "execution_count": 118,
      "outputs": []
    },
    {
      "cell_type": "code",
      "metadata": {
        "colab": {
          "base_uri": "https://localhost:8080/",
          "height": 278
        },
        "id": "Wp54xdLv2X0e",
        "outputId": "a326d08d-8ac6-4b84-ba29-b1961fe82536"
      },
      "source": [
        "sns.heatmap((metrics.confusion_matrix(y_train,y_class_pred)),annot=True,fmt='.5g'\r\n",
        "            ,cmap='plasma');\r\n",
        "plt.xlabel('Predicted');\r\n",
        "plt.ylabel('Actuals',rotation=0);"
      ],
      "execution_count": 119,
      "outputs": [
        {
          "output_type": "display_data",
          "data": {
            "image/png": "[encoded data removed]",
            "text/plain": [
              "<Figure size 432x288 with 2 Axes>"
            ]
          },
          "metadata": {
            "tags": [],
            "needs_background": "light"
          }
        }
      ]
    },
    {
      "cell_type": "code",
      "metadata": {
        "colab": {
          "base_uri": "https://localhost:8080/"
        },
        "id": "6EvmQP892yCm",
        "outputId": "0f7f2fc2-d8c3-44a3-ab4c-44f34847ad67"
      },
      "source": [
        "print(metrics.classification_report(y_train,y_class_pred,digits=3))"
      ],
      "execution_count": 120,
      "outputs": [
        {
          "output_type": "stream",
          "text": [
            "              precision    recall  f1-score   support\n",
            "\n",
            "           0      0.985     0.731     0.839      2142\n",
            "           1      0.291     0.908     0.440       260\n",
            "\n",
            "    accuracy                          0.750      2402\n",
            "   macro avg      0.638     0.819     0.640      2402\n",
            "weighted avg      0.910     0.750     0.796      2402\n",
            "\n"
          ],
          "name": "stdout"
        }
      ]
    },
    {
      "cell_type": "code",
      "metadata": {
        "id": "57asaSkx22WN"
      },
      "source": [
        "y_class_pred=[]\r\n",
        "for i in range(0,len(y_prob_pred_test)):\r\n",
        "    if np.array(y_prob_pred_test)[i]>0.05:\r\n",
        "        a=1\r\n",
        "    else:\r\n",
        "        a=0\r\n",
        "    y_class_pred.append(a)"
      ],
      "execution_count": 121,
      "outputs": []
    },
    {
      "cell_type": "code",
      "metadata": {
        "colab": {
          "base_uri": "https://localhost:8080/",
          "height": 278
        },
        "id": "wc5Q05853GgO",
        "outputId": "4b847e81-88ca-4134-9c7a-b0040cf4e36d"
      },
      "source": [
        "sns.heatmap((metrics.confusion_matrix(y_test,y_class_pred)),annot=True,fmt='.5g'\r\n",
        "            ,cmap='plasma');\r\n",
        "plt.xlabel('Predicted');\r\n",
        "plt.ylabel('Actuals',rotation=0);"
      ],
      "execution_count": 122,
      "outputs": [
        {
          "output_type": "display_data",
          "data": {
            "image/png": "[encoded data removed]",
            "text/plain": [
              "<Figure size 432x288 with 2 Axes>"
            ]
          },
          "metadata": {
            "tags": [],
            "needs_background": "light"
          }
        }
      ]
    },
    {
      "cell_type": "code",
      "metadata": {
        "colab": {
          "base_uri": "https://localhost:8080/"
        },
        "id": "qMEDLDCl3JBH",
        "outputId": "b366ed40-9d45-4d76-934b-f8aca123281e"
      },
      "source": [
        "print(metrics.classification_report(y_test,y_class_pred,digits=3))"
      ],
      "execution_count": 123,
      "outputs": [
        {
          "output_type": "stream",
          "text": [
            "              precision    recall  f1-score   support\n",
            "\n",
            "           0      0.982     0.739     0.843      1056\n",
            "           1      0.292     0.891     0.440       128\n",
            "\n",
            "    accuracy                          0.755      1184\n",
            "   macro avg      0.637     0.815     0.642      1184\n",
            "weighted avg      0.908     0.755     0.800      1184\n",
            "\n"
          ],
          "name": "stdout"
        }
      ]
    },
    {
      "cell_type": "code",
      "metadata": {
        "id": "g2dKn3zu3MXt"
      },
      "source": [
        "y_class_pred=[]\r\n",
        "for i in range(0,len(y_prob_pred_train)):\r\n",
        "    if np.array(y_prob_pred_train)[i]>0.09:\r\n",
        "        a=1\r\n",
        "    else:\r\n",
        "        a=0\r\n",
        "    y_class_pred.append(a)"
      ],
      "execution_count": 124,
      "outputs": []
    },
    {
      "cell_type": "code",
      "metadata": {
        "colab": {
          "base_uri": "https://localhost:8080/",
          "height": 278
        },
        "id": "KFLbnm9x3SLq",
        "outputId": "df5a56c1-7ab3-4ec4-99d8-f680d8d70d7a"
      },
      "source": [
        "sns.heatmap((metrics.confusion_matrix(y_train,y_class_pred)),annot=True,fmt='.5g'\r\n",
        "            ,cmap='Blues');\r\n",
        "plt.xlabel('Predicted');\r\n",
        "plt.ylabel('Actuals',rotation=0);"
      ],
      "execution_count": 127,
      "outputs": [
        {
          "output_type": "display_data",
          "data": {
            "image/png": "[encoded data removed]",
            "text/plain": [
              "<Figure size 432x288 with 2 Axes>"
            ]
          },
          "metadata": {
            "tags": [],
            "needs_background": "light"
          }
        }
      ]
    },
    {
      "cell_type": "code",
      "metadata": {
        "colab": {
          "base_uri": "https://localhost:8080/"
        },
        "id": "M4Q5o6Nf3VEO",
        "outputId": "7e394327-f9ff-475a-8d90-cec695df192e"
      },
      "source": [
        "print(metrics.classification_report(y_train,y_class_pred,digits=3))"
      ],
      "execution_count": 128,
      "outputs": [
        {
          "output_type": "stream",
          "text": [
            "              precision    recall  f1-score   support\n",
            "\n",
            "           0      0.980     0.815     0.890      2142\n",
            "           1      0.362     0.865     0.511       260\n",
            "\n",
            "    accuracy                          0.821      2402\n",
            "   macro avg      0.671     0.840     0.700      2402\n",
            "weighted avg      0.913     0.821     0.849      2402\n",
            "\n"
          ],
          "name": "stdout"
        }
      ]
    },
    {
      "cell_type": "code",
      "metadata": {
        "id": "HacfUkY_3jA-"
      },
      "source": [
        "y_class_pred=[]\r\n",
        "for i in range(0,len(y_prob_pred_test)):\r\n",
        "    if np.array(y_prob_pred_test)[i]>0.09:\r\n",
        "        a=1\r\n",
        "    else:\r\n",
        "        a=0\r\n",
        "    y_class_pred.append(a)"
      ],
      "execution_count": 129,
      "outputs": []
    },
    {
      "cell_type": "code",
      "metadata": {
        "colab": {
          "base_uri": "https://localhost:8080/",
          "height": 278
        },
        "id": "N5voZKPK3mDO",
        "outputId": "1aaa0bc2-2b27-4971-d8c6-f081882be501"
      },
      "source": [
        "sns.heatmap((metrics.confusion_matrix(y_test,y_class_pred)),annot=True,fmt='.5g'\r\n",
        "            ,cmap='Blues');\r\n",
        "plt.xlabel('Predicted');\r\n",
        "plt.ylabel('Actuals',rotation=0);"
      ],
      "execution_count": 130,
      "outputs": [
        {
          "output_type": "display_data",
          "data": {
            "image/png": "[encoded data removed]",
            "text/plain": [
              "<Figure size 432x288 with 2 Axes>"
            ]
          },
          "metadata": {
            "tags": [],
            "needs_background": "light"
          }
        }
      ]
    },
    {
      "cell_type": "code",
      "metadata": {
        "colab": {
          "base_uri": "https://localhost:8080/"
        },
        "id": "CwdUCkES3qPu",
        "outputId": "6964e951-df47-4f6a-c07b-00316c6e92df"
      },
      "source": [
        "print(metrics.classification_report(y_test,y_class_pred,digits=3))"
      ],
      "execution_count": 131,
      "outputs": [
        {
          "output_type": "stream",
          "text": [
            "              precision    recall  f1-score   support\n",
            "\n",
            "           0      0.977     0.814     0.888      1056\n",
            "           1      0.355     0.844     0.500       128\n",
            "\n",
            "    accuracy                          0.818      1184\n",
            "   macro avg      0.666     0.829     0.694      1184\n",
            "weighted avg      0.910     0.818     0.846      1184\n",
            "\n"
          ],
          "name": "stdout"
        }
      ]
    },
    {
      "cell_type": "code",
      "metadata": {
        "id": "jdUt5ZKC3s4O"
      },
      "source": [
        ""
      ],
      "execution_count": null,
      "outputs": []
    }
  ]
}