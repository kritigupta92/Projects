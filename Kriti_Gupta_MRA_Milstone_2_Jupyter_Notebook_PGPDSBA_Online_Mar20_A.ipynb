{
  "nbformat": 4,
  "nbformat_minor": 0,
  "metadata": {
    "colab": {
      "name": "Kriti Gupta_MRA - Milstone 2 - Jupyter Notebook_PGPDSBA Online Mar20_A.ipynb",
      "provenance": [],
      "collapsed_sections": []
    },
    "kernelspec": {
      "name": "python3",
      "display_name": "Python 3"
    }
  },
  "cells": [
    {
      "cell_type": "code",
      "metadata": {
        "id": "xrLQywYZu_A7"
      },
      "source": [
        "import pandas as pd\r\n",
        "import numpy as np\r\n",
        "import seaborn as sns\r\n",
        "import matplotlib.pyplot as plt\r\n",
        "from mlxtend.preprocessing import TransactionEncoder\r\n",
        "from mlxtend.frequent_patterns import apriori\r\n",
        "from mlxtend.frequent_patterns import association_rules"
      ],
      "execution_count": 87,
      "outputs": []
    },
    {
      "cell_type": "code",
      "metadata": {
        "id": "DefRFqQ7vE-Q"
      },
      "source": [
        "df=pd.read_excel('/Cafe_Data_MRA.xlsx')"
      ],
      "execution_count": 88,
      "outputs": []
    },
    {
      "cell_type": "code",
      "metadata": {
        "colab": {
          "base_uri": "https://localhost:8080/",
          "height": 204
        },
        "id": "k583PozivLbE",
        "outputId": "a119e780-fdc2-49e8-8f9d-c3dfbd08e01d"
      },
      "source": [
        "df.head()"
      ],
      "execution_count": 89,
      "outputs": [
        {
          "output_type": "execute_result",
          "data": {
            "text/html": [
              "<div>\n",
              "<style scoped>\n",
              "    .dataframe tbody tr th:only-of-type {\n",
              "        vertical-align: middle;\n",
              "    }\n",
              "\n",
              "    .dataframe tbody tr th {\n",
              "        vertical-align: top;\n",
              "    }\n",
              "\n",
              "    .dataframe thead th {\n",
              "        text-align: right;\n",
              "    }\n",
              "</style>\n",
              "<table border=\"1\" class=\"dataframe\">\n",
              "  <thead>\n",
              "    <tr style=\"text-align: right;\">\n",
              "      <th></th>\n",
              "      <th>Date</th>\n",
              "      <th>Bill Number</th>\n",
              "      <th>Item Desc</th>\n",
              "      <th>Time</th>\n",
              "      <th>Quantity</th>\n",
              "      <th>Rate</th>\n",
              "      <th>Tax</th>\n",
              "      <th>Discount</th>\n",
              "      <th>Total</th>\n",
              "      <th>Category</th>\n",
              "    </tr>\n",
              "  </thead>\n",
              "  <tbody>\n",
              "    <tr>\n",
              "      <th>0</th>\n",
              "      <td>2010-04-01</td>\n",
              "      <td>G0470115</td>\n",
              "      <td>QUA  MINERAL WATER(1000ML)</td>\n",
              "      <td>13:15:11</td>\n",
              "      <td>1</td>\n",
              "      <td>50.0</td>\n",
              "      <td>11.88</td>\n",
              "      <td>0.0</td>\n",
              "      <td>61.88</td>\n",
              "      <td>BEVERAGE</td>\n",
              "    </tr>\n",
              "    <tr>\n",
              "      <th>1</th>\n",
              "      <td>2010-04-01</td>\n",
              "      <td>G0470115</td>\n",
              "      <td>MONSOON MALABAR (AULAIT)</td>\n",
              "      <td>13:15:11</td>\n",
              "      <td>1</td>\n",
              "      <td>100.0</td>\n",
              "      <td>23.75</td>\n",
              "      <td>0.0</td>\n",
              "      <td>123.75</td>\n",
              "      <td>BEVERAGE</td>\n",
              "    </tr>\n",
              "    <tr>\n",
              "      <th>2</th>\n",
              "      <td>2010-04-01</td>\n",
              "      <td>G0470116</td>\n",
              "      <td>MASALA CHAI CUTTING</td>\n",
              "      <td>13:17:35</td>\n",
              "      <td>1</td>\n",
              "      <td>40.0</td>\n",
              "      <td>9.50</td>\n",
              "      <td>0.0</td>\n",
              "      <td>49.50</td>\n",
              "      <td>BEVERAGE</td>\n",
              "    </tr>\n",
              "    <tr>\n",
              "      <th>3</th>\n",
              "      <td>2010-04-01</td>\n",
              "      <td>G0470117</td>\n",
              "      <td>QUA  MINERAL WATER(1000ML)</td>\n",
              "      <td>13:19:55</td>\n",
              "      <td>1</td>\n",
              "      <td>50.0</td>\n",
              "      <td>11.88</td>\n",
              "      <td>0.0</td>\n",
              "      <td>61.88</td>\n",
              "      <td>BEVERAGE</td>\n",
              "    </tr>\n",
              "    <tr>\n",
              "      <th>4</th>\n",
              "      <td>2010-04-01</td>\n",
              "      <td>G0470283</td>\n",
              "      <td>MOROCCAN MINT TEA</td>\n",
              "      <td>01:20:18</td>\n",
              "      <td>1</td>\n",
              "      <td>45.0</td>\n",
              "      <td>10.69</td>\n",
              "      <td>0.0</td>\n",
              "      <td>55.69</td>\n",
              "      <td>BEVERAGE</td>\n",
              "    </tr>\n",
              "  </tbody>\n",
              "</table>\n",
              "</div>"
            ],
            "text/plain": [
              "        Date Bill Number   ...   Total  Category\n",
              "0 2010-04-01     G0470115  ...   61.88  BEVERAGE\n",
              "1 2010-04-01     G0470115  ...  123.75  BEVERAGE\n",
              "2 2010-04-01     G0470116  ...   49.50  BEVERAGE\n",
              "3 2010-04-01     G0470117  ...   61.88  BEVERAGE\n",
              "4 2010-04-01     G0470283  ...   55.69  BEVERAGE\n",
              "\n",
              "[5 rows x 10 columns]"
            ]
          },
          "metadata": {
            "tags": []
          },
          "execution_count": 89
        }
      ]
    },
    {
      "cell_type": "code",
      "metadata": {
        "id": "zMrnWsu5xL5I"
      },
      "source": [
        "df.rename(columns= {\"Bill Number \" : \"Bill_Number\", \"Item Desc\": \"Item_Desc\"}, inplace=True)"
      ],
      "execution_count": 90,
      "outputs": []
    },
    {
      "cell_type": "code",
      "metadata": {
        "colab": {
          "base_uri": "https://localhost:8080/",
          "height": 204
        },
        "id": "mcZKcZUWzObr",
        "outputId": "361cce52-8f3f-42ff-acb9-85237a2e5f92"
      },
      "source": [
        "df.head()"
      ],
      "execution_count": 91,
      "outputs": [
        {
          "output_type": "execute_result",
          "data": {
            "text/html": [
              "<div>\n",
              "<style scoped>\n",
              "    .dataframe tbody tr th:only-of-type {\n",
              "        vertical-align: middle;\n",
              "    }\n",
              "\n",
              "    .dataframe tbody tr th {\n",
              "        vertical-align: top;\n",
              "    }\n",
              "\n",
              "    .dataframe thead th {\n",
              "        text-align: right;\n",
              "    }\n",
              "</style>\n",
              "<table border=\"1\" class=\"dataframe\">\n",
              "  <thead>\n",
              "    <tr style=\"text-align: right;\">\n",
              "      <th></th>\n",
              "      <th>Date</th>\n",
              "      <th>Bill_Number</th>\n",
              "      <th>Item_Desc</th>\n",
              "      <th>Time</th>\n",
              "      <th>Quantity</th>\n",
              "      <th>Rate</th>\n",
              "      <th>Tax</th>\n",
              "      <th>Discount</th>\n",
              "      <th>Total</th>\n",
              "      <th>Category</th>\n",
              "    </tr>\n",
              "  </thead>\n",
              "  <tbody>\n",
              "    <tr>\n",
              "      <th>0</th>\n",
              "      <td>2010-04-01</td>\n",
              "      <td>G0470115</td>\n",
              "      <td>QUA  MINERAL WATER(1000ML)</td>\n",
              "      <td>13:15:11</td>\n",
              "      <td>1</td>\n",
              "      <td>50.0</td>\n",
              "      <td>11.88</td>\n",
              "      <td>0.0</td>\n",
              "      <td>61.88</td>\n",
              "      <td>BEVERAGE</td>\n",
              "    </tr>\n",
              "    <tr>\n",
              "      <th>1</th>\n",
              "      <td>2010-04-01</td>\n",
              "      <td>G0470115</td>\n",
              "      <td>MONSOON MALABAR (AULAIT)</td>\n",
              "      <td>13:15:11</td>\n",
              "      <td>1</td>\n",
              "      <td>100.0</td>\n",
              "      <td>23.75</td>\n",
              "      <td>0.0</td>\n",
              "      <td>123.75</td>\n",
              "      <td>BEVERAGE</td>\n",
              "    </tr>\n",
              "    <tr>\n",
              "      <th>2</th>\n",
              "      <td>2010-04-01</td>\n",
              "      <td>G0470116</td>\n",
              "      <td>MASALA CHAI CUTTING</td>\n",
              "      <td>13:17:35</td>\n",
              "      <td>1</td>\n",
              "      <td>40.0</td>\n",
              "      <td>9.50</td>\n",
              "      <td>0.0</td>\n",
              "      <td>49.50</td>\n",
              "      <td>BEVERAGE</td>\n",
              "    </tr>\n",
              "    <tr>\n",
              "      <th>3</th>\n",
              "      <td>2010-04-01</td>\n",
              "      <td>G0470117</td>\n",
              "      <td>QUA  MINERAL WATER(1000ML)</td>\n",
              "      <td>13:19:55</td>\n",
              "      <td>1</td>\n",
              "      <td>50.0</td>\n",
              "      <td>11.88</td>\n",
              "      <td>0.0</td>\n",
              "      <td>61.88</td>\n",
              "      <td>BEVERAGE</td>\n",
              "    </tr>\n",
              "    <tr>\n",
              "      <th>4</th>\n",
              "      <td>2010-04-01</td>\n",
              "      <td>G0470283</td>\n",
              "      <td>MOROCCAN MINT TEA</td>\n",
              "      <td>01:20:18</td>\n",
              "      <td>1</td>\n",
              "      <td>45.0</td>\n",
              "      <td>10.69</td>\n",
              "      <td>0.0</td>\n",
              "      <td>55.69</td>\n",
              "      <td>BEVERAGE</td>\n",
              "    </tr>\n",
              "  </tbody>\n",
              "</table>\n",
              "</div>"
            ],
            "text/plain": [
              "        Date Bill_Number  ...   Total  Category\n",
              "0 2010-04-01    G0470115  ...   61.88  BEVERAGE\n",
              "1 2010-04-01    G0470115  ...  123.75  BEVERAGE\n",
              "2 2010-04-01    G0470116  ...   49.50  BEVERAGE\n",
              "3 2010-04-01    G0470117  ...   61.88  BEVERAGE\n",
              "4 2010-04-01    G0470283  ...   55.69  BEVERAGE\n",
              "\n",
              "[5 rows x 10 columns]"
            ]
          },
          "metadata": {
            "tags": []
          },
          "execution_count": 91
        }
      ]
    },
    {
      "cell_type": "code",
      "metadata": {
        "colab": {
          "base_uri": "https://localhost:8080/",
          "height": 0
        },
        "id": "uQrhlp6ZvU7K",
        "outputId": "b0a8835d-6288-4f32-d832-31f68cb609ba"
      },
      "source": [
        "df.info()"
      ],
      "execution_count": 92,
      "outputs": [
        {
          "output_type": "stream",
          "text": [
            "<class 'pandas.core.frame.DataFrame'>\n",
            "RangeIndex: 145830 entries, 0 to 145829\n",
            "Data columns (total 10 columns):\n",
            " #   Column       Non-Null Count   Dtype         \n",
            "---  ------       --------------   -----         \n",
            " 0   Date         145830 non-null  datetime64[ns]\n",
            " 1   Bill_Number  145830 non-null  object        \n",
            " 2   Item_Desc    145830 non-null  object        \n",
            " 3   Time         145830 non-null  object        \n",
            " 4   Quantity     145830 non-null  int64         \n",
            " 5   Rate         145830 non-null  float64       \n",
            " 6   Tax          145830 non-null  float64       \n",
            " 7   Discount     145830 non-null  float64       \n",
            " 8   Total        145830 non-null  float64       \n",
            " 9   Category     145830 non-null  object        \n",
            "dtypes: datetime64[ns](1), float64(4), int64(1), object(4)\n",
            "memory usage: 11.1+ MB\n"
          ],
          "name": "stdout"
        }
      ]
    },
    {
      "cell_type": "code",
      "metadata": {
        "colab": {
          "base_uri": "https://localhost:8080/",
          "height": 0
        },
        "id": "fdQAuQysvf8X",
        "outputId": "f92b7986-8fdb-4b8d-9bb7-b147c406c006"
      },
      "source": [
        "df.shape"
      ],
      "execution_count": 93,
      "outputs": [
        {
          "output_type": "execute_result",
          "data": {
            "text/plain": [
              "(145830, 10)"
            ]
          },
          "metadata": {
            "tags": []
          },
          "execution_count": 93
        }
      ]
    },
    {
      "cell_type": "code",
      "metadata": {
        "colab": {
          "base_uri": "https://localhost:8080/",
          "height": 0
        },
        "id": "MndYfUN-v4fM",
        "outputId": "c30f17ca-3293-42af-d477-c78ad5b7024d"
      },
      "source": [
        "cat=[]\r\n",
        "num=[]\r\n",
        "for i in df.columns:\r\n",
        "    if df[i].dtype==\"object\":\r\n",
        "        cat.append(i)\r\n",
        "    else:\r\n",
        "        num.append(i)\r\n",
        "print(cat) \r\n",
        "print(num)"
      ],
      "execution_count": 94,
      "outputs": [
        {
          "output_type": "stream",
          "text": [
            "['Bill_Number', 'Item_Desc', 'Time', 'Category']\n",
            "['Date', 'Quantity', 'Rate', 'Tax', 'Discount', 'Total']\n"
          ],
          "name": "stdout"
        }
      ]
    },
    {
      "cell_type": "code",
      "metadata": {
        "colab": {
          "base_uri": "https://localhost:8080/",
          "height": 173
        },
        "id": "CEv_2797v-0F",
        "outputId": "5e8e5141-d73d-4901-dc6d-0ea5ce461cc2"
      },
      "source": [
        "df[cat].describe().T"
      ],
      "execution_count": 95,
      "outputs": [
        {
          "output_type": "execute_result",
          "data": {
            "text/html": [
              "<div>\n",
              "<style scoped>\n",
              "    .dataframe tbody tr th:only-of-type {\n",
              "        vertical-align: middle;\n",
              "    }\n",
              "\n",
              "    .dataframe tbody tr th {\n",
              "        vertical-align: top;\n",
              "    }\n",
              "\n",
              "    .dataframe thead th {\n",
              "        text-align: right;\n",
              "    }\n",
              "</style>\n",
              "<table border=\"1\" class=\"dataframe\">\n",
              "  <thead>\n",
              "    <tr style=\"text-align: right;\">\n",
              "      <th></th>\n",
              "      <th>count</th>\n",
              "      <th>unique</th>\n",
              "      <th>top</th>\n",
              "      <th>freq</th>\n",
              "    </tr>\n",
              "  </thead>\n",
              "  <tbody>\n",
              "    <tr>\n",
              "      <th>Bill_Number</th>\n",
              "      <td>145830</td>\n",
              "      <td>69982</td>\n",
              "      <td>G0490530</td>\n",
              "      <td>23</td>\n",
              "    </tr>\n",
              "    <tr>\n",
              "      <th>Item_Desc</th>\n",
              "      <td>145830</td>\n",
              "      <td>580</td>\n",
              "      <td>NIRVANA HOOKAH SINGLE</td>\n",
              "      <td>8553</td>\n",
              "    </tr>\n",
              "    <tr>\n",
              "      <th>Time</th>\n",
              "      <td>145830</td>\n",
              "      <td>36200</td>\n",
              "      <td>22:25:36</td>\n",
              "      <td>33</td>\n",
              "    </tr>\n",
              "    <tr>\n",
              "      <th>Category</th>\n",
              "      <td>145830</td>\n",
              "      <td>9</td>\n",
              "      <td>FOOD</td>\n",
              "      <td>57023</td>\n",
              "    </tr>\n",
              "  </tbody>\n",
              "</table>\n",
              "</div>"
            ],
            "text/plain": [
              "              count unique                             top   freq\n",
              "Bill_Number  145830  69982                        G0490530     23\n",
              "Item_Desc    145830    580  NIRVANA HOOKAH SINGLE            8553\n",
              "Time         145830  36200                        22:25:36     33\n",
              "Category     145830      9                            FOOD  57023"
            ]
          },
          "metadata": {
            "tags": []
          },
          "execution_count": 95
        }
      ]
    },
    {
      "cell_type": "code",
      "metadata": {
        "colab": {
          "base_uri": "https://localhost:8080/",
          "height": 204
        },
        "id": "XwRwvSGbwDqB",
        "outputId": "baa86deb-c6d3-4852-fcc7-d25b42280751"
      },
      "source": [
        "df[num].describe().T"
      ],
      "execution_count": 96,
      "outputs": [
        {
          "output_type": "execute_result",
          "data": {
            "text/html": [
              "<div>\n",
              "<style scoped>\n",
              "    .dataframe tbody tr th:only-of-type {\n",
              "        vertical-align: middle;\n",
              "    }\n",
              "\n",
              "    .dataframe tbody tr th {\n",
              "        vertical-align: top;\n",
              "    }\n",
              "\n",
              "    .dataframe thead th {\n",
              "        text-align: right;\n",
              "    }\n",
              "</style>\n",
              "<table border=\"1\" class=\"dataframe\">\n",
              "  <thead>\n",
              "    <tr style=\"text-align: right;\">\n",
              "      <th></th>\n",
              "      <th>count</th>\n",
              "      <th>mean</th>\n",
              "      <th>std</th>\n",
              "      <th>min</th>\n",
              "      <th>25%</th>\n",
              "      <th>50%</th>\n",
              "      <th>75%</th>\n",
              "      <th>max</th>\n",
              "    </tr>\n",
              "  </thead>\n",
              "  <tbody>\n",
              "    <tr>\n",
              "      <th>Quantity</th>\n",
              "      <td>145830.0</td>\n",
              "      <td>1.121299</td>\n",
              "      <td>0.477237</td>\n",
              "      <td>1.00</td>\n",
              "      <td>1.00</td>\n",
              "      <td>1.00</td>\n",
              "      <td>1.0</td>\n",
              "      <td>30.00</td>\n",
              "    </tr>\n",
              "    <tr>\n",
              "      <th>Rate</th>\n",
              "      <td>145830.0</td>\n",
              "      <td>161.782259</td>\n",
              "      <td>102.244631</td>\n",
              "      <td>0.01</td>\n",
              "      <td>95.00</td>\n",
              "      <td>125.00</td>\n",
              "      <td>225.0</td>\n",
              "      <td>2100.00</td>\n",
              "    </tr>\n",
              "    <tr>\n",
              "      <th>Tax</th>\n",
              "      <td>145830.0</td>\n",
              "      <td>48.929061</td>\n",
              "      <td>40.272851</td>\n",
              "      <td>0.00</td>\n",
              "      <td>22.56</td>\n",
              "      <td>32.06</td>\n",
              "      <td>72.0</td>\n",
              "      <td>2731.25</td>\n",
              "    </tr>\n",
              "    <tr>\n",
              "      <th>Discount</th>\n",
              "      <td>145830.0</td>\n",
              "      <td>0.095079</td>\n",
              "      <td>3.720735</td>\n",
              "      <td>0.00</td>\n",
              "      <td>0.00</td>\n",
              "      <td>0.00</td>\n",
              "      <td>0.0</td>\n",
              "      <td>825.00</td>\n",
              "    </tr>\n",
              "    <tr>\n",
              "      <th>Total</th>\n",
              "      <td>145830.0</td>\n",
              "      <td>224.959852</td>\n",
              "      <td>164.960776</td>\n",
              "      <td>0.01</td>\n",
              "      <td>117.56</td>\n",
              "      <td>167.06</td>\n",
              "      <td>315.0</td>\n",
              "      <td>14231.25</td>\n",
              "    </tr>\n",
              "  </tbody>\n",
              "</table>\n",
              "</div>"
            ],
            "text/plain": [
              "             count        mean         std  ...     50%    75%       max\n",
              "Quantity  145830.0    1.121299    0.477237  ...    1.00    1.0     30.00\n",
              "Rate      145830.0  161.782259  102.244631  ...  125.00  225.0   2100.00\n",
              "Tax       145830.0   48.929061   40.272851  ...   32.06   72.0   2731.25\n",
              "Discount  145830.0    0.095079    3.720735  ...    0.00    0.0    825.00\n",
              "Total     145830.0  224.959852  164.960776  ...  167.06  315.0  14231.25\n",
              "\n",
              "[5 rows x 8 columns]"
            ]
          },
          "metadata": {
            "tags": []
          },
          "execution_count": 96
        }
      ]
    },
    {
      "cell_type": "code",
      "metadata": {
        "colab": {
          "base_uri": "https://localhost:8080/",
          "height": 0
        },
        "id": "9dwYfPWPwFbz",
        "outputId": "172af5f4-ac2c-45f5-d5a7-2faa6878f60a"
      },
      "source": [
        "for column in df.columns:\r\n",
        "    if df[column].dtype == 'object':\r\n",
        "        print(column.upper(),': ',df[column].nunique())\r\n",
        "        print(df[column].value_counts().sort_values())\r\n",
        "        print('\\n')"
      ],
      "execution_count": 97,
      "outputs": [
        {
          "output_type": "stream",
          "text": [
            "BILL_NUMBER :  69982\n",
            "G0502202     1\n",
            "G0503576     1\n",
            "G0479608     1\n",
            "G0508855     1\n",
            "N0033109     1\n",
            "            ..\n",
            "G0495644    18\n",
            "G0526679    19\n",
            "G0489943    21\n",
            "G0518006    23\n",
            "G0490530    23\n",
            "Name: Bill_Number, Length: 69982, dtype: int64\n",
            "\n",
            "\n",
            "ITEM_DESC :  580\n",
            "ROCK THE BOAT TEA LIGHT HOLDER             1\n",
            "KITSCH PINK                                1\n",
            "CUTTING GLASS                              1\n",
            "HOEGAARDEN LTR MUGS (2+1)                  1\n",
            "GRAPPO SHEESHA                             1\n",
            "                                        ... \n",
            "SAMBUCA                                 4425\n",
            "GREAT LAKES SHAKE                       4895\n",
            "CAPPUCCINO                              5495\n",
            "MINT FLAVOUR SINGLE                     5817\n",
            "NIRVANA HOOKAH SINGLE                   8553\n",
            "Name: Item_Desc, Length: 580, dtype: int64\n",
            "\n",
            "\n",
            "TIME :  36200\n",
            "23:42:15     1\n",
            "00:46:06     1\n",
            "13:47:39     1\n",
            "01:04:58     1\n",
            "23:28:41     1\n",
            "            ..\n",
            "21:07:44    25\n",
            "23:02:58    26\n",
            "22:58:37    29\n",
            "23:35:33    30\n",
            "22:25:36    33\n",
            "Name: Time, Length: 36200, dtype: int64\n",
            "\n",
            "\n",
            "CATEGORY :  9\n",
            "LIQUOR                  1\n",
            "LIQUOR & TOBACCO       54\n",
            "MERCHANDISE           487\n",
            "WINES                 809\n",
            "MISC                 1187\n",
            "LIQUOR               6200\n",
            "TOBACCO             36496\n",
            "BEVERAGE            43573\n",
            "FOOD                57023\n",
            "Name: Category, dtype: int64\n",
            "\n",
            "\n"
          ],
          "name": "stdout"
        }
      ]
    },
    {
      "cell_type": "code",
      "metadata": {
        "id": "e1ymRkwJwOA7"
      },
      "source": [
        "df.replace(\"LIQUOR \", \"LIQUOR\", inplace = True) "
      ],
      "execution_count": 98,
      "outputs": []
    },
    {
      "cell_type": "code",
      "metadata": {
        "colab": {
          "base_uri": "https://localhost:8080/",
          "height": 0
        },
        "id": "OcEVYmTV3DYy",
        "outputId": "e246614f-4ec1-415f-cbaf-ae171cef6aa5"
      },
      "source": [
        "df['Category'].value_counts()"
      ],
      "execution_count": 99,
      "outputs": [
        {
          "output_type": "execute_result",
          "data": {
            "text/plain": [
              "FOOD                57023\n",
              "BEVERAGE            43573\n",
              "TOBACCO             36496\n",
              "LIQUOR               6201\n",
              "MISC                 1187\n",
              "WINES                 809\n",
              "MERCHANDISE           487\n",
              "LIQUOR & TOBACCO       54\n",
              "Name: Category, dtype: int64"
            ]
          },
          "metadata": {
            "tags": []
          },
          "execution_count": 99
        }
      ]
    },
    {
      "cell_type": "code",
      "metadata": {
        "colab": {
          "base_uri": "https://localhost:8080/",
          "height": 0
        },
        "id": "5wKY5v-n0AxV",
        "outputId": "3240b823-b28b-4a37-fe95-02b11c8e032b"
      },
      "source": [
        "for column in df.columns:\r\n",
        "    if df[column].dtype == 'object':\r\n",
        "        print(column.upper(),': ',df[column].nunique())\r\n",
        "        print(df[column].value_counts().sort_values())\r\n",
        "        print('\\n')"
      ],
      "execution_count": 100,
      "outputs": [
        {
          "output_type": "stream",
          "text": [
            "BILL_NUMBER :  69982\n",
            "G0502202     1\n",
            "G0503576     1\n",
            "G0479608     1\n",
            "G0508855     1\n",
            "N0033109     1\n",
            "            ..\n",
            "G0495644    18\n",
            "G0526679    19\n",
            "G0489943    21\n",
            "G0518006    23\n",
            "G0490530    23\n",
            "Name: Bill_Number, Length: 69982, dtype: int64\n",
            "\n",
            "\n",
            "ITEM_DESC :  580\n",
            "ROCK THE BOAT TEA LIGHT HOLDER             1\n",
            "KITSCH PINK                                1\n",
            "CUTTING GLASS                              1\n",
            "HOEGAARDEN LTR MUGS (2+1)                  1\n",
            "GRAPPO SHEESHA                             1\n",
            "                                        ... \n",
            "SAMBUCA                                 4425\n",
            "GREAT LAKES SHAKE                       4895\n",
            "CAPPUCCINO                              5495\n",
            "MINT FLAVOUR SINGLE                     5817\n",
            "NIRVANA HOOKAH SINGLE                   8553\n",
            "Name: Item_Desc, Length: 580, dtype: int64\n",
            "\n",
            "\n",
            "TIME :  36200\n",
            "23:42:15     1\n",
            "00:46:06     1\n",
            "13:47:39     1\n",
            "01:04:58     1\n",
            "23:28:41     1\n",
            "            ..\n",
            "21:07:44    25\n",
            "23:02:58    26\n",
            "22:58:37    29\n",
            "23:35:33    30\n",
            "22:25:36    33\n",
            "Name: Time, Length: 36200, dtype: int64\n",
            "\n",
            "\n",
            "CATEGORY :  8\n",
            "LIQUOR & TOBACCO       54\n",
            "MERCHANDISE           487\n",
            "WINES                 809\n",
            "MISC                 1187\n",
            "LIQUOR               6201\n",
            "TOBACCO             36496\n",
            "BEVERAGE            43573\n",
            "FOOD                57023\n",
            "Name: Category, dtype: int64\n",
            "\n",
            "\n"
          ],
          "name": "stdout"
        }
      ]
    },
    {
      "cell_type": "code",
      "metadata": {
        "colab": {
          "base_uri": "https://localhost:8080/",
          "height": 0
        },
        "id": "u-16QrswwWYS",
        "outputId": "2994e32d-4f15-4059-ba5f-3aad127d4aef"
      },
      "source": [
        "df.duplicated().sum()"
      ],
      "execution_count": 101,
      "outputs": [
        {
          "output_type": "execute_result",
          "data": {
            "text/plain": [
              "680"
            ]
          },
          "metadata": {
            "tags": []
          },
          "execution_count": 101
        }
      ]
    },
    {
      "cell_type": "code",
      "metadata": {
        "colab": {
          "base_uri": "https://localhost:8080/",
          "height": 296
        },
        "id": "2A3bZO_XXXlw",
        "outputId": "28354474-4724-44b5-9183-4f7d42f28cb0"
      },
      "source": [
        "df.groupby(['Category'])['Discount'].max().plot()"
      ],
      "execution_count": 102,
      "outputs": [
        {
          "output_type": "execute_result",
          "data": {
            "text/plain": [
              "<matplotlib.axes._subplots.AxesSubplot at 0x7f6cadccb048>"
            ]
          },
          "metadata": {
            "tags": []
          },
          "execution_count": 102
        },
        {
          "output_type": "display_data",
          "data": {
            "image/png": "[encoded data removed]",
            "text/plain": [
              "<Figure size 432x288 with 1 Axes>"
            ]
          },
          "metadata": {
            "tags": [],
            "needs_background": "light"
          }
        }
      ]
    },
    {
      "cell_type": "code",
      "metadata": {
        "id": "aBqy2PE0x1SS"
      },
      "source": [
        "df_1=df.groupby(['Bill_Number','Category'])['Quantity'].sum().unstack().reset_index().fillna(0).set_index('Bill_Number')"
      ],
      "execution_count": 103,
      "outputs": []
    },
    {
      "cell_type": "code",
      "metadata": {
        "colab": {
          "base_uri": "https://localhost:8080/",
          "height": 235
        },
        "id": "K2nAGlIO3mLI",
        "outputId": "28372117-2320-4536-e687-85a57eba9c41"
      },
      "source": [
        "df_1.head()"
      ],
      "execution_count": 104,
      "outputs": [
        {
          "output_type": "execute_result",
          "data": {
            "text/html": [
              "<div>\n",
              "<style scoped>\n",
              "    .dataframe tbody tr th:only-of-type {\n",
              "        vertical-align: middle;\n",
              "    }\n",
              "\n",
              "    .dataframe tbody tr th {\n",
              "        vertical-align: top;\n",
              "    }\n",
              "\n",
              "    .dataframe thead th {\n",
              "        text-align: right;\n",
              "    }\n",
              "</style>\n",
              "<table border=\"1\" class=\"dataframe\">\n",
              "  <thead>\n",
              "    <tr style=\"text-align: right;\">\n",
              "      <th>Category</th>\n",
              "      <th>BEVERAGE</th>\n",
              "      <th>FOOD</th>\n",
              "      <th>LIQUOR</th>\n",
              "      <th>LIQUOR &amp; TOBACCO</th>\n",
              "      <th>MERCHANDISE</th>\n",
              "      <th>MISC</th>\n",
              "      <th>TOBACCO</th>\n",
              "      <th>WINES</th>\n",
              "    </tr>\n",
              "    <tr>\n",
              "      <th>Bill_Number</th>\n",
              "      <th></th>\n",
              "      <th></th>\n",
              "      <th></th>\n",
              "      <th></th>\n",
              "      <th></th>\n",
              "      <th></th>\n",
              "      <th></th>\n",
              "      <th></th>\n",
              "    </tr>\n",
              "  </thead>\n",
              "  <tbody>\n",
              "    <tr>\n",
              "      <th>G0470109</th>\n",
              "      <td>1.0</td>\n",
              "      <td>0.0</td>\n",
              "      <td>0.0</td>\n",
              "      <td>0.0</td>\n",
              "      <td>0.0</td>\n",
              "      <td>0.0</td>\n",
              "      <td>0.0</td>\n",
              "      <td>0.0</td>\n",
              "    </tr>\n",
              "    <tr>\n",
              "      <th>G0470110</th>\n",
              "      <td>0.0</td>\n",
              "      <td>0.0</td>\n",
              "      <td>0.0</td>\n",
              "      <td>0.0</td>\n",
              "      <td>0.0</td>\n",
              "      <td>0.0</td>\n",
              "      <td>1.0</td>\n",
              "      <td>0.0</td>\n",
              "    </tr>\n",
              "    <tr>\n",
              "      <th>G0470111</th>\n",
              "      <td>2.0</td>\n",
              "      <td>2.0</td>\n",
              "      <td>0.0</td>\n",
              "      <td>0.0</td>\n",
              "      <td>0.0</td>\n",
              "      <td>0.0</td>\n",
              "      <td>0.0</td>\n",
              "      <td>0.0</td>\n",
              "    </tr>\n",
              "    <tr>\n",
              "      <th>G0470112</th>\n",
              "      <td>1.0</td>\n",
              "      <td>0.0</td>\n",
              "      <td>0.0</td>\n",
              "      <td>0.0</td>\n",
              "      <td>0.0</td>\n",
              "      <td>0.0</td>\n",
              "      <td>1.0</td>\n",
              "      <td>0.0</td>\n",
              "    </tr>\n",
              "    <tr>\n",
              "      <th>G0470113</th>\n",
              "      <td>0.0</td>\n",
              "      <td>0.0</td>\n",
              "      <td>0.0</td>\n",
              "      <td>0.0</td>\n",
              "      <td>0.0</td>\n",
              "      <td>0.0</td>\n",
              "      <td>1.0</td>\n",
              "      <td>0.0</td>\n",
              "    </tr>\n",
              "  </tbody>\n",
              "</table>\n",
              "</div>"
            ],
            "text/plain": [
              "Category     BEVERAGE  FOOD  LIQUOR  ...  MISC  TOBACCO  WINES\n",
              "Bill_Number                          ...                      \n",
              "G0470109          1.0   0.0     0.0  ...   0.0      0.0    0.0\n",
              "G0470110          0.0   0.0     0.0  ...   0.0      1.0    0.0\n",
              "G0470111          2.0   2.0     0.0  ...   0.0      0.0    0.0\n",
              "G0470112          1.0   0.0     0.0  ...   0.0      1.0    0.0\n",
              "G0470113          0.0   0.0     0.0  ...   0.0      1.0    0.0\n",
              "\n",
              "[5 rows x 8 columns]"
            ]
          },
          "metadata": {
            "tags": []
          },
          "execution_count": 104
        }
      ]
    },
    {
      "cell_type": "code",
      "metadata": {
        "id": "t-4oj1RP3oc1"
      },
      "source": [
        "def encode(x): \r\n",
        "    if(x<= 0): \r\n",
        "        return 0\r\n",
        "    if(x>= 1): \r\n",
        "        return 1"
      ],
      "execution_count": 105,
      "outputs": []
    },
    {
      "cell_type": "code",
      "metadata": {
        "id": "7fdjWaE531EU"
      },
      "source": [
        "df_2=df_1.applymap(encode) #mapping the above user defined function"
      ],
      "execution_count": 106,
      "outputs": []
    },
    {
      "cell_type": "code",
      "metadata": {
        "colab": {
          "base_uri": "https://localhost:8080/",
          "height": 979
        },
        "id": "SLh__I7U33eV",
        "outputId": "22088491-20d7-4402-8821-2542df02417b"
      },
      "source": [
        "itemsets = apriori(df_2, min_support = 0.0001, use_colnames = True)\r\n",
        "itemsets.sort_values('support',ascending=False,inplace=True)\r\n",
        "itemsets"
      ],
      "execution_count": 107,
      "outputs": [
        {
          "output_type": "execute_result",
          "data": {
            "text/html": [
              "<div>\n",
              "<style scoped>\n",
              "    .dataframe tbody tr th:only-of-type {\n",
              "        vertical-align: middle;\n",
              "    }\n",
              "\n",
              "    .dataframe tbody tr th {\n",
              "        vertical-align: top;\n",
              "    }\n",
              "\n",
              "    .dataframe thead th {\n",
              "        text-align: right;\n",
              "    }\n",
              "</style>\n",
              "<table border=\"1\" class=\"dataframe\">\n",
              "  <thead>\n",
              "    <tr style=\"text-align: right;\">\n",
              "      <th></th>\n",
              "      <th>support</th>\n",
              "      <th>itemsets</th>\n",
              "    </tr>\n",
              "  </thead>\n",
              "  <tbody>\n",
              "    <tr>\n",
              "      <th>6</th>\n",
              "      <td>0.481695</td>\n",
              "      <td>(TOBACCO)</td>\n",
              "    </tr>\n",
              "    <tr>\n",
              "      <th>1</th>\n",
              "      <td>0.463291</td>\n",
              "      <td>(FOOD)</td>\n",
              "    </tr>\n",
              "    <tr>\n",
              "      <th>0</th>\n",
              "      <td>0.438927</td>\n",
              "      <td>(BEVERAGE)</td>\n",
              "    </tr>\n",
              "    <tr>\n",
              "      <th>8</th>\n",
              "      <td>0.225401</td>\n",
              "      <td>(BEVERAGE, FOOD)</td>\n",
              "    </tr>\n",
              "    <tr>\n",
              "      <th>16</th>\n",
              "      <td>0.167557</td>\n",
              "      <td>(FOOD, TOBACCO)</td>\n",
              "    </tr>\n",
              "    <tr>\n",
              "      <th>12</th>\n",
              "      <td>0.154797</td>\n",
              "      <td>(BEVERAGE, TOBACCO)</td>\n",
              "    </tr>\n",
              "    <tr>\n",
              "      <th>2</th>\n",
              "      <td>0.080521</td>\n",
              "      <td>(LIQUOR)</td>\n",
              "    </tr>\n",
              "    <tr>\n",
              "      <th>24</th>\n",
              "      <td>0.069318</td>\n",
              "      <td>(BEVERAGE, FOOD, TOBACCO)</td>\n",
              "    </tr>\n",
              "    <tr>\n",
              "      <th>5</th>\n",
              "      <td>0.015818</td>\n",
              "      <td>(MISC)</td>\n",
              "    </tr>\n",
              "    <tr>\n",
              "      <th>15</th>\n",
              "      <td>0.011846</td>\n",
              "      <td>(FOOD, MISC)</td>\n",
              "    </tr>\n",
              "    <tr>\n",
              "      <th>7</th>\n",
              "      <td>0.010646</td>\n",
              "      <td>(WINES)</td>\n",
              "    </tr>\n",
              "    <tr>\n",
              "      <th>11</th>\n",
              "      <td>0.007845</td>\n",
              "      <td>(BEVERAGE, MISC)</td>\n",
              "    </tr>\n",
              "    <tr>\n",
              "      <th>23</th>\n",
              "      <td>0.006416</td>\n",
              "      <td>(BEVERAGE, FOOD, MISC)</td>\n",
              "    </tr>\n",
              "    <tr>\n",
              "      <th>4</th>\n",
              "      <td>0.005287</td>\n",
              "      <td>(MERCHANDISE)</td>\n",
              "    </tr>\n",
              "    <tr>\n",
              "      <th>20</th>\n",
              "      <td>0.004301</td>\n",
              "      <td>(MISC, TOBACCO)</td>\n",
              "    </tr>\n",
              "    <tr>\n",
              "      <th>28</th>\n",
              "      <td>0.003701</td>\n",
              "      <td>(FOOD, MISC, TOBACCO)</td>\n",
              "    </tr>\n",
              "    <tr>\n",
              "      <th>18</th>\n",
              "      <td>0.003272</td>\n",
              "      <td>(WINES, LIQUOR)</td>\n",
              "    </tr>\n",
              "    <tr>\n",
              "      <th>26</th>\n",
              "      <td>0.002243</td>\n",
              "      <td>(BEVERAGE, MISC, TOBACCO)</td>\n",
              "    </tr>\n",
              "    <tr>\n",
              "      <th>29</th>\n",
              "      <td>0.001943</td>\n",
              "      <td>(BEVERAGE, FOOD, MISC, TOBACCO)</td>\n",
              "    </tr>\n",
              "    <tr>\n",
              "      <th>3</th>\n",
              "      <td>0.000657</td>\n",
              "      <td>(LIQUOR &amp; TOBACCO)</td>\n",
              "    </tr>\n",
              "    <tr>\n",
              "      <th>10</th>\n",
              "      <td>0.000543</td>\n",
              "      <td>(BEVERAGE, MERCHANDISE)</td>\n",
              "    </tr>\n",
              "    <tr>\n",
              "      <th>14</th>\n",
              "      <td>0.000443</td>\n",
              "      <td>(FOOD, MERCHANDISE)</td>\n",
              "    </tr>\n",
              "    <tr>\n",
              "      <th>9</th>\n",
              "      <td>0.000329</td>\n",
              "      <td>(LIQUOR &amp; TOBACCO, BEVERAGE)</td>\n",
              "    </tr>\n",
              "    <tr>\n",
              "      <th>13</th>\n",
              "      <td>0.000300</td>\n",
              "      <td>(LIQUOR &amp; TOBACCO, FOOD)</td>\n",
              "    </tr>\n",
              "    <tr>\n",
              "      <th>19</th>\n",
              "      <td>0.000271</td>\n",
              "      <td>(TOBACCO, MERCHANDISE)</td>\n",
              "    </tr>\n",
              "    <tr>\n",
              "      <th>22</th>\n",
              "      <td>0.000257</td>\n",
              "      <td>(BEVERAGE, FOOD, MERCHANDISE)</td>\n",
              "    </tr>\n",
              "    <tr>\n",
              "      <th>21</th>\n",
              "      <td>0.000243</td>\n",
              "      <td>(LIQUOR &amp; TOBACCO, BEVERAGE, FOOD)</td>\n",
              "    </tr>\n",
              "    <tr>\n",
              "      <th>17</th>\n",
              "      <td>0.000171</td>\n",
              "      <td>(MISC, LIQUOR)</td>\n",
              "    </tr>\n",
              "    <tr>\n",
              "      <th>25</th>\n",
              "      <td>0.000157</td>\n",
              "      <td>(TOBACCO, BEVERAGE, MERCHANDISE)</td>\n",
              "    </tr>\n",
              "    <tr>\n",
              "      <th>27</th>\n",
              "      <td>0.000143</td>\n",
              "      <td>(TOBACCO, FOOD, MERCHANDISE)</td>\n",
              "    </tr>\n",
              "  </tbody>\n",
              "</table>\n",
              "</div>"
            ],
            "text/plain": [
              "     support                            itemsets\n",
              "6   0.481695                           (TOBACCO)\n",
              "1   0.463291                              (FOOD)\n",
              "0   0.438927                          (BEVERAGE)\n",
              "8   0.225401                    (BEVERAGE, FOOD)\n",
              "16  0.167557                     (FOOD, TOBACCO)\n",
              "12  0.154797                 (BEVERAGE, TOBACCO)\n",
              "2   0.080521                            (LIQUOR)\n",
              "24  0.069318           (BEVERAGE, FOOD, TOBACCO)\n",
              "5   0.015818                              (MISC)\n",
              "15  0.011846                        (FOOD, MISC)\n",
              "7   0.010646                             (WINES)\n",
              "11  0.007845                    (BEVERAGE, MISC)\n",
              "23  0.006416              (BEVERAGE, FOOD, MISC)\n",
              "4   0.005287                       (MERCHANDISE)\n",
              "20  0.004301                     (MISC, TOBACCO)\n",
              "28  0.003701               (FOOD, MISC, TOBACCO)\n",
              "18  0.003272                     (WINES, LIQUOR)\n",
              "26  0.002243           (BEVERAGE, MISC, TOBACCO)\n",
              "29  0.001943     (BEVERAGE, FOOD, MISC, TOBACCO)\n",
              "3   0.000657                  (LIQUOR & TOBACCO)\n",
              "10  0.000543             (BEVERAGE, MERCHANDISE)\n",
              "14  0.000443                 (FOOD, MERCHANDISE)\n",
              "9   0.000329        (LIQUOR & TOBACCO, BEVERAGE)\n",
              "13  0.000300            (LIQUOR & TOBACCO, FOOD)\n",
              "19  0.000271              (TOBACCO, MERCHANDISE)\n",
              "22  0.000257       (BEVERAGE, FOOD, MERCHANDISE)\n",
              "21  0.000243  (LIQUOR & TOBACCO, BEVERAGE, FOOD)\n",
              "17  0.000171                      (MISC, LIQUOR)\n",
              "25  0.000157    (TOBACCO, BEVERAGE, MERCHANDISE)\n",
              "27  0.000143        (TOBACCO, FOOD, MERCHANDISE)"
            ]
          },
          "metadata": {
            "tags": []
          },
          "execution_count": 107
        }
      ]
    },
    {
      "cell_type": "code",
      "metadata": {
        "colab": {
          "base_uri": "https://localhost:8080/",
          "height": 751
        },
        "id": "cX5-kUj03_W4",
        "outputId": "100420ea-8320-4955-cf07-803a67aed87c"
      },
      "source": [
        "plt.figure(figsize=(12,7))\r\n",
        "sns.barplot(itemsets.sort_values('support',ascending=False).iloc[0:20,1],\r\n",
        "            itemsets.sort_values('support',ascending=False).iloc[0:20,0])\r\n",
        "plt.xticks(rotation=90)\r\n",
        "plt.show()"
      ],
      "execution_count": 108,
      "outputs": [
        {
          "output_type": "stream",
          "text": [
            "/usr/local/lib/python3.6/dist-packages/seaborn/_decorators.py:43: FutureWarning: Pass the following variables as keyword args: x, y. From version 0.12, the only valid positional argument will be `data`, and passing other arguments without an explicit keyword will result in an error or misinterpretation.\n",
            "  FutureWarning\n"
          ],
          "name": "stderr"
        },
        {
          "output_type": "display_data",
          "data": {
            "image/png": "[encoded data removed]",
            "text/plain": [
              "<Figure size 864x504 with 1 Axes>"
            ]
          },
          "metadata": {
            "tags": [],
            "needs_background": "light"
          }
        }
      ]
    },
    {
      "cell_type": "code",
      "metadata": {
        "id": "YnDxt5gC4S18"
      },
      "source": [
        "basket = association_rules(itemsets, metric =\"lift\") \r\n",
        "basket = basket.sort_values(['confidence', 'lift'], ascending =[False, False]) "
      ],
      "execution_count": 109,
      "outputs": []
    },
    {
      "cell_type": "code",
      "metadata": {
        "colab": {
          "base_uri": "https://localhost:8080/",
          "height": 669
        },
        "id": "Wx-1lhZk4cZf",
        "outputId": "6ef525a2-1382-410b-f98c-81ab2cbac039"
      },
      "source": [
        "basket.head(20)"
      ],
      "execution_count": 115,
      "outputs": [
        {
          "output_type": "execute_result",
          "data": {
            "text/html": [
              "<div>\n",
              "<style scoped>\n",
              "    .dataframe tbody tr th:only-of-type {\n",
              "        vertical-align: middle;\n",
              "    }\n",
              "\n",
              "    .dataframe tbody tr th {\n",
              "        vertical-align: top;\n",
              "    }\n",
              "\n",
              "    .dataframe thead th {\n",
              "        text-align: right;\n",
              "    }\n",
              "</style>\n",
              "<table border=\"1\" class=\"dataframe\">\n",
              "  <thead>\n",
              "    <tr style=\"text-align: right;\">\n",
              "      <th></th>\n",
              "      <th>antecedents</th>\n",
              "      <th>consequents</th>\n",
              "      <th>antecedent support</th>\n",
              "      <th>consequent support</th>\n",
              "      <th>support</th>\n",
              "      <th>confidence</th>\n",
              "      <th>lift</th>\n",
              "      <th>leverage</th>\n",
              "      <th>conviction</th>\n",
              "    </tr>\n",
              "  </thead>\n",
              "  <tbody>\n",
              "    <tr>\n",
              "      <th>27</th>\n",
              "      <td>(BEVERAGE, MISC, TOBACCO)</td>\n",
              "      <td>(FOOD)</td>\n",
              "      <td>0.002243</td>\n",
              "      <td>0.463291</td>\n",
              "      <td>0.001943</td>\n",
              "      <td>0.866242</td>\n",
              "      <td>1.869760</td>\n",
              "      <td>0.000904</td>\n",
              "      <td>4.012542</td>\n",
              "    </tr>\n",
              "    <tr>\n",
              "      <th>17</th>\n",
              "      <td>(MISC, TOBACCO)</td>\n",
              "      <td>(FOOD)</td>\n",
              "      <td>0.004301</td>\n",
              "      <td>0.463291</td>\n",
              "      <td>0.003701</td>\n",
              "      <td>0.860465</td>\n",
              "      <td>1.857290</td>\n",
              "      <td>0.001708</td>\n",
              "      <td>3.846418</td>\n",
              "    </tr>\n",
              "    <tr>\n",
              "      <th>11</th>\n",
              "      <td>(BEVERAGE, MISC)</td>\n",
              "      <td>(FOOD)</td>\n",
              "      <td>0.007845</td>\n",
              "      <td>0.463291</td>\n",
              "      <td>0.006416</td>\n",
              "      <td>0.817851</td>\n",
              "      <td>1.765308</td>\n",
              "      <td>0.002781</td>\n",
              "      <td>2.946535</td>\n",
              "    </tr>\n",
              "    <tr>\n",
              "      <th>47</th>\n",
              "      <td>(LIQUOR &amp; TOBACCO, FOOD)</td>\n",
              "      <td>(BEVERAGE)</td>\n",
              "      <td>0.000300</td>\n",
              "      <td>0.438927</td>\n",
              "      <td>0.000243</td>\n",
              "      <td>0.809524</td>\n",
              "      <td>1.844324</td>\n",
              "      <td>0.000111</td>\n",
              "      <td>2.945632</td>\n",
              "    </tr>\n",
              "    <tr>\n",
              "      <th>7</th>\n",
              "      <td>(MISC)</td>\n",
              "      <td>(FOOD)</td>\n",
              "      <td>0.015818</td>\n",
              "      <td>0.463291</td>\n",
              "      <td>0.011846</td>\n",
              "      <td>0.748871</td>\n",
              "      <td>1.616417</td>\n",
              "      <td>0.004517</td>\n",
              "      <td>2.137185</td>\n",
              "    </tr>\n",
              "    <tr>\n",
              "      <th>46</th>\n",
              "      <td>(LIQUOR &amp; TOBACCO, BEVERAGE)</td>\n",
              "      <td>(FOOD)</td>\n",
              "      <td>0.000329</td>\n",
              "      <td>0.463291</td>\n",
              "      <td>0.000243</td>\n",
              "      <td>0.739130</td>\n",
              "      <td>1.595393</td>\n",
              "      <td>0.000091</td>\n",
              "      <td>2.057386</td>\n",
              "    </tr>\n",
              "    <tr>\n",
              "      <th>43</th>\n",
              "      <td>(FOOD, MERCHANDISE)</td>\n",
              "      <td>(BEVERAGE)</td>\n",
              "      <td>0.000443</td>\n",
              "      <td>0.438927</td>\n",
              "      <td>0.000257</td>\n",
              "      <td>0.580645</td>\n",
              "      <td>1.322874</td>\n",
              "      <td>0.000063</td>\n",
              "      <td>1.337943</td>\n",
              "    </tr>\n",
              "    <tr>\n",
              "      <th>52</th>\n",
              "      <td>(MERCHANDISE, TOBACCO)</td>\n",
              "      <td>(BEVERAGE)</td>\n",
              "      <td>0.000271</td>\n",
              "      <td>0.438927</td>\n",
              "      <td>0.000157</td>\n",
              "      <td>0.578947</td>\n",
              "      <td>1.319006</td>\n",
              "      <td>0.000038</td>\n",
              "      <td>1.332548</td>\n",
              "    </tr>\n",
              "    <tr>\n",
              "      <th>12</th>\n",
              "      <td>(FOOD, MISC)</td>\n",
              "      <td>(BEVERAGE)</td>\n",
              "      <td>0.011846</td>\n",
              "      <td>0.438927</td>\n",
              "      <td>0.006416</td>\n",
              "      <td>0.541616</td>\n",
              "      <td>1.233955</td>\n",
              "      <td>0.001216</td>\n",
              "      <td>1.224025</td>\n",
              "    </tr>\n",
              "    <tr>\n",
              "      <th>54</th>\n",
              "      <td>(MERCHANDISE, TOBACCO)</td>\n",
              "      <td>(FOOD)</td>\n",
              "      <td>0.000271</td>\n",
              "      <td>0.463291</td>\n",
              "      <td>0.000143</td>\n",
              "      <td>0.526316</td>\n",
              "      <td>1.136038</td>\n",
              "      <td>0.000017</td>\n",
              "      <td>1.133053</td>\n",
              "    </tr>\n",
              "    <tr>\n",
              "      <th>28</th>\n",
              "      <td>(FOOD, MISC, TOBACCO)</td>\n",
              "      <td>(BEVERAGE)</td>\n",
              "      <td>0.003701</td>\n",
              "      <td>0.438927</td>\n",
              "      <td>0.001943</td>\n",
              "      <td>0.525097</td>\n",
              "      <td>1.196318</td>\n",
              "      <td>0.000319</td>\n",
              "      <td>1.181446</td>\n",
              "    </tr>\n",
              "    <tr>\n",
              "      <th>23</th>\n",
              "      <td>(MISC, TOBACCO)</td>\n",
              "      <td>(BEVERAGE)</td>\n",
              "      <td>0.004301</td>\n",
              "      <td>0.438927</td>\n",
              "      <td>0.002243</td>\n",
              "      <td>0.521595</td>\n",
              "      <td>1.188340</td>\n",
              "      <td>0.000356</td>\n",
              "      <td>1.172798</td>\n",
              "    </tr>\n",
              "    <tr>\n",
              "      <th>0</th>\n",
              "      <td>(BEVERAGE)</td>\n",
              "      <td>(FOOD)</td>\n",
              "      <td>0.438927</td>\n",
              "      <td>0.463291</td>\n",
              "      <td>0.225401</td>\n",
              "      <td>0.513527</td>\n",
              "      <td>1.108433</td>\n",
              "      <td>0.022050</td>\n",
              "      <td>1.103266</td>\n",
              "    </tr>\n",
              "    <tr>\n",
              "      <th>38</th>\n",
              "      <td>(LIQUOR &amp; TOBACCO)</td>\n",
              "      <td>(BEVERAGE)</td>\n",
              "      <td>0.000657</td>\n",
              "      <td>0.438927</td>\n",
              "      <td>0.000329</td>\n",
              "      <td>0.500000</td>\n",
              "      <td>1.139141</td>\n",
              "      <td>0.000040</td>\n",
              "      <td>1.122146</td>\n",
              "    </tr>\n",
              "    <tr>\n",
              "      <th>9</th>\n",
              "      <td>(MISC)</td>\n",
              "      <td>(BEVERAGE)</td>\n",
              "      <td>0.015818</td>\n",
              "      <td>0.438927</td>\n",
              "      <td>0.007845</td>\n",
              "      <td>0.495935</td>\n",
              "      <td>1.129880</td>\n",
              "      <td>0.000902</td>\n",
              "      <td>1.113096</td>\n",
              "    </tr>\n",
              "    <tr>\n",
              "      <th>1</th>\n",
              "      <td>(FOOD)</td>\n",
              "      <td>(BEVERAGE)</td>\n",
              "      <td>0.463291</td>\n",
              "      <td>0.438927</td>\n",
              "      <td>0.225401</td>\n",
              "      <td>0.486521</td>\n",
              "      <td>1.108433</td>\n",
              "      <td>0.022050</td>\n",
              "      <td>1.092690</td>\n",
              "    </tr>\n",
              "    <tr>\n",
              "      <th>42</th>\n",
              "      <td>(BEVERAGE, MERCHANDISE)</td>\n",
              "      <td>(FOOD)</td>\n",
              "      <td>0.000543</td>\n",
              "      <td>0.463291</td>\n",
              "      <td>0.000257</td>\n",
              "      <td>0.473684</td>\n",
              "      <td>1.022434</td>\n",
              "      <td>0.000006</td>\n",
              "      <td>1.019748</td>\n",
              "    </tr>\n",
              "    <tr>\n",
              "      <th>40</th>\n",
              "      <td>(LIQUOR &amp; TOBACCO)</td>\n",
              "      <td>(FOOD)</td>\n",
              "      <td>0.000657</td>\n",
              "      <td>0.463291</td>\n",
              "      <td>0.000300</td>\n",
              "      <td>0.456522</td>\n",
              "      <td>0.985390</td>\n",
              "      <td>-0.000004</td>\n",
              "      <td>0.987545</td>\n",
              "    </tr>\n",
              "    <tr>\n",
              "      <th>34</th>\n",
              "      <td>(MISC, TOBACCO)</td>\n",
              "      <td>(BEVERAGE, FOOD)</td>\n",
              "      <td>0.004301</td>\n",
              "      <td>0.225401</td>\n",
              "      <td>0.001943</td>\n",
              "      <td>0.451827</td>\n",
              "      <td>2.004550</td>\n",
              "      <td>0.000974</td>\n",
              "      <td>1.413057</td>\n",
              "    </tr>\n",
              "    <tr>\n",
              "      <th>2</th>\n",
              "      <td>(BEVERAGE, TOBACCO)</td>\n",
              "      <td>(FOOD)</td>\n",
              "      <td>0.154797</td>\n",
              "      <td>0.463291</td>\n",
              "      <td>0.069318</td>\n",
              "      <td>0.447798</td>\n",
              "      <td>0.966561</td>\n",
              "      <td>-0.002398</td>\n",
              "      <td>0.971945</td>\n",
              "    </tr>\n",
              "  </tbody>\n",
              "</table>\n",
              "</div>"
            ],
            "text/plain": [
              "                     antecedents       consequents  ...  leverage  conviction\n",
              "27     (BEVERAGE, MISC, TOBACCO)            (FOOD)  ...  0.000904    4.012542\n",
              "17               (MISC, TOBACCO)            (FOOD)  ...  0.001708    3.846418\n",
              "11              (BEVERAGE, MISC)            (FOOD)  ...  0.002781    2.946535\n",
              "47      (LIQUOR & TOBACCO, FOOD)        (BEVERAGE)  ...  0.000111    2.945632\n",
              "7                         (MISC)            (FOOD)  ...  0.004517    2.137185\n",
              "46  (LIQUOR & TOBACCO, BEVERAGE)            (FOOD)  ...  0.000091    2.057386\n",
              "43           (FOOD, MERCHANDISE)        (BEVERAGE)  ...  0.000063    1.337943\n",
              "52        (MERCHANDISE, TOBACCO)        (BEVERAGE)  ...  0.000038    1.332548\n",
              "12                  (FOOD, MISC)        (BEVERAGE)  ...  0.001216    1.224025\n",
              "54        (MERCHANDISE, TOBACCO)            (FOOD)  ...  0.000017    1.133053\n",
              "28         (FOOD, MISC, TOBACCO)        (BEVERAGE)  ...  0.000319    1.181446\n",
              "23               (MISC, TOBACCO)        (BEVERAGE)  ...  0.000356    1.172798\n",
              "0                     (BEVERAGE)            (FOOD)  ...  0.022050    1.103266\n",
              "38            (LIQUOR & TOBACCO)        (BEVERAGE)  ...  0.000040    1.122146\n",
              "9                         (MISC)        (BEVERAGE)  ...  0.000902    1.113096\n",
              "1                         (FOOD)        (BEVERAGE)  ...  0.022050    1.092690\n",
              "42       (BEVERAGE, MERCHANDISE)            (FOOD)  ...  0.000006    1.019748\n",
              "40            (LIQUOR & TOBACCO)            (FOOD)  ... -0.000004    0.987545\n",
              "34               (MISC, TOBACCO)  (BEVERAGE, FOOD)  ...  0.000974    1.413057\n",
              "2            (BEVERAGE, TOBACCO)            (FOOD)  ... -0.002398    0.971945\n",
              "\n",
              "[20 rows x 9 columns]"
            ]
          },
          "metadata": {
            "tags": []
          },
          "execution_count": 115
        }
      ]
    },
    {
      "cell_type": "code",
      "metadata": {
        "colab": {
          "base_uri": "https://localhost:8080/",
          "height": 204
        },
        "id": "b7n9ANNE3L_H",
        "outputId": "23724916-c7dc-4656-ebd8-89702a27a8cf"
      },
      "source": [
        "basket.tail()"
      ],
      "execution_count": 121,
      "outputs": [
        {
          "output_type": "execute_result",
          "data": {
            "text/html": [
              "<div>\n",
              "<style scoped>\n",
              "    .dataframe tbody tr th:only-of-type {\n",
              "        vertical-align: middle;\n",
              "    }\n",
              "\n",
              "    .dataframe tbody tr th {\n",
              "        vertical-align: top;\n",
              "    }\n",
              "\n",
              "    .dataframe thead th {\n",
              "        text-align: right;\n",
              "    }\n",
              "</style>\n",
              "<table border=\"1\" class=\"dataframe\">\n",
              "  <thead>\n",
              "    <tr style=\"text-align: right;\">\n",
              "      <th></th>\n",
              "      <th>antecedents</th>\n",
              "      <th>consequents</th>\n",
              "      <th>antecedent support</th>\n",
              "      <th>consequent support</th>\n",
              "      <th>support</th>\n",
              "      <th>confidence</th>\n",
              "      <th>lift</th>\n",
              "      <th>leverage</th>\n",
              "      <th>conviction</th>\n",
              "    </tr>\n",
              "  </thead>\n",
              "  <tbody>\n",
              "    <tr>\n",
              "      <th>45</th>\n",
              "      <td>(FOOD)</td>\n",
              "      <td>(BEVERAGE, MERCHANDISE)</td>\n",
              "      <td>0.463291</td>\n",
              "      <td>0.000543</td>\n",
              "      <td>0.000257</td>\n",
              "      <td>0.000555</td>\n",
              "      <td>1.022434</td>\n",
              "      <td>0.000006</td>\n",
              "      <td>1.000012</td>\n",
              "    </tr>\n",
              "    <tr>\n",
              "      <th>50</th>\n",
              "      <td>(BEVERAGE)</td>\n",
              "      <td>(LIQUOR &amp; TOBACCO, FOOD)</td>\n",
              "      <td>0.438927</td>\n",
              "      <td>0.000300</td>\n",
              "      <td>0.000243</td>\n",
              "      <td>0.000553</td>\n",
              "      <td>1.844324</td>\n",
              "      <td>0.000111</td>\n",
              "      <td>1.000254</td>\n",
              "    </tr>\n",
              "    <tr>\n",
              "      <th>51</th>\n",
              "      <td>(FOOD)</td>\n",
              "      <td>(LIQUOR &amp; TOBACCO, BEVERAGE)</td>\n",
              "      <td>0.463291</td>\n",
              "      <td>0.000329</td>\n",
              "      <td>0.000243</td>\n",
              "      <td>0.000524</td>\n",
              "      <td>1.595393</td>\n",
              "      <td>0.000091</td>\n",
              "      <td>1.000196</td>\n",
              "    </tr>\n",
              "    <tr>\n",
              "      <th>53</th>\n",
              "      <td>(BEVERAGE)</td>\n",
              "      <td>(MERCHANDISE, TOBACCO)</td>\n",
              "      <td>0.438927</td>\n",
              "      <td>0.000271</td>\n",
              "      <td>0.000157</td>\n",
              "      <td>0.000358</td>\n",
              "      <td>1.319006</td>\n",
              "      <td>0.000038</td>\n",
              "      <td>1.000087</td>\n",
              "    </tr>\n",
              "    <tr>\n",
              "      <th>55</th>\n",
              "      <td>(FOOD)</td>\n",
              "      <td>(MERCHANDISE, TOBACCO)</td>\n",
              "      <td>0.463291</td>\n",
              "      <td>0.000271</td>\n",
              "      <td>0.000143</td>\n",
              "      <td>0.000308</td>\n",
              "      <td>1.136038</td>\n",
              "      <td>0.000017</td>\n",
              "      <td>1.000037</td>\n",
              "    </tr>\n",
              "  </tbody>\n",
              "</table>\n",
              "</div>"
            ],
            "text/plain": [
              "   antecedents                   consequents  ...  leverage  conviction\n",
              "45      (FOOD)       (BEVERAGE, MERCHANDISE)  ...  0.000006    1.000012\n",
              "50  (BEVERAGE)      (LIQUOR & TOBACCO, FOOD)  ...  0.000111    1.000254\n",
              "51      (FOOD)  (LIQUOR & TOBACCO, BEVERAGE)  ...  0.000091    1.000196\n",
              "53  (BEVERAGE)        (MERCHANDISE, TOBACCO)  ...  0.000038    1.000087\n",
              "55      (FOOD)        (MERCHANDISE, TOBACCO)  ...  0.000017    1.000037\n",
              "\n",
              "[5 rows x 9 columns]"
            ]
          },
          "metadata": {
            "tags": []
          },
          "execution_count": 121
        }
      ]
    },
    {
      "cell_type": "code",
      "metadata": {
        "colab": {
          "base_uri": "https://localhost:8080/",
          "height": 0
        },
        "id": "7zzM1QV04epH",
        "outputId": "8c2332b8-4624-4174-a266-8fc7a1d1b11b"
      },
      "source": [
        "basket.shape"
      ],
      "execution_count": 111,
      "outputs": [
        {
          "output_type": "execute_result",
          "data": {
            "text/plain": [
              "(56, 9)"
            ]
          },
          "metadata": {
            "tags": []
          },
          "execution_count": 111
        }
      ]
    },
    {
      "cell_type": "code",
      "metadata": {
        "colab": {
          "base_uri": "https://localhost:8080/",
          "height": 390
        },
        "id": "xedXSE444mLW",
        "outputId": "2ee8580d-4581-4c4a-8a44-fcdf83a3d4b1"
      },
      "source": [
        "basket.describe(include=\"all\")"
      ],
      "execution_count": 112,
      "outputs": [
        {
          "output_type": "execute_result",
          "data": {
            "text/html": [
              "<div>\n",
              "<style scoped>\n",
              "    .dataframe tbody tr th:only-of-type {\n",
              "        vertical-align: middle;\n",
              "    }\n",
              "\n",
              "    .dataframe tbody tr th {\n",
              "        vertical-align: top;\n",
              "    }\n",
              "\n",
              "    .dataframe thead th {\n",
              "        text-align: right;\n",
              "    }\n",
              "</style>\n",
              "<table border=\"1\" class=\"dataframe\">\n",
              "  <thead>\n",
              "    <tr style=\"text-align: right;\">\n",
              "      <th></th>\n",
              "      <th>antecedents</th>\n",
              "      <th>consequents</th>\n",
              "      <th>antecedent support</th>\n",
              "      <th>consequent support</th>\n",
              "      <th>support</th>\n",
              "      <th>confidence</th>\n",
              "      <th>lift</th>\n",
              "      <th>leverage</th>\n",
              "      <th>conviction</th>\n",
              "    </tr>\n",
              "  </thead>\n",
              "  <tbody>\n",
              "    <tr>\n",
              "      <th>count</th>\n",
              "      <td>56</td>\n",
              "      <td>56</td>\n",
              "      <td>56.000000</td>\n",
              "      <td>56.000000</td>\n",
              "      <td>56.000000</td>\n",
              "      <td>56.000000</td>\n",
              "      <td>56.000000</td>\n",
              "      <td>56.000000</td>\n",
              "      <td>56.000000</td>\n",
              "    </tr>\n",
              "    <tr>\n",
              "      <th>unique</th>\n",
              "      <td>20</td>\n",
              "      <td>20</td>\n",
              "      <td>NaN</td>\n",
              "      <td>NaN</td>\n",
              "      <td>NaN</td>\n",
              "      <td>NaN</td>\n",
              "      <td>NaN</td>\n",
              "      <td>NaN</td>\n",
              "      <td>NaN</td>\n",
              "    </tr>\n",
              "    <tr>\n",
              "      <th>top</th>\n",
              "      <td>(FOOD)</td>\n",
              "      <td>(FOOD)</td>\n",
              "      <td>NaN</td>\n",
              "      <td>NaN</td>\n",
              "      <td>NaN</td>\n",
              "      <td>NaN</td>\n",
              "      <td>NaN</td>\n",
              "      <td>NaN</td>\n",
              "      <td>NaN</td>\n",
              "    </tr>\n",
              "    <tr>\n",
              "      <th>freq</th>\n",
              "      <td>10</td>\n",
              "      <td>10</td>\n",
              "      <td>NaN</td>\n",
              "      <td>NaN</td>\n",
              "      <td>NaN</td>\n",
              "      <td>NaN</td>\n",
              "      <td>NaN</td>\n",
              "      <td>NaN</td>\n",
              "      <td>NaN</td>\n",
              "    </tr>\n",
              "    <tr>\n",
              "      <th>mean</th>\n",
              "      <td>NaN</td>\n",
              "      <td>NaN</td>\n",
              "      <td>0.196128</td>\n",
              "      <td>0.196128</td>\n",
              "      <td>0.015427</td>\n",
              "      <td>0.266461</td>\n",
              "      <td>1.468697</td>\n",
              "      <td>0.001331</td>\n",
              "      <td>1.273220</td>\n",
              "    </tr>\n",
              "    <tr>\n",
              "      <th>std</th>\n",
              "      <td>NaN</td>\n",
              "      <td>NaN</td>\n",
              "      <td>0.201844</td>\n",
              "      <td>0.201844</td>\n",
              "      <td>0.044374</td>\n",
              "      <td>0.281826</td>\n",
              "      <td>0.564665</td>\n",
              "      <td>0.004314</td>\n",
              "      <td>0.658307</td>\n",
              "    </tr>\n",
              "    <tr>\n",
              "      <th>min</th>\n",
              "      <td>NaN</td>\n",
              "      <td>NaN</td>\n",
              "      <td>0.000271</td>\n",
              "      <td>0.000271</td>\n",
              "      <td>0.000143</td>\n",
              "      <td>0.000308</td>\n",
              "      <td>0.916199</td>\n",
              "      <td>-0.004228</td>\n",
              "      <td>0.956966</td>\n",
              "    </tr>\n",
              "    <tr>\n",
              "      <th>25%</th>\n",
              "      <td>NaN</td>\n",
              "      <td>NaN</td>\n",
              "      <td>0.006959</td>\n",
              "      <td>0.006959</td>\n",
              "      <td>0.000289</td>\n",
              "      <td>0.010854</td>\n",
              "      <td>1.124518</td>\n",
              "      <td>0.000040</td>\n",
              "      <td>1.000239</td>\n",
              "    </tr>\n",
              "    <tr>\n",
              "      <th>50%</th>\n",
              "      <td>NaN</td>\n",
              "      <td>NaN</td>\n",
              "      <td>0.154797</td>\n",
              "      <td>0.154797</td>\n",
              "      <td>0.001943</td>\n",
              "      <td>0.153773</td>\n",
              "      <td>1.320940</td>\n",
              "      <td>0.000337</td>\n",
              "      <td>1.010540</td>\n",
              "    </tr>\n",
              "    <tr>\n",
              "      <th>75%</th>\n",
              "      <td>NaN</td>\n",
              "      <td>NaN</td>\n",
              "      <td>0.438927</td>\n",
              "      <td>0.438927</td>\n",
              "      <td>0.006416</td>\n",
              "      <td>0.496951</td>\n",
              "      <td>1.767065</td>\n",
              "      <td>0.001092</td>\n",
              "      <td>1.174960</td>\n",
              "    </tr>\n",
              "    <tr>\n",
              "      <th>max</th>\n",
              "      <td>NaN</td>\n",
              "      <td>NaN</td>\n",
              "      <td>0.463291</td>\n",
              "      <td>0.463291</td>\n",
              "      <td>0.225401</td>\n",
              "      <td>0.866242</td>\n",
              "      <td>3.817435</td>\n",
              "      <td>0.022050</td>\n",
              "      <td>4.012542</td>\n",
              "    </tr>\n",
              "  </tbody>\n",
              "</table>\n",
              "</div>"
            ],
            "text/plain": [
              "       antecedents consequents  ...   leverage  conviction\n",
              "count           56          56  ...  56.000000   56.000000\n",
              "unique          20          20  ...        NaN         NaN\n",
              "top         (FOOD)      (FOOD)  ...        NaN         NaN\n",
              "freq            10          10  ...        NaN         NaN\n",
              "mean           NaN         NaN  ...   0.001331    1.273220\n",
              "std            NaN         NaN  ...   0.004314    0.658307\n",
              "min            NaN         NaN  ...  -0.004228    0.956966\n",
              "25%            NaN         NaN  ...   0.000040    1.000239\n",
              "50%            NaN         NaN  ...   0.000337    1.010540\n",
              "75%            NaN         NaN  ...   0.001092    1.174960\n",
              "max            NaN         NaN  ...   0.022050    4.012542\n",
              "\n",
              "[11 rows x 9 columns]"
            ]
          },
          "metadata": {
            "tags": []
          },
          "execution_count": 112
        }
      ]
    },
    {
      "cell_type": "code",
      "metadata": {
        "id": "2pBOAqUS8G1b",
        "colab": {
          "base_uri": "https://localhost:8080/",
          "height": 441
        },
        "outputId": "acb700d8-3d71-4470-866f-8e317c1522c8"
      },
      "source": [
        "basket['consequents'].value_counts().plot(kind = 'bar')"
      ],
      "execution_count": 113,
      "outputs": [
        {
          "output_type": "execute_result",
          "data": {
            "text/plain": [
              "<matplotlib.axes._subplots.AxesSubplot at 0x7f6c96cf3588>"
            ]
          },
          "metadata": {
            "tags": []
          },
          "execution_count": 113
        },
        {
          "output_type": "display_data",
          "data": {
            "image/png": "[encoded data removed]",
            "text/plain": [
              "<Figure size 432x288 with 1 Axes>"
            ]
          },
          "metadata": {
            "tags": [],
            "needs_background": "light"
          }
        }
      ]
    },
    {
      "cell_type": "code",
      "metadata": {
        "colab": {
          "base_uri": "https://localhost:8080/",
          "height": 441
        },
        "id": "y0AVjog_J1mT",
        "outputId": "8ccb90f4-3bfe-49b2-d180-52055dc737b6"
      },
      "source": [
        "basket['antecedents'].value_counts().plot(kind ='bar')"
      ],
      "execution_count": 114,
      "outputs": [
        {
          "output_type": "execute_result",
          "data": {
            "text/plain": [
              "<matplotlib.axes._subplots.AxesSubplot at 0x7f6c96ce49b0>"
            ]
          },
          "metadata": {
            "tags": []
          },
          "execution_count": 114
        },
        {
          "output_type": "display_data",
          "data": {
            "image/png": "[encoded data removed]",
            "text/plain": [
              "<Figure size 432x288 with 1 Axes>"
            ]
          },
          "metadata": {
            "tags": [],
            "needs_background": "light"
          }
        }
      ]
    },
    {
      "cell_type": "code",
      "metadata": {
        "colab": {
          "base_uri": "https://localhost:8080/",
          "height": 296
        },
        "id": "1-i4rG_ESdDx",
        "outputId": "d2d1099c-650e-4d71-f7fa-58674c017afe"
      },
      "source": [
        "basket.groupby(['consequents'])['lift'].max().plot()"
      ],
      "execution_count": 117,
      "outputs": [
        {
          "output_type": "execute_result",
          "data": {
            "text/plain": [
              "<matplotlib.axes._subplots.AxesSubplot at 0x7f6c97199c88>"
            ]
          },
          "metadata": {
            "tags": []
          },
          "execution_count": 117
        },
        {
          "output_type": "display_data",
          "data": {
            "image/png": "[encoded data removed]",
            "text/plain": [
              "<Figure size 432x288 with 1 Axes>"
            ]
          },
          "metadata": {
            "tags": [],
            "needs_background": "light"
          }
        }
      ]
    },
    {
      "cell_type": "code",
      "metadata": {
        "colab": {
          "base_uri": "https://localhost:8080/",
          "height": 296
        },
        "id": "A9K3CzHAwpo4",
        "outputId": "814011cb-4f6a-42d4-e661-1b22f6bf9114"
      },
      "source": [
        "basket.groupby(['antecedents'])['lift'].max().plot()"
      ],
      "execution_count": 119,
      "outputs": [
        {
          "output_type": "execute_result",
          "data": {
            "text/plain": [
              "<matplotlib.axes._subplots.AxesSubplot at 0x7f6c97199240>"
            ]
          },
          "metadata": {
            "tags": []
          },
          "execution_count": 119
        },
        {
          "output_type": "display_data",
          "data": {
            "image/png": "[encoded data removed]",
            "text/plain": [
              "<Figure size 432x288 with 1 Axes>"
            ]
          },
          "metadata": {
            "tags": [],
            "needs_background": "light"
          }
        }
      ]
    },
    {
      "cell_type": "code",
      "metadata": {
        "colab": {
          "base_uri": "https://localhost:8080/",
          "height": 296
        },
        "id": "W4dN0-7dwSTV",
        "outputId": "eadc90c6-3898-41b3-f3ee-078f10d7583b"
      },
      "source": [
        "basket.groupby(['consequents'])['confidence'].max().plot()"
      ],
      "execution_count": 118,
      "outputs": [
        {
          "output_type": "execute_result",
          "data": {
            "text/plain": [
              "<matplotlib.axes._subplots.AxesSubplot at 0x7f6c9708e860>"
            ]
          },
          "metadata": {
            "tags": []
          },
          "execution_count": 118
        },
        {
          "output_type": "display_data",
          "data": {
            "image/png": "[encoded data removed]",
            "text/plain": [
              "<Figure size 432x288 with 1 Axes>"
            ]
          },
          "metadata": {
            "tags": [],
            "needs_background": "light"
          }
        }
      ]
    },
    {
      "cell_type": "code",
      "metadata": {
        "colab": {
          "base_uri": "https://localhost:8080/",
          "height": 296
        },
        "id": "YnFEj5scwmYV",
        "outputId": "1d238fd5-e8f8-4553-d8c8-ef2c21ef5493"
      },
      "source": [
        "basket.groupby(['antecedents'])['confidence'].max().plot()"
      ],
      "execution_count": 120,
      "outputs": [
        {
          "output_type": "execute_result",
          "data": {
            "text/plain": [
              "<matplotlib.axes._subplots.AxesSubplot at 0x7f6c970437b8>"
            ]
          },
          "metadata": {
            "tags": []
          },
          "execution_count": 120
        },
        {
          "output_type": "display_data",
          "data": {
            "image/png": "[encoded data removed]",
            "text/plain": [
              "<Figure size 432x288 with 1 Axes>"
            ]
          },
          "metadata": {
            "tags": [],
            "needs_background": "light"
          }
        }
      ]
    },
    {
      "cell_type": "code",
      "metadata": {
        "id": "sUw0ukK6w-Om"
      },
      "source": [
        ""
      ],
      "execution_count": null,
      "outputs": []
    }
  ]
}